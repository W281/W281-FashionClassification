{
 "cells": [
  {
   "cell_type": "markdown",
   "id": "b7bd7c45",
   "metadata": {},
   "source": [
    "##  EDA of our RGB Image Train Dataset  and UMAP Mappings"
   ]
  },
  {
   "cell_type": "markdown",
   "id": "2cc8d183",
   "metadata": {},
   "source": [
    "**version of umap 0.3.10, did work, but latest version 0.5.x did not find tensorflow files**"
   ]
  },
  {
   "cell_type": "code",
   "execution_count": 1,
   "id": "fbe2d04a",
   "metadata": {
    "scrolled": false
   },
   "outputs": [],
   "source": [
    "#import umap\n",
    "import umap.umap_ as umap\n"
   ]
  },
  {
   "cell_type": "code",
   "execution_count": 2,
   "id": "8c4b4c42",
   "metadata": {},
   "outputs": [],
   "source": [
    "import numpy as np\n",
    "import pandas as pd\n",
    "import datashader as ds\n",
    "import datashader.utils as utils\n",
    "import datashader.transfer_functions as tf\n",
    "import matplotlib.pyplot as plt\n",
    "import seaborn as sns"
   ]
  },
  {
   "cell_type": "markdown",
   "id": "003da811",
   "metadata": {},
   "source": [
    "\n",
    "**UMAP (Uniform Manifold Approximation and Projection) can be used in data pre-processing to reduce its dimensionality, which can help with visualization and potentially improve the performance of machine learning models.**\n",
    "\n"
   ]
  },
  {
   "cell_type": "code",
   "execution_count": 3,
   "id": "19d963ec",
   "metadata": {},
   "outputs": [],
   "source": [
    "\n",
    "source_df = pd.read_csv('output_rgb.csv')\n",
    "\n"
   ]
  },
  {
   "cell_type": "code",
   "execution_count": 4,
   "id": "f08ea7d9",
   "metadata": {},
   "outputs": [
    {
     "data": {
      "text/html": [
       "<div>\n",
       "<style scoped>\n",
       "    .dataframe tbody tr th:only-of-type {\n",
       "        vertical-align: middle;\n",
       "    }\n",
       "\n",
       "    .dataframe tbody tr th {\n",
       "        vertical-align: top;\n",
       "    }\n",
       "\n",
       "    .dataframe thead th {\n",
       "        text-align: right;\n",
       "    }\n",
       "</style>\n",
       "<table border=\"1\" class=\"dataframe\">\n",
       "  <thead>\n",
       "    <tr style=\"text-align: right;\">\n",
       "      <th></th>\n",
       "      <th>label</th>\n",
       "      <th>pixel0</th>\n",
       "      <th>pixel1</th>\n",
       "      <th>pixel2</th>\n",
       "      <th>pixel3</th>\n",
       "      <th>pixel4</th>\n",
       "      <th>pixel5</th>\n",
       "      <th>pixel6</th>\n",
       "      <th>pixel7</th>\n",
       "      <th>pixel8</th>\n",
       "      <th>...</th>\n",
       "      <th>pixel14390</th>\n",
       "      <th>pixel14391</th>\n",
       "      <th>pixel14392</th>\n",
       "      <th>pixel14393</th>\n",
       "      <th>pixel14394</th>\n",
       "      <th>pixel14395</th>\n",
       "      <th>pixel14396</th>\n",
       "      <th>pixel14397</th>\n",
       "      <th>pixel14398</th>\n",
       "      <th>pixel14399</th>\n",
       "    </tr>\n",
       "  </thead>\n",
       "  <tbody>\n",
       "    <tr>\n",
       "      <th>0</th>\n",
       "      <td>0</td>\n",
       "      <td>255</td>\n",
       "      <td>255</td>\n",
       "      <td>255</td>\n",
       "      <td>255</td>\n",
       "      <td>255</td>\n",
       "      <td>255</td>\n",
       "      <td>255</td>\n",
       "      <td>255</td>\n",
       "      <td>255</td>\n",
       "      <td>...</td>\n",
       "      <td>255</td>\n",
       "      <td>255</td>\n",
       "      <td>255</td>\n",
       "      <td>255</td>\n",
       "      <td>255</td>\n",
       "      <td>255</td>\n",
       "      <td>255</td>\n",
       "      <td>255</td>\n",
       "      <td>255</td>\n",
       "      <td>255</td>\n",
       "    </tr>\n",
       "    <tr>\n",
       "      <th>1</th>\n",
       "      <td>2</td>\n",
       "      <td>255</td>\n",
       "      <td>255</td>\n",
       "      <td>255</td>\n",
       "      <td>255</td>\n",
       "      <td>255</td>\n",
       "      <td>255</td>\n",
       "      <td>255</td>\n",
       "      <td>255</td>\n",
       "      <td>255</td>\n",
       "      <td>...</td>\n",
       "      <td>255</td>\n",
       "      <td>255</td>\n",
       "      <td>255</td>\n",
       "      <td>255</td>\n",
       "      <td>255</td>\n",
       "      <td>255</td>\n",
       "      <td>255</td>\n",
       "      <td>255</td>\n",
       "      <td>255</td>\n",
       "      <td>255</td>\n",
       "    </tr>\n",
       "    <tr>\n",
       "      <th>2</th>\n",
       "      <td>2</td>\n",
       "      <td>255</td>\n",
       "      <td>255</td>\n",
       "      <td>255</td>\n",
       "      <td>255</td>\n",
       "      <td>255</td>\n",
       "      <td>255</td>\n",
       "      <td>255</td>\n",
       "      <td>255</td>\n",
       "      <td>255</td>\n",
       "      <td>...</td>\n",
       "      <td>255</td>\n",
       "      <td>255</td>\n",
       "      <td>255</td>\n",
       "      <td>255</td>\n",
       "      <td>255</td>\n",
       "      <td>255</td>\n",
       "      <td>255</td>\n",
       "      <td>255</td>\n",
       "      <td>255</td>\n",
       "      <td>255</td>\n",
       "    </tr>\n",
       "    <tr>\n",
       "      <th>3</th>\n",
       "      <td>3</td>\n",
       "      <td>255</td>\n",
       "      <td>255</td>\n",
       "      <td>255</td>\n",
       "      <td>255</td>\n",
       "      <td>255</td>\n",
       "      <td>255</td>\n",
       "      <td>255</td>\n",
       "      <td>255</td>\n",
       "      <td>255</td>\n",
       "      <td>...</td>\n",
       "      <td>255</td>\n",
       "      <td>255</td>\n",
       "      <td>255</td>\n",
       "      <td>255</td>\n",
       "      <td>255</td>\n",
       "      <td>255</td>\n",
       "      <td>255</td>\n",
       "      <td>255</td>\n",
       "      <td>255</td>\n",
       "      <td>255</td>\n",
       "    </tr>\n",
       "    <tr>\n",
       "      <th>4</th>\n",
       "      <td>1</td>\n",
       "      <td>255</td>\n",
       "      <td>255</td>\n",
       "      <td>255</td>\n",
       "      <td>255</td>\n",
       "      <td>255</td>\n",
       "      <td>255</td>\n",
       "      <td>255</td>\n",
       "      <td>255</td>\n",
       "      <td>255</td>\n",
       "      <td>...</td>\n",
       "      <td>255</td>\n",
       "      <td>255</td>\n",
       "      <td>255</td>\n",
       "      <td>255</td>\n",
       "      <td>255</td>\n",
       "      <td>255</td>\n",
       "      <td>255</td>\n",
       "      <td>255</td>\n",
       "      <td>255</td>\n",
       "      <td>255</td>\n",
       "    </tr>\n",
       "  </tbody>\n",
       "</table>\n",
       "<p>5 rows × 14401 columns</p>\n",
       "</div>"
      ],
      "text/plain": [
       "   label  pixel0  pixel1  pixel2  pixel3  pixel4  pixel5  pixel6  pixel7  \\\n",
       "0      0     255     255     255     255     255     255     255     255   \n",
       "1      2     255     255     255     255     255     255     255     255   \n",
       "2      2     255     255     255     255     255     255     255     255   \n",
       "3      3     255     255     255     255     255     255     255     255   \n",
       "4      1     255     255     255     255     255     255     255     255   \n",
       "\n",
       "   pixel8  ...  pixel14390  pixel14391  pixel14392  pixel14393  pixel14394  \\\n",
       "0     255  ...         255         255         255         255         255   \n",
       "1     255  ...         255         255         255         255         255   \n",
       "2     255  ...         255         255         255         255         255   \n",
       "3     255  ...         255         255         255         255         255   \n",
       "4     255  ...         255         255         255         255         255   \n",
       "\n",
       "   pixel14395  pixel14396  pixel14397  pixel14398  pixel14399  \n",
       "0         255         255         255         255         255  \n",
       "1         255         255         255         255         255  \n",
       "2         255         255         255         255         255  \n",
       "3         255         255         255         255         255  \n",
       "4         255         255         255         255         255  \n",
       "\n",
       "[5 rows x 14401 columns]"
      ]
     },
     "execution_count": 4,
     "metadata": {},
     "output_type": "execute_result"
    }
   ],
   "source": [
    "source_df.head()"
   ]
  },
  {
   "cell_type": "markdown",
   "id": "1a45754b",
   "metadata": {},
   "source": [
    "**our dataset:**</p>\n",
    "articleType</p>\n",
    "Casual Shoes    1322</p>\n",
    "Watches         1249</p>\n",
    "Pants           1139</p>\n",
    "Tshirts         1116</p>"
   ]
  },
  {
   "cell_type": "markdown",
   "id": "db1c16b2",
   "metadata": {},
   "source": [
    "**We take values starting at 1, because at 0, the content is not a pixel but the label:**"
   ]
  },
  {
   "cell_type": "code",
   "execution_count": 5,
   "id": "138298aa",
   "metadata": {},
   "outputs": [],
   "source": [
    "\n",
    "#data = source_df.iloc[:, :source_df.shape[1]].values.astype(np.float32)\n",
    "data = source_df.iloc[:, 1:].values.astype(np.float32)\n"
   ]
  },
  {
   "cell_type": "code",
   "execution_count": 6,
   "id": "7724fa99",
   "metadata": {},
   "outputs": [],
   "source": [
    "#target = source_df['class'].values\n",
    "target = source_df['label'].values"
   ]
  },
  {
   "cell_type": "code",
   "execution_count": 7,
   "id": "c5095a98",
   "metadata": {},
   "outputs": [],
   "source": [
    "label_key = {\n",
    "    \"Pants\": 0, \n",
    "    \"Tshirts\":1,\n",
    "    \"Watches\":2, \n",
    "    \"Casual Shoes\":3 \n",
    " \n",
    "}"
   ]
  },
  {
   "cell_type": "markdown",
   "id": "18b83ff9",
   "metadata": {},
   "source": [
    "**The dictionary below is needed for coloring the clusters. An interesting visualization is to label all the test data as 5: unknown, and color map it to black. This can be optional after obtaining results.**"
   ]
  },
  {
   "cell_type": "code",
   "execution_count": 8,
   "id": "1a71cc44",
   "metadata": {},
   "outputs": [],
   "source": [
    "color_key = {\n",
    "    \"0\": \"#FF0000\",  # Bright Red, Pants\n",
    "    \"1\": \"#00FF00\",  # Bright Green, T-shirts\n",
    "    \"2\": \"#0000FF\",  # Bright Blue, Watches\n",
    "    \"3\": \"#FFFF00\",  # Bright Yellow, Casual Shoes\n",
    "\n",
    "}"
   ]
  },
  {
   "cell_type": "markdown",
   "id": "1fa9a13a",
   "metadata": {},
   "source": [
    "**A dip into UMAP theory**\n",
    "UMAP, at its core, works very similarly to t-SNE - both use graph layout algorithms to arrange data in low-dimensional space. In the simplest sense, UMAP constructs a high dimensional graph representation of the data then optimizes a low-dimensional graph to be as structurally similar as possible.</p>\n",
    "https://pair-code.github.io/understanding-umap/\n"
   ]
  },
  {
   "cell_type": "markdown",
   "id": "813118eb",
   "metadata": {},
   "source": [
    "**The mappoing below with nearest neighborhood of 30 and a 2D mapping projection, is the result of exploring various hyperparameter ssettings, as showcased futher below.** "
   ]
  },
  {
   "cell_type": "markdown",
   "id": "048e459e",
   "metadata": {},
   "source": [
    "The color was added to vis the mapping. We can clearly see the data has mapped into distinct clusters. This is an opportunity, where we can fit the transmformed test data using a classifier. A new image with an unknown label, would first be transformed by UMAP into two dimensions. Then the transformed unknown image would be provided as input to our classifer model to get a label as the output. Due to the clusters, the appropiate classifier model seems to be a K-Nearest-Neighbor model or a Label Propagation Algorithm from Neo4J. However we are not committing to any of these classifier/labeling methods. "
   ]
  },
  {
   "cell_type": "code",
   "execution_count": 9,
   "id": "253c67ff",
   "metadata": {},
   "outputs": [
    {
     "data": {
      "image/png": "[encoded data removed]",
      "text/plain": [
       "<Figure size 432x432 with 1 Axes>"
      ]
     },
     "metadata": {},
     "output_type": "display_data"
    }
   ],
   "source": [
    "# Initialize UMAP\n",
    "reducer = umap.UMAP(n_neighbors = 30, random_state=42)\n",
    "#reducer = umap(random_state=42)\n",
    "\n",
    "\n",
    "# Fit and transform the data\n",
    "embedding = reducer.fit_transform(data)\n",
    "\n",
    "# Prepare the data for visualization\n",
    "df = pd.DataFrame(embedding, columns=('x', 'y'))\n",
    "#df['class'] = pd.Series([str(x) for x in target], dtype=\"category\")\n",
    "df['class'] = pd.Series([str(x) for x in target], dtype=\"category\")\n",
    "\n",
    "# Visualize the data using datashader\n",
    "#cvs = ds.Canvas(plot_width=400, plot_height=400)\n",
    "cvs = ds.Canvas(plot_width=100, plot_height=100)\n",
    "agg = cvs.points(df, 'x', 'y', ds.count_cat('class'))\n",
    "img = tf.shade(agg, color_key=color_key, how='eq_hist')\n",
    "utils.export_image(img, filename='rgb_dataset30', background='white')\n",
    "\n",
    "# Display the image\n",
    "image = plt.imread('rgb_dataset30.png')\n",
    "fig, ax = plt.subplots(figsize=(6, 6))\n",
    "plt.imshow(image)\n",
    "plt.setp(ax, xticks=[], yticks=[])\n",
    "plt.title(\"RGB full size img mapped into two dimensions by UMAP w n=30\", fontsize=12)\n",
    "plt.show()\n",
    "\n",
    "\n"
   ]
  },
  {
   "cell_type": "markdown",
   "id": "64030603",
   "metadata": {},
   "source": [
    "**The team tried several nearest_neighbors values and the best one is n=30**"
   ]
  },
  {
   "cell_type": "markdown",
   "id": "565d2197",
   "metadata": {},
   "source": [
    "**Export embedding to CSV**</p>\n",
    "The file below embedded_gray_data.csv has been later superseded "
   ]
  },
  {
   "cell_type": "markdown",
   "id": "bce40de6",
   "metadata": {},
   "source": [
    "**We export the new x and y coordinates for each train image. We are doing this such that we can upload the new test data at a later convenient time to train/fit our classifier model (and avoid running UMAP everytime, therefore saving time and allowing for reproducibility). UMAP is an stochastic output, therefore everytime its run, the x and y mappings are different**"
   ]
  },
  {
   "cell_type": "code",
   "execution_count": 67,
   "id": "01ac5fd0",
   "metadata": {},
   "outputs": [],
   "source": [
    "# Ensure target is a 2D array with shape (3377, 1)\n",
    "full_target = target[:, np.newaxis]\n",
    "\n",
    "# Concatenate along the second axis\n",
    "emb_target = np.concatenate((full_target, embedding), axis=1)\n",
    "\n",
    "column_names = ['label','embedding x', 'embedding y']\n",
    "embedding_df = pd.DataFrame( emb_target, columns=column_names)\n",
    "embedding_df.head()\n",
    "\n",
    "embedding_df.to_csv('umap_rgb_mapping.csv', index=False, header=True)  "
   ]
  },
  {
   "cell_type": "code",
   "execution_count": 69,
   "id": "2b2be032",
   "metadata": {},
   "outputs": [
    {
     "data": {
      "text/html": [
       "<div>\n",
       "<style scoped>\n",
       "    .dataframe tbody tr th:only-of-type {\n",
       "        vertical-align: middle;\n",
       "    }\n",
       "\n",
       "    .dataframe tbody tr th {\n",
       "        vertical-align: top;\n",
       "    }\n",
       "\n",
       "    .dataframe thead th {\n",
       "        text-align: right;\n",
       "    }\n",
       "</style>\n",
       "<table border=\"1\" class=\"dataframe\">\n",
       "  <thead>\n",
       "    <tr style=\"text-align: right;\">\n",
       "      <th></th>\n",
       "      <th>label</th>\n",
       "      <th>embedding x</th>\n",
       "      <th>embedding y</th>\n",
       "    </tr>\n",
       "  </thead>\n",
       "  <tbody>\n",
       "    <tr>\n",
       "      <th>0</th>\n",
       "      <td>0.0</td>\n",
       "      <td>7.230391</td>\n",
       "      <td>9.234395</td>\n",
       "    </tr>\n",
       "    <tr>\n",
       "      <th>1</th>\n",
       "      <td>2.0</td>\n",
       "      <td>3.608030</td>\n",
       "      <td>-0.909678</td>\n",
       "    </tr>\n",
       "    <tr>\n",
       "      <th>2</th>\n",
       "      <td>2.0</td>\n",
       "      <td>3.318318</td>\n",
       "      <td>-2.557763</td>\n",
       "    </tr>\n",
       "    <tr>\n",
       "      <th>3</th>\n",
       "      <td>3.0</td>\n",
       "      <td>-8.564292</td>\n",
       "      <td>5.395351</td>\n",
       "    </tr>\n",
       "    <tr>\n",
       "      <th>4</th>\n",
       "      <td>1.0</td>\n",
       "      <td>1.058524</td>\n",
       "      <td>-11.521009</td>\n",
       "    </tr>\n",
       "  </tbody>\n",
       "</table>\n",
       "</div>"
      ],
      "text/plain": [
       "   label  embedding x  embedding y\n",
       "0    0.0     7.230391     9.234395\n",
       "1    2.0     3.608030    -0.909678\n",
       "2    2.0     3.318318    -2.557763\n",
       "3    3.0    -8.564292     5.395351\n",
       "4    1.0     1.058524   -11.521009"
      ]
     },
     "execution_count": 69,
     "metadata": {},
     "output_type": "execute_result"
    }
   ],
   "source": [
    "embedding_df = pd.read_csv('umap_rgb_mapping.csv')\n",
    "embedding_df.head()"
   ]
  },
  {
   "cell_type": "markdown",
   "id": "fdcd128d",
   "metadata": {},
   "source": [
    "**start 3:02pm**"
   ]
  },
  {
   "cell_type": "markdown",
   "id": "ac1b5ac7",
   "metadata": {},
   "source": [
    "## More exploration, n=50,...1000"
   ]
  },
  {
   "cell_type": "markdown",
   "id": "2bbb2e6e",
   "metadata": {},
   "source": []
  },
  {
   "cell_type": "markdown",
   "id": "71cef734",
   "metadata": {},
   "source": [
    "The default value of n_neighbors for UMAP (as used above) is 15, but we will look at values ranging from 2 (a very local view of the manifold) up to 1000."
   ]
  },
  {
   "cell_type": "code",
   "execution_count": 55,
   "id": "68a42752",
   "metadata": {},
   "outputs": [
    {
     "data": {
      "image/png": "[encoded data removed]",
      "text/plain": [
       "<Figure size 432x432 with 1 Axes>"
      ]
     },
     "metadata": {},
     "output_type": "display_data"
    }
   ],
   "source": [
    "# Initialize UMAP\n",
    "reducer = umap.UMAP(n_neighbors = 50, random_state=42)\n",
    "#reducer = umap(random_state=42)\n",
    "\n",
    "\n",
    "# Fit and transform the data\n",
    "embedding = reducer.fit_transform(data)\n",
    "\n",
    "# Prepare the data for visualization\n",
    "df = pd.DataFrame(embedding, columns=('x', 'y'))\n",
    "#df['class'] = pd.Series([str(x) for x in target], dtype=\"category\")\n",
    "df['class'] = pd.Series([str(x) for x in target], dtype=\"category\")\n",
    "\n",
    "# Visualize the data using datashader\n",
    "cvs = ds.Canvas(plot_width=100, plot_height=100)\n",
    "agg = cvs.points(df, 'x', 'y', ds.count_cat('class'))\n",
    "img = tf.shade(agg, color_key=color_key, how='eq_hist')\n",
    "#changed from black to white\n",
    "utils.export_image(img, filename='RGB_dataset50', background='white')\n",
    "\n",
    "# Display the image\n",
    "image = plt.imread('RGB_dataset50.png')\n",
    "fig, ax = plt.subplots(figsize=(6, 6))\n",
    "plt.imshow(image)\n",
    "plt.setp(ax, xticks=[], yticks=[])\n",
    "plt.title(\"RGB data embedded into two dimensions by UMAP w/ n=50\", fontsize=12)\n",
    "plt.show()"
   ]
  },
  {
   "cell_type": "markdown",
   "id": "b6955d2d",
   "metadata": {},
   "source": [
    "**Here we explore mapping into 3 dimensions**"
   ]
  },
  {
   "cell_type": "code",
   "execution_count": 9,
   "id": "c809027b",
   "metadata": {},
   "outputs": [
    {
     "data": {
      "image/png": "[encoded data removed]",
      "text/plain": [
       "<Figure size 432x432 with 1 Axes>"
      ]
     },
     "metadata": {
      "needs_background": "light"
     },
     "output_type": "display_data"
    }
   ],
   "source": [
    "from mpl_toolkits.mplot3d import Axes3D\n",
    "\n",
    "# Initialize UMAP\n",
    "reducer = umap.UMAP(n_neighbors = 30, n_components=3, random_state=42)\n",
    "#reducer = umap(random_state=42)\n",
    "\n",
    "\n",
    "# Fit and transform the data\n",
    "embedding = reducer.fit_transform(data)\n",
    "\n",
    "# Assuming 'embedding' is your 3D data\n",
    "df = pd.DataFrame(embedding, columns=('x', 'y', 'z'))\n",
    "df['class'] = pd.Series([str(x) for x in target], dtype=\"category\")\n",
    "\n",
    "fig = plt.figure(figsize=(6, 6))\n",
    "ax = fig.add_subplot(111, projection='3d')\n",
    "\n",
    "# Create a color map\n",
    "colors = color_key# replace with your classes and desired colors\n",
    "\n",
    "# Plot each point\n",
    "for i in range(len(df)):\n",
    "    ax.scatter(df.loc[i, 'x'], df.loc[i, 'y'], df.loc[i, 'z'], color=colors[df.loc[i, 'class']])\n",
    "\n",
    "ax.set_xlabel('X')\n",
    "ax.set_ylabel('Y')\n",
    "ax.set_zlabel('Z')\n",
    "plt.title(\"RGB full size image mapped into three dimensions by UMAP, w/ n=30\", fontsize=12)\n",
    "plt.show()\n"
   ]
  },
  {
   "cell_type": "markdown",
   "id": "2f7c54b1",
   "metadata": {},
   "source": [
    "**No additional improvement in clustering is perceived from a 3D mapping. Therefore there is no perceived justification for the additional complexity of the data. However, depending on our final results, we may decide to use a 3D mapping.**"
   ]
  },
  {
   "cell_type": "markdown",
   "id": "9efb813a",
   "metadata": {},
   "source": [
    "**note:**</p>\n",
    "Since my decision to map the data using UMAP is based on perceived clustering, I will not run models using hyperspace of dimenions 4 and higher, since I cannot evaluate above 3 dimensions. "
   ]
  },
  {
   "cell_type": "code",
   "execution_count": 11,
   "id": "e43c3d3d",
   "metadata": {},
   "outputs": [],
   "source": [
    "# Ensure target is a 2D array with shape (3377, 1)\n",
    "full_target = target[:, np.newaxis]\n",
    "\n",
    "# Concatenate along the second axis\n",
    "emb_target = np.concatenate((full_target, embedding), axis=1)\n",
    "\n",
    "column_names = ['label','embedding x', 'embedding y', 'embedding z']\n",
    "embedding_df = pd.DataFrame( emb_target, columns=column_names)\n",
    "embedding_df.head()\n",
    "\n",
    "embedding_df.to_csv('umap_rgb_mapping_3d.csv', index=False, header=True)  "
   ]
  },
  {
   "cell_type": "code",
   "execution_count": 12,
   "id": "0c754365",
   "metadata": {},
   "outputs": [
    {
     "data": {
      "text/html": [
       "<div>\n",
       "<style scoped>\n",
       "    .dataframe tbody tr th:only-of-type {\n",
       "        vertical-align: middle;\n",
       "    }\n",
       "\n",
       "    .dataframe tbody tr th {\n",
       "        vertical-align: top;\n",
       "    }\n",
       "\n",
       "    .dataframe thead th {\n",
       "        text-align: right;\n",
       "    }\n",
       "</style>\n",
       "<table border=\"1\" class=\"dataframe\">\n",
       "  <thead>\n",
       "    <tr style=\"text-align: right;\">\n",
       "      <th></th>\n",
       "      <th>label</th>\n",
       "      <th>embedding x</th>\n",
       "      <th>embedding y</th>\n",
       "      <th>embedding z</th>\n",
       "    </tr>\n",
       "  </thead>\n",
       "  <tbody>\n",
       "    <tr>\n",
       "      <th>0</th>\n",
       "      <td>0.0</td>\n",
       "      <td>-3.128895</td>\n",
       "      <td>-7.793591</td>\n",
       "      <td>-0.703375</td>\n",
       "    </tr>\n",
       "    <tr>\n",
       "      <th>1</th>\n",
       "      <td>2.0</td>\n",
       "      <td>-3.615993</td>\n",
       "      <td>0.736214</td>\n",
       "      <td>-1.270389</td>\n",
       "    </tr>\n",
       "    <tr>\n",
       "      <th>2</th>\n",
       "      <td>2.0</td>\n",
       "      <td>-4.616339</td>\n",
       "      <td>1.679079</td>\n",
       "      <td>-1.337356</td>\n",
       "    </tr>\n",
       "    <tr>\n",
       "      <th>3</th>\n",
       "      <td>3.0</td>\n",
       "      <td>8.076443</td>\n",
       "      <td>4.586558</td>\n",
       "      <td>0.303278</td>\n",
       "    </tr>\n",
       "    <tr>\n",
       "      <th>4</th>\n",
       "      <td>1.0</td>\n",
       "      <td>-4.336779</td>\n",
       "      <td>4.859769</td>\n",
       "      <td>-7.231673</td>\n",
       "    </tr>\n",
       "  </tbody>\n",
       "</table>\n",
       "</div>"
      ],
      "text/plain": [
       "   label  embedding x  embedding y  embedding z\n",
       "0    0.0    -3.128895    -7.793591    -0.703375\n",
       "1    2.0    -3.615993     0.736214    -1.270389\n",
       "2    2.0    -4.616339     1.679079    -1.337356\n",
       "3    3.0     8.076443     4.586558     0.303278\n",
       "4    1.0    -4.336779     4.859769    -7.231673"
      ]
     },
     "execution_count": 12,
     "metadata": {},
     "output_type": "execute_result"
    }
   ],
   "source": [
    "embedding_df = pd.read_csv('umap_rgb_mapping_3d.csv')\n",
    "embedding_df.head()"
   ]
  }
 ],
 "metadata": {
  "kernelspec": {
   "display_name": "Python 3 (ipykernel)",
   "language": "python",
   "name": "python3"
  },
  "language_info": {
   "codemirror_mode": {
    "name": "ipython",
    "version": 3
   },
   "file_extension": ".py",
   "mimetype": "text/x-python",
   "name": "python",
   "nbconvert_exporter": "python",
   "pygments_lexer": "ipython3",
   "version": "3.9.12"
  }
 },
 "nbformat": 4,
 "nbformat_minor": 5
}
