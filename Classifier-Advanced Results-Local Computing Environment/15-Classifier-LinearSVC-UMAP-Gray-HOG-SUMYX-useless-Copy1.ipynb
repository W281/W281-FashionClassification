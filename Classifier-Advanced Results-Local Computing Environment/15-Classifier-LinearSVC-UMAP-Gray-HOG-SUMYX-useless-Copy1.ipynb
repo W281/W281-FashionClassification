{
 "cells": [
  {
   "cell_type": "markdown",
   "id": "edc95dbd",
   "metadata": {},
   "source": [
    "## K Nearest Neighbor on UMAP Data + HOG +SUMY SUMX"
   ]
  },
  {
   "cell_type": "code",
   "execution_count": 21,
   "id": "d62d4a54",
   "metadata": {},
   "outputs": [],
   "source": [
    "# Load packages\n",
    "import pandas as pd\n",
    "import numpy as np\n",
    "import cv2 as cv\n",
    "import time"
   ]
  },
  {
   "cell_type": "code",
   "execution_count": 2,
   "id": "d393f282",
   "metadata": {},
   "outputs": [],
   "source": [
    "from sklearn.datasets import make_classification\n",
    "from sklearn.model_selection import train_test_split, GridSearchCV\n",
    "from sklearn.pipeline import Pipeline\n",
    "from sklearn.svm import LinearSVC"
   ]
  },
  {
   "cell_type": "code",
   "execution_count": 3,
   "id": "2d7ae4d8",
   "metadata": {},
   "outputs": [],
   "source": [
    "import matplotlib.pyplot as plt"
   ]
  },
  {
   "cell_type": "code",
   "execution_count": 4,
   "id": "ed2c98e8",
   "metadata": {},
   "outputs": [],
   "source": [
    "import seaborn as sns"
   ]
  },
  {
   "cell_type": "code",
   "execution_count": 5,
   "id": "940fab1e",
   "metadata": {},
   "outputs": [],
   "source": [
    "#previously mapped training data by UMAP\n",
    "umap_train = pd.read_csv('umap_train_gray_small_hog_xy_3d.csv')"
   ]
  },
  {
   "cell_type": "markdown",
   "id": "cedf4b83",
   "metadata": {},
   "source": [
    "**previously UMAP architecture**"
   ]
  },
  {
   "cell_type": "markdown",
   "id": "71a7e39f",
   "metadata": {},
   "source": [
    "**transform test data**"
   ]
  },
  {
   "cell_type": "code",
   "execution_count": 6,
   "id": "c1dbf4b4",
   "metadata": {},
   "outputs": [],
   "source": [
    "test_data = pd.read_csv('test_gray_small.csv')"
   ]
  },
  {
   "cell_type": "code",
   "execution_count": 7,
   "id": "a7635ad2",
   "metadata": {},
   "outputs": [],
   "source": [
    "sumy_df = pd.read_csv('histy_test.csv')"
   ]
  },
  {
   "cell_type": "code",
   "execution_count": 8,
   "id": "7651d71c",
   "metadata": {},
   "outputs": [],
   "source": [
    "sumx_df = pd.read_csv('histx_test.csv')"
   ]
  },
  {
   "cell_type": "code",
   "execution_count": 9,
   "id": "aa1a8d91",
   "metadata": {},
   "outputs": [],
   "source": [
    "hog_df = pd.read_csv('hog_fd_test.csv')"
   ]
  },
  {
   "cell_type": "code",
   "execution_count": 10,
   "id": "1bbfa799",
   "metadata": {},
   "outputs": [
    {
     "data": {
      "text/plain": [
       "((965, 1201), (965, 41), (965, 31), (965, 1729))"
      ]
     },
     "execution_count": 10,
     "metadata": {},
     "output_type": "execute_result"
    }
   ],
   "source": [
    "test_data.shape, sumy_df.shape, sumx_df.shape, hog_df.shape"
   ]
  },
  {
   "cell_type": "code",
   "execution_count": 11,
   "id": "803ab902",
   "metadata": {},
   "outputs": [],
   "source": [
    "final_df = pd.concat([test_data, sumy_df.iloc[:,1:],sumx_df.iloc[:,1:],  hog_df.iloc[:,1:] ], axis=1)"
   ]
  },
  {
   "cell_type": "code",
   "execution_count": 12,
   "id": "1dfc0895",
   "metadata": {},
   "outputs": [
    {
     "data": {
      "text/plain": [
       "(965, 2999)"
      ]
     },
     "execution_count": 12,
     "metadata": {},
     "output_type": "execute_result"
    }
   ],
   "source": [
    "final_df.shape"
   ]
  },
  {
   "cell_type": "markdown",
   "id": "eff8632d",
   "metadata": {},
   "source": [
    "## LinearSVC fit in 2D"
   ]
  },
  {
   "cell_type": "code",
   "execution_count": 13,
   "id": "43ac689f",
   "metadata": {},
   "outputs": [],
   "source": [
    "#previously mapped training data by UMAP\n",
    "umap_train = pd.read_csv('umap_train_gray_small_hog_xy_2d.csv')"
   ]
  },
  {
   "cell_type": "code",
   "execution_count": 14,
   "id": "41a50a9e",
   "metadata": {},
   "outputs": [
    {
     "data": {
      "text/html": [
       "<div>\n",
       "<style scoped>\n",
       "    .dataframe tbody tr th:only-of-type {\n",
       "        vertical-align: middle;\n",
       "    }\n",
       "\n",
       "    .dataframe tbody tr th {\n",
       "        vertical-align: top;\n",
       "    }\n",
       "\n",
       "    .dataframe thead th {\n",
       "        text-align: right;\n",
       "    }\n",
       "</style>\n",
       "<table border=\"1\" class=\"dataframe\">\n",
       "  <thead>\n",
       "    <tr style=\"text-align: right;\">\n",
       "      <th></th>\n",
       "      <th>label</th>\n",
       "      <th>embedding x</th>\n",
       "      <th>embedding y</th>\n",
       "    </tr>\n",
       "  </thead>\n",
       "  <tbody>\n",
       "    <tr>\n",
       "      <th>0</th>\n",
       "      <td>0.0</td>\n",
       "      <td>-10.455663</td>\n",
       "      <td>2.890634</td>\n",
       "    </tr>\n",
       "    <tr>\n",
       "      <th>1</th>\n",
       "      <td>2.0</td>\n",
       "      <td>2.295300</td>\n",
       "      <td>-2.460490</td>\n",
       "    </tr>\n",
       "    <tr>\n",
       "      <th>2</th>\n",
       "      <td>2.0</td>\n",
       "      <td>-2.464793</td>\n",
       "      <td>-5.478656</td>\n",
       "    </tr>\n",
       "    <tr>\n",
       "      <th>3</th>\n",
       "      <td>3.0</td>\n",
       "      <td>6.898623</td>\n",
       "      <td>-3.838779</td>\n",
       "    </tr>\n",
       "    <tr>\n",
       "      <th>4</th>\n",
       "      <td>1.0</td>\n",
       "      <td>-5.673230</td>\n",
       "      <td>-5.388057</td>\n",
       "    </tr>\n",
       "  </tbody>\n",
       "</table>\n",
       "</div>"
      ],
      "text/plain": [
       "   label  embedding x  embedding y\n",
       "0    0.0   -10.455663     2.890634\n",
       "1    2.0     2.295300    -2.460490\n",
       "2    2.0    -2.464793    -5.478656\n",
       "3    3.0     6.898623    -3.838779\n",
       "4    1.0    -5.673230    -5.388057"
      ]
     },
     "execution_count": 14,
     "metadata": {},
     "output_type": "execute_result"
    }
   ],
   "source": [
    "umap_train.head()"
   ]
  },
  {
   "cell_type": "code",
   "execution_count": 15,
   "id": "5c3bea8e",
   "metadata": {},
   "outputs": [],
   "source": [
    "import joblib\n",
    "# Load the saved model\n",
    "umap_model = joblib.load('umap_model_gray_small_hog_xy_2d.pkl')\n",
    "\n",
    "# Transform new data\n",
    "#slicing is to remove label in column 0\n",
    "embedding = umap_model.transform(final_df.iloc[:,1:])"
   ]
  },
  {
   "cell_type": "code",
   "execution_count": 16,
   "id": "082134dd",
   "metadata": {},
   "outputs": [],
   "source": [
    "#previously mapped test data by UMAP\n",
    "umap_test = embedding"
   ]
  },
  {
   "cell_type": "code",
   "execution_count": 17,
   "id": "6465e8dc",
   "metadata": {},
   "outputs": [],
   "source": [
    "#train_df.iloc[:, 1:].values.astype(np.float32)\n",
    "x_train_u = umap_train.iloc[:, 1:].values.astype(np.float32)\n",
    "y_train_u =umap_train['label'].values"
   ]
  },
  {
   "cell_type": "code",
   "execution_count": 18,
   "id": "482ed9ec",
   "metadata": {},
   "outputs": [],
   "source": [
    "x_test_u = umap_test\n",
    "y_test_u =final_df['label'].values"
   ]
  },
  {
   "cell_type": "code",
   "execution_count": 29,
   "id": "41b40734",
   "metadata": {},
   "outputs": [
    {
     "name": "stdout",
     "output_type": "stream",
     "text": [
      "percent complete:  100 - 0.19713950157165527 seconds -\n"
     ]
    }
   ],
   "source": [
    "# Classification with a linear SVM\n",
    "percent =100\n",
    "start_time = time.time()\n",
    "svc = LinearSVC(dual=False, random_state=123)\n",
    "params_grid = {\"C\": [10 ** k for k in range(-3, 4)]}\n",
    "clf = GridSearchCV(svc, params_grid)\n",
    "clf.fit(x_train_u, y_train_u)\n",
    "print('percent complete: ',percent, end =\" - %s seconds -\\n\" % \\\n",
    "              (time.time() - start_time), flush=True)\n"
   ]
  },
  {
   "cell_type": "code",
   "execution_count": 30,
   "id": "d2df6118",
   "metadata": {},
   "outputs": [],
   "source": [
    "import pickle\n",
    "\n",
    "# Save the trained model as a pickle string.\n",
    "saved_model = pickle.dumps(clf)\n",
    "\n",
    "# Save the model to disk\n",
    "with open('lsvc_umap_gray_small_hog_xy_2d.pkl', 'wb') as file:\n",
    "    pickle.dump(clf, file)\n",
    "    \n",
    "    # Load the model from disk\n",
    "with open('lsvc_umap_gray_small_hog_xy_2d.pkl', 'rb') as file:\n",
    "    loaded_model = pickle.load(file)"
   ]
  },
  {
   "cell_type": "code",
   "execution_count": 31,
   "id": "aa170790",
   "metadata": {},
   "outputs": [],
   "source": [
    "y_pred_u = loaded_model.predict(x_test_u)"
   ]
  },
  {
   "cell_type": "code",
   "execution_count": 32,
   "id": "211f5d9e",
   "metadata": {},
   "outputs": [
    {
     "name": "stdout",
     "output_type": "stream",
     "text": [
      "The accuracy of the LinearSVC model is 0.28\n"
     ]
    }
   ],
   "source": [
    "from sklearn.metrics import accuracy_score\n",
    "\n",
    "# Assuming y_test_u are the true labels for the test set\n",
    "accuracy = accuracy_score(y_test_u, y_pred_u)\n",
    "\n",
    "print(f'The accuracy of the LinearSVC model is {accuracy:.2f}')\n"
   ]
  },
  {
   "cell_type": "markdown",
   "id": "71cda5ed",
   "metadata": {},
   "source": [
    "**No Good**"
   ]
  },
  {
   "cell_type": "code",
   "execution_count": null,
   "id": "9b86f44b",
   "metadata": {},
   "outputs": [],
   "source": []
  }
 ],
 "metadata": {
  "kernelspec": {
   "display_name": "Python 3 (ipykernel)",
   "language": "python",
   "name": "python3"
  },
  "language_info": {
   "codemirror_mode": {
    "name": "ipython",
    "version": 3
   },
   "file_extension": ".py",
   "mimetype": "text/x-python",
   "name": "python",
   "nbconvert_exporter": "python",
   "pygments_lexer": "ipython3",
   "version": "3.9.12"
  }
 },
 "nbformat": 4,
 "nbformat_minor": 5
}
