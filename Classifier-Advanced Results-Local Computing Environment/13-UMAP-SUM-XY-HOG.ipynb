{
 "cells": [
  {
   "cell_type": "markdown",
   "id": "b7bd7c45",
   "metadata": {},
   "source": [
    "## Non-Linear Dimensionality Reduction\n",
    "**Using Gray Scale Images WxH = 40 X 30**</p>\n",
    "**Using Sum of Y and then Sum of Y and X**</p>\n"
   ]
  },
  {
   "cell_type": "code",
   "execution_count": 1,
   "id": "fbe2d04a",
   "metadata": {
    "scrolled": false
   },
   "outputs": [],
   "source": [
    "#import umap\n",
    "import umap.umap_ as umap\n"
   ]
  },
  {
   "cell_type": "code",
   "execution_count": 2,
   "id": "8c4b4c42",
   "metadata": {},
   "outputs": [],
   "source": [
    "import numpy as np\n",
    "import pandas as pd\n",
    "import datashader as ds\n",
    "import datashader.utils as utils\n",
    "import datashader.transfer_functions as tf\n",
    "import matplotlib.pyplot as plt\n",
    "import seaborn as sns"
   ]
  },
  {
   "cell_type": "code",
   "execution_count": 3,
   "id": "19d963ec",
   "metadata": {},
   "outputs": [],
   "source": [
    "#this is the grayscale\n",
    "source_df = pd.read_csv('histy_train.csv')"
   ]
  },
  {
   "cell_type": "code",
   "execution_count": 4,
   "id": "7433d39c",
   "metadata": {},
   "outputs": [],
   "source": [
    "#this is the grayscale\n",
    "source_df2 = pd.read_csv('histx_train.csv')"
   ]
  },
  {
   "cell_type": "code",
   "execution_count": 5,
   "id": "53e14adb",
   "metadata": {},
   "outputs": [],
   "source": [
    "hog_df = pd.read_csv('hog_fd_train.csv')"
   ]
  },
  {
   "cell_type": "code",
   "execution_count": 6,
   "id": "7264f056",
   "metadata": {},
   "outputs": [
    {
     "data": {
      "text/html": [
       "<div>\n",
       "<style scoped>\n",
       "    .dataframe tbody tr th:only-of-type {\n",
       "        vertical-align: middle;\n",
       "    }\n",
       "\n",
       "    .dataframe tbody tr th {\n",
       "        vertical-align: top;\n",
       "    }\n",
       "\n",
       "    .dataframe thead th {\n",
       "        text-align: right;\n",
       "    }\n",
       "</style>\n",
       "<table border=\"1\" class=\"dataframe\">\n",
       "  <thead>\n",
       "    <tr style=\"text-align: right;\">\n",
       "      <th></th>\n",
       "      <th>label</th>\n",
       "      <th>fd_value0</th>\n",
       "      <th>fd_value1</th>\n",
       "      <th>fd_value2</th>\n",
       "      <th>fd_value3</th>\n",
       "      <th>fd_value4</th>\n",
       "      <th>fd_value5</th>\n",
       "      <th>fd_value6</th>\n",
       "      <th>fd_value7</th>\n",
       "      <th>fd_value8</th>\n",
       "      <th>...</th>\n",
       "      <th>fd_value1718</th>\n",
       "      <th>fd_value1719</th>\n",
       "      <th>fd_value1720</th>\n",
       "      <th>fd_value1721</th>\n",
       "      <th>fd_value1722</th>\n",
       "      <th>fd_value1723</th>\n",
       "      <th>fd_value1724</th>\n",
       "      <th>fd_value1725</th>\n",
       "      <th>fd_value1726</th>\n",
       "      <th>fd_value1727</th>\n",
       "    </tr>\n",
       "  </thead>\n",
       "  <tbody>\n",
       "    <tr>\n",
       "      <th>0</th>\n",
       "      <td>0.0</td>\n",
       "      <td>0.016479</td>\n",
       "      <td>0.0</td>\n",
       "      <td>0.0</td>\n",
       "      <td>0.000000</td>\n",
       "      <td>0.000000</td>\n",
       "      <td>0.0</td>\n",
       "      <td>0.0</td>\n",
       "      <td>0.0</td>\n",
       "      <td>0.705982</td>\n",
       "      <td>...</td>\n",
       "      <td>0.0</td>\n",
       "      <td>0.37049</td>\n",
       "      <td>0.002554</td>\n",
       "      <td>0.0</td>\n",
       "      <td>0.0</td>\n",
       "      <td>0.0</td>\n",
       "      <td>0.0</td>\n",
       "      <td>0.0</td>\n",
       "      <td>0.0</td>\n",
       "      <td>0.0</td>\n",
       "    </tr>\n",
       "    <tr>\n",
       "      <th>1</th>\n",
       "      <td>2.0</td>\n",
       "      <td>0.000000</td>\n",
       "      <td>0.0</td>\n",
       "      <td>0.0</td>\n",
       "      <td>0.000000</td>\n",
       "      <td>0.000000</td>\n",
       "      <td>0.0</td>\n",
       "      <td>0.0</td>\n",
       "      <td>0.0</td>\n",
       "      <td>0.000000</td>\n",
       "      <td>...</td>\n",
       "      <td>0.0</td>\n",
       "      <td>0.00000</td>\n",
       "      <td>0.000000</td>\n",
       "      <td>0.0</td>\n",
       "      <td>0.0</td>\n",
       "      <td>0.0</td>\n",
       "      <td>0.0</td>\n",
       "      <td>0.0</td>\n",
       "      <td>0.0</td>\n",
       "      <td>0.0</td>\n",
       "    </tr>\n",
       "    <tr>\n",
       "      <th>2</th>\n",
       "      <td>2.0</td>\n",
       "      <td>0.000000</td>\n",
       "      <td>0.0</td>\n",
       "      <td>0.0</td>\n",
       "      <td>0.000000</td>\n",
       "      <td>0.000000</td>\n",
       "      <td>0.0</td>\n",
       "      <td>0.0</td>\n",
       "      <td>0.0</td>\n",
       "      <td>1.000000</td>\n",
       "      <td>...</td>\n",
       "      <td>0.0</td>\n",
       "      <td>0.00000</td>\n",
       "      <td>0.000000</td>\n",
       "      <td>0.0</td>\n",
       "      <td>0.0</td>\n",
       "      <td>0.0</td>\n",
       "      <td>0.0</td>\n",
       "      <td>0.0</td>\n",
       "      <td>0.0</td>\n",
       "      <td>0.0</td>\n",
       "    </tr>\n",
       "    <tr>\n",
       "      <th>3</th>\n",
       "      <td>3.0</td>\n",
       "      <td>0.000000</td>\n",
       "      <td>0.0</td>\n",
       "      <td>0.0</td>\n",
       "      <td>0.004507</td>\n",
       "      <td>0.005494</td>\n",
       "      <td>0.0</td>\n",
       "      <td>0.0</td>\n",
       "      <td>0.0</td>\n",
       "      <td>0.000000</td>\n",
       "      <td>...</td>\n",
       "      <td>0.0</td>\n",
       "      <td>0.00000</td>\n",
       "      <td>0.000000</td>\n",
       "      <td>0.0</td>\n",
       "      <td>0.0</td>\n",
       "      <td>0.0</td>\n",
       "      <td>0.0</td>\n",
       "      <td>0.0</td>\n",
       "      <td>0.0</td>\n",
       "      <td>0.0</td>\n",
       "    </tr>\n",
       "    <tr>\n",
       "      <th>4</th>\n",
       "      <td>1.0</td>\n",
       "      <td>0.000000</td>\n",
       "      <td>0.0</td>\n",
       "      <td>0.0</td>\n",
       "      <td>0.000000</td>\n",
       "      <td>0.000000</td>\n",
       "      <td>0.0</td>\n",
       "      <td>0.0</td>\n",
       "      <td>0.0</td>\n",
       "      <td>0.000000</td>\n",
       "      <td>...</td>\n",
       "      <td>0.0</td>\n",
       "      <td>0.00000</td>\n",
       "      <td>0.000000</td>\n",
       "      <td>0.0</td>\n",
       "      <td>0.0</td>\n",
       "      <td>0.0</td>\n",
       "      <td>0.0</td>\n",
       "      <td>0.0</td>\n",
       "      <td>0.0</td>\n",
       "      <td>0.0</td>\n",
       "    </tr>\n",
       "  </tbody>\n",
       "</table>\n",
       "<p>5 rows × 1729 columns</p>\n",
       "</div>"
      ],
      "text/plain": [
       "   label  fd_value0  fd_value1  fd_value2  fd_value3  fd_value4  fd_value5  \\\n",
       "0    0.0   0.016479        0.0        0.0   0.000000   0.000000        0.0   \n",
       "1    2.0   0.000000        0.0        0.0   0.000000   0.000000        0.0   \n",
       "2    2.0   0.000000        0.0        0.0   0.000000   0.000000        0.0   \n",
       "3    3.0   0.000000        0.0        0.0   0.004507   0.005494        0.0   \n",
       "4    1.0   0.000000        0.0        0.0   0.000000   0.000000        0.0   \n",
       "\n",
       "   fd_value6  fd_value7  fd_value8  ...  fd_value1718  fd_value1719  \\\n",
       "0        0.0        0.0   0.705982  ...           0.0       0.37049   \n",
       "1        0.0        0.0   0.000000  ...           0.0       0.00000   \n",
       "2        0.0        0.0   1.000000  ...           0.0       0.00000   \n",
       "3        0.0        0.0   0.000000  ...           0.0       0.00000   \n",
       "4        0.0        0.0   0.000000  ...           0.0       0.00000   \n",
       "\n",
       "   fd_value1720  fd_value1721  fd_value1722  fd_value1723  fd_value1724  \\\n",
       "0      0.002554           0.0           0.0           0.0           0.0   \n",
       "1      0.000000           0.0           0.0           0.0           0.0   \n",
       "2      0.000000           0.0           0.0           0.0           0.0   \n",
       "3      0.000000           0.0           0.0           0.0           0.0   \n",
       "4      0.000000           0.0           0.0           0.0           0.0   \n",
       "\n",
       "   fd_value1725  fd_value1726  fd_value1727  \n",
       "0           0.0           0.0           0.0  \n",
       "1           0.0           0.0           0.0  \n",
       "2           0.0           0.0           0.0  \n",
       "3           0.0           0.0           0.0  \n",
       "4           0.0           0.0           0.0  \n",
       "\n",
       "[5 rows x 1729 columns]"
      ]
     },
     "execution_count": 6,
     "metadata": {},
     "output_type": "execute_result"
    }
   ],
   "source": [
    "hog_df.head()"
   ]
  },
  {
   "cell_type": "code",
   "execution_count": 7,
   "id": "f08ea7d9",
   "metadata": {},
   "outputs": [
    {
     "data": {
      "text/html": [
       "<div>\n",
       "<style scoped>\n",
       "    .dataframe tbody tr th:only-of-type {\n",
       "        vertical-align: middle;\n",
       "    }\n",
       "\n",
       "    .dataframe tbody tr th {\n",
       "        vertical-align: top;\n",
       "    }\n",
       "\n",
       "    .dataframe thead th {\n",
       "        text-align: right;\n",
       "    }\n",
       "</style>\n",
       "<table border=\"1\" class=\"dataframe\">\n",
       "  <thead>\n",
       "    <tr style=\"text-align: right;\">\n",
       "      <th></th>\n",
       "      <th>label</th>\n",
       "      <th>sum_y_0</th>\n",
       "      <th>sum_y_1</th>\n",
       "      <th>sum_y_2</th>\n",
       "      <th>sum_y_3</th>\n",
       "      <th>sum_y_4</th>\n",
       "      <th>sum_y_5</th>\n",
       "      <th>sum_y_6</th>\n",
       "      <th>sum_y_7</th>\n",
       "      <th>sum_y_8</th>\n",
       "      <th>...</th>\n",
       "      <th>sum_y_30</th>\n",
       "      <th>sum_y_31</th>\n",
       "      <th>sum_y_32</th>\n",
       "      <th>sum_y_33</th>\n",
       "      <th>sum_y_34</th>\n",
       "      <th>sum_y_35</th>\n",
       "      <th>sum_y_36</th>\n",
       "      <th>sum_y_37</th>\n",
       "      <th>sum_y_38</th>\n",
       "      <th>sum_y_39</th>\n",
       "    </tr>\n",
       "  </thead>\n",
       "  <tbody>\n",
       "    <tr>\n",
       "      <th>0</th>\n",
       "      <td>0</td>\n",
       "      <td>7500</td>\n",
       "      <td>7500</td>\n",
       "      <td>7500</td>\n",
       "      <td>7500</td>\n",
       "      <td>7500</td>\n",
       "      <td>5000</td>\n",
       "      <td>4750</td>\n",
       "      <td>4750</td>\n",
       "      <td>4750</td>\n",
       "      <td>...</td>\n",
       "      <td>5500</td>\n",
       "      <td>5750</td>\n",
       "      <td>6000</td>\n",
       "      <td>6000</td>\n",
       "      <td>6000</td>\n",
       "      <td>6250</td>\n",
       "      <td>6250</td>\n",
       "      <td>6000</td>\n",
       "      <td>7000</td>\n",
       "      <td>7500</td>\n",
       "    </tr>\n",
       "    <tr>\n",
       "      <th>1</th>\n",
       "      <td>2</td>\n",
       "      <td>7500</td>\n",
       "      <td>7500</td>\n",
       "      <td>7500</td>\n",
       "      <td>7500</td>\n",
       "      <td>7500</td>\n",
       "      <td>7500</td>\n",
       "      <td>7500</td>\n",
       "      <td>7500</td>\n",
       "      <td>7500</td>\n",
       "      <td>...</td>\n",
       "      <td>7500</td>\n",
       "      <td>7500</td>\n",
       "      <td>7500</td>\n",
       "      <td>7500</td>\n",
       "      <td>7500</td>\n",
       "      <td>7500</td>\n",
       "      <td>7500</td>\n",
       "      <td>7500</td>\n",
       "      <td>7500</td>\n",
       "      <td>7500</td>\n",
       "    </tr>\n",
       "    <tr>\n",
       "      <th>2</th>\n",
       "      <td>2</td>\n",
       "      <td>7500</td>\n",
       "      <td>7500</td>\n",
       "      <td>7500</td>\n",
       "      <td>5500</td>\n",
       "      <td>5500</td>\n",
       "      <td>5500</td>\n",
       "      <td>5500</td>\n",
       "      <td>5500</td>\n",
       "      <td>5500</td>\n",
       "      <td>...</td>\n",
       "      <td>5500</td>\n",
       "      <td>5500</td>\n",
       "      <td>5500</td>\n",
       "      <td>5500</td>\n",
       "      <td>5500</td>\n",
       "      <td>5500</td>\n",
       "      <td>5500</td>\n",
       "      <td>5500</td>\n",
       "      <td>7500</td>\n",
       "      <td>7500</td>\n",
       "    </tr>\n",
       "    <tr>\n",
       "      <th>3</th>\n",
       "      <td>3</td>\n",
       "      <td>7500</td>\n",
       "      <td>7500</td>\n",
       "      <td>7500</td>\n",
       "      <td>7500</td>\n",
       "      <td>7500</td>\n",
       "      <td>7250</td>\n",
       "      <td>7250</td>\n",
       "      <td>7250</td>\n",
       "      <td>7000</td>\n",
       "      <td>...</td>\n",
       "      <td>7500</td>\n",
       "      <td>7500</td>\n",
       "      <td>7500</td>\n",
       "      <td>7500</td>\n",
       "      <td>7500</td>\n",
       "      <td>7500</td>\n",
       "      <td>7500</td>\n",
       "      <td>7500</td>\n",
       "      <td>7500</td>\n",
       "      <td>7500</td>\n",
       "    </tr>\n",
       "    <tr>\n",
       "      <th>4</th>\n",
       "      <td>1</td>\n",
       "      <td>7500</td>\n",
       "      <td>7250</td>\n",
       "      <td>6250</td>\n",
       "      <td>6500</td>\n",
       "      <td>6500</td>\n",
       "      <td>6250</td>\n",
       "      <td>6500</td>\n",
       "      <td>6250</td>\n",
       "      <td>6250</td>\n",
       "      <td>...</td>\n",
       "      <td>4250</td>\n",
       "      <td>4000</td>\n",
       "      <td>4500</td>\n",
       "      <td>5500</td>\n",
       "      <td>6250</td>\n",
       "      <td>6000</td>\n",
       "      <td>6250</td>\n",
       "      <td>6000</td>\n",
       "      <td>6500</td>\n",
       "      <td>6750</td>\n",
       "    </tr>\n",
       "  </tbody>\n",
       "</table>\n",
       "<p>5 rows × 41 columns</p>\n",
       "</div>"
      ],
      "text/plain": [
       "   label  sum_y_0  sum_y_1  sum_y_2  sum_y_3  sum_y_4  sum_y_5  sum_y_6  \\\n",
       "0      0     7500     7500     7500     7500     7500     5000     4750   \n",
       "1      2     7500     7500     7500     7500     7500     7500     7500   \n",
       "2      2     7500     7500     7500     5500     5500     5500     5500   \n",
       "3      3     7500     7500     7500     7500     7500     7250     7250   \n",
       "4      1     7500     7250     6250     6500     6500     6250     6500   \n",
       "\n",
       "   sum_y_7  sum_y_8  ...  sum_y_30  sum_y_31  sum_y_32  sum_y_33  sum_y_34  \\\n",
       "0     4750     4750  ...      5500      5750      6000      6000      6000   \n",
       "1     7500     7500  ...      7500      7500      7500      7500      7500   \n",
       "2     5500     5500  ...      5500      5500      5500      5500      5500   \n",
       "3     7250     7000  ...      7500      7500      7500      7500      7500   \n",
       "4     6250     6250  ...      4250      4000      4500      5500      6250   \n",
       "\n",
       "   sum_y_35  sum_y_36  sum_y_37  sum_y_38  sum_y_39  \n",
       "0      6250      6250      6000      7000      7500  \n",
       "1      7500      7500      7500      7500      7500  \n",
       "2      5500      5500      5500      7500      7500  \n",
       "3      7500      7500      7500      7500      7500  \n",
       "4      6000      6250      6000      6500      6750  \n",
       "\n",
       "[5 rows x 41 columns]"
      ]
     },
     "execution_count": 7,
     "metadata": {},
     "output_type": "execute_result"
    }
   ],
   "source": [
    "source_df.head()"
   ]
  },
  {
   "cell_type": "code",
   "execution_count": 8,
   "id": "142adbba",
   "metadata": {},
   "outputs": [
    {
     "data": {
      "text/html": [
       "<div>\n",
       "<style scoped>\n",
       "    .dataframe tbody tr th:only-of-type {\n",
       "        vertical-align: middle;\n",
       "    }\n",
       "\n",
       "    .dataframe tbody tr th {\n",
       "        vertical-align: top;\n",
       "    }\n",
       "\n",
       "    .dataframe thead th {\n",
       "        text-align: right;\n",
       "    }\n",
       "</style>\n",
       "<table border=\"1\" class=\"dataframe\">\n",
       "  <thead>\n",
       "    <tr style=\"text-align: right;\">\n",
       "      <th></th>\n",
       "      <th>label</th>\n",
       "      <th>sum_x_0</th>\n",
       "      <th>sum_x_1</th>\n",
       "      <th>sum_x_2</th>\n",
       "      <th>sum_x_3</th>\n",
       "      <th>sum_x_4</th>\n",
       "      <th>sum_x_5</th>\n",
       "      <th>sum_x_6</th>\n",
       "      <th>sum_x_7</th>\n",
       "      <th>sum_x_8</th>\n",
       "      <th>...</th>\n",
       "      <th>sum_x_20</th>\n",
       "      <th>sum_x_21</th>\n",
       "      <th>sum_x_22</th>\n",
       "      <th>sum_x_23</th>\n",
       "      <th>sum_x_24</th>\n",
       "      <th>sum_x_25</th>\n",
       "      <th>sum_x_26</th>\n",
       "      <th>sum_x_27</th>\n",
       "      <th>sum_x_28</th>\n",
       "      <th>sum_x_29</th>\n",
       "    </tr>\n",
       "  </thead>\n",
       "  <tbody>\n",
       "    <tr>\n",
       "      <th>0</th>\n",
       "      <td>0</td>\n",
       "      <td>10000</td>\n",
       "      <td>10000</td>\n",
       "      <td>10000</td>\n",
       "      <td>10000</td>\n",
       "      <td>10000</td>\n",
       "      <td>10000</td>\n",
       "      <td>10000</td>\n",
       "      <td>10000</td>\n",
       "      <td>10000</td>\n",
       "      <td>...</td>\n",
       "      <td>2750</td>\n",
       "      <td>7250</td>\n",
       "      <td>10000</td>\n",
       "      <td>10000</td>\n",
       "      <td>10000</td>\n",
       "      <td>10000</td>\n",
       "      <td>10000</td>\n",
       "      <td>10000</td>\n",
       "      <td>10000</td>\n",
       "      <td>10000</td>\n",
       "    </tr>\n",
       "    <tr>\n",
       "      <th>1</th>\n",
       "      <td>2</td>\n",
       "      <td>10000</td>\n",
       "      <td>10000</td>\n",
       "      <td>10000</td>\n",
       "      <td>10000</td>\n",
       "      <td>10000</td>\n",
       "      <td>10000</td>\n",
       "      <td>10000</td>\n",
       "      <td>10000</td>\n",
       "      <td>10000</td>\n",
       "      <td>...</td>\n",
       "      <td>6750</td>\n",
       "      <td>9250</td>\n",
       "      <td>10000</td>\n",
       "      <td>10000</td>\n",
       "      <td>10000</td>\n",
       "      <td>10000</td>\n",
       "      <td>10000</td>\n",
       "      <td>10000</td>\n",
       "      <td>10000</td>\n",
       "      <td>10000</td>\n",
       "    </tr>\n",
       "    <tr>\n",
       "      <th>2</th>\n",
       "      <td>2</td>\n",
       "      <td>10000</td>\n",
       "      <td>10000</td>\n",
       "      <td>10000</td>\n",
       "      <td>10000</td>\n",
       "      <td>10000</td>\n",
       "      <td>10000</td>\n",
       "      <td>10000</td>\n",
       "      <td>10000</td>\n",
       "      <td>8500</td>\n",
       "      <td>...</td>\n",
       "      <td>8000</td>\n",
       "      <td>8500</td>\n",
       "      <td>10000</td>\n",
       "      <td>10000</td>\n",
       "      <td>10000</td>\n",
       "      <td>10000</td>\n",
       "      <td>10000</td>\n",
       "      <td>10000</td>\n",
       "      <td>10000</td>\n",
       "      <td>10000</td>\n",
       "    </tr>\n",
       "    <tr>\n",
       "      <th>3</th>\n",
       "      <td>3</td>\n",
       "      <td>10000</td>\n",
       "      <td>10000</td>\n",
       "      <td>10000</td>\n",
       "      <td>7500</td>\n",
       "      <td>5750</td>\n",
       "      <td>6000</td>\n",
       "      <td>6000</td>\n",
       "      <td>6250</td>\n",
       "      <td>6250</td>\n",
       "      <td>...</td>\n",
       "      <td>8250</td>\n",
       "      <td>8250</td>\n",
       "      <td>8500</td>\n",
       "      <td>8750</td>\n",
       "      <td>8750</td>\n",
       "      <td>9000</td>\n",
       "      <td>9500</td>\n",
       "      <td>10000</td>\n",
       "      <td>10000</td>\n",
       "      <td>10000</td>\n",
       "    </tr>\n",
       "    <tr>\n",
       "      <th>4</th>\n",
       "      <td>1</td>\n",
       "      <td>10000</td>\n",
       "      <td>10000</td>\n",
       "      <td>10000</td>\n",
       "      <td>10000</td>\n",
       "      <td>10000</td>\n",
       "      <td>10000</td>\n",
       "      <td>10000</td>\n",
       "      <td>7000</td>\n",
       "      <td>5500</td>\n",
       "      <td>...</td>\n",
       "      <td>5250</td>\n",
       "      <td>5750</td>\n",
       "      <td>7750</td>\n",
       "      <td>9500</td>\n",
       "      <td>10000</td>\n",
       "      <td>10000</td>\n",
       "      <td>10000</td>\n",
       "      <td>10000</td>\n",
       "      <td>10000</td>\n",
       "      <td>10000</td>\n",
       "    </tr>\n",
       "  </tbody>\n",
       "</table>\n",
       "<p>5 rows × 31 columns</p>\n",
       "</div>"
      ],
      "text/plain": [
       "   label  sum_x_0  sum_x_1  sum_x_2  sum_x_3  sum_x_4  sum_x_5  sum_x_6  \\\n",
       "0      0    10000    10000    10000    10000    10000    10000    10000   \n",
       "1      2    10000    10000    10000    10000    10000    10000    10000   \n",
       "2      2    10000    10000    10000    10000    10000    10000    10000   \n",
       "3      3    10000    10000    10000     7500     5750     6000     6000   \n",
       "4      1    10000    10000    10000    10000    10000    10000    10000   \n",
       "\n",
       "   sum_x_7  sum_x_8  ...  sum_x_20  sum_x_21  sum_x_22  sum_x_23  sum_x_24  \\\n",
       "0    10000    10000  ...      2750      7250     10000     10000     10000   \n",
       "1    10000    10000  ...      6750      9250     10000     10000     10000   \n",
       "2    10000     8500  ...      8000      8500     10000     10000     10000   \n",
       "3     6250     6250  ...      8250      8250      8500      8750      8750   \n",
       "4     7000     5500  ...      5250      5750      7750      9500     10000   \n",
       "\n",
       "   sum_x_25  sum_x_26  sum_x_27  sum_x_28  sum_x_29  \n",
       "0     10000     10000     10000     10000     10000  \n",
       "1     10000     10000     10000     10000     10000  \n",
       "2     10000     10000     10000     10000     10000  \n",
       "3      9000      9500     10000     10000     10000  \n",
       "4     10000     10000     10000     10000     10000  \n",
       "\n",
       "[5 rows x 31 columns]"
      ]
     },
     "execution_count": 8,
     "metadata": {},
     "output_type": "execute_result"
    }
   ],
   "source": [
    "source_df2.head()"
   ]
  },
  {
   "cell_type": "code",
   "execution_count": 9,
   "id": "e2bef89f",
   "metadata": {},
   "outputs": [
    {
     "data": {
      "text/plain": [
       "((3377, 41), (3377, 31))"
      ]
     },
     "execution_count": 9,
     "metadata": {},
     "output_type": "execute_result"
    }
   ],
   "source": [
    "source_df.shape, source_df2.shape"
   ]
  },
  {
   "cell_type": "markdown",
   "id": "027580fa",
   "metadata": {},
   "source": [
    "**Try SUM Y Vector**"
   ]
  },
  {
   "cell_type": "code",
   "execution_count": 10,
   "id": "7d1885d1",
   "metadata": {},
   "outputs": [],
   "source": [
    "final_df = source_df"
   ]
  },
  {
   "cell_type": "code",
   "execution_count": 11,
   "id": "c139a1b1",
   "metadata": {},
   "outputs": [
    {
     "data": {
      "text/plain": [
       "(3377, 41)"
      ]
     },
     "execution_count": 11,
     "metadata": {},
     "output_type": "execute_result"
    }
   ],
   "source": [
    "final_df.shape"
   ]
  },
  {
   "cell_type": "code",
   "execution_count": 12,
   "id": "138298aa",
   "metadata": {},
   "outputs": [],
   "source": [
    "\n",
    "#data = source_df.iloc[:, :source_df.shape[1]].values.astype(np.float32)\n",
    "data = final_df.iloc[:, 1:].values.astype(np.float32)\n"
   ]
  },
  {
   "cell_type": "code",
   "execution_count": 13,
   "id": "7724fa99",
   "metadata": {},
   "outputs": [],
   "source": [
    "#target = source_df['class'].values\n",
    "target = final_df['label'].values"
   ]
  },
  {
   "cell_type": "code",
   "execution_count": 14,
   "id": "5b8dbf0e",
   "metadata": {},
   "outputs": [
    {
     "data": {
      "text/plain": [
       "((3377, 40), (3377,))"
      ]
     },
     "execution_count": 14,
     "metadata": {},
     "output_type": "execute_result"
    }
   ],
   "source": [
    "data.shape, target.shape"
   ]
  },
  {
   "cell_type": "code",
   "execution_count": 15,
   "id": "c5095a98",
   "metadata": {},
   "outputs": [],
   "source": [
    "label_key = {\n",
    "    \"Pants\": 0, \n",
    "    \"Tshirts\":1,\n",
    "    \"Watches\":2, \n",
    "    \"Casual Shoes\":3 \n",
    " \n",
    "}"
   ]
  },
  {
   "cell_type": "code",
   "execution_count": 16,
   "id": "1a71cc44",
   "metadata": {},
   "outputs": [],
   "source": [
    "color_key = {\n",
    "    \"0\": \"#FF0000\",  # Bright Red, Pants\n",
    "    \"1\": \"#00FF00\",  # Bright Green, T-shirts\n",
    "    \"2\": \"#0000FF\",  # Bright Blue, Watches\n",
    "    \"3\": \"#FFFF00\",  # Bright Yellow, Casual Shoes\n",
    "\n",
    "}"
   ]
  },
  {
   "cell_type": "markdown",
   "id": "77fb4fe2",
   "metadata": {},
   "source": [
    "## UMAP Mapping and Visualization with Sum Y Only"
   ]
  },
  {
   "cell_type": "code",
   "execution_count": 21,
   "id": "253c67ff",
   "metadata": {},
   "outputs": [
    {
     "data": {
      "image/png": "[encoded data removed]",
      "text/plain": [
       "<Figure size 432x432 with 1 Axes>"
      ]
     },
     "metadata": {},
     "output_type": "display_data"
    }
   ],
   "source": [
    "# Initialize UMAP\n",
    "reducer = umap.UMAP(n_neighbors = 30, random_state=42)\n",
    "#reducer = umap(random_state=42)\n",
    "\n",
    "\n",
    "# Fit and transform the data\n",
    "embedding = reducer.fit_transform(data)\n",
    "\n",
    "# Prepare the data for visualization\n",
    "df = pd.DataFrame(embedding, columns=('x', 'y'))\n",
    "\n",
    "df['class'] = pd.Series([str(x) for x in target], dtype=\"category\")\n",
    "\n",
    "# Visualize the data using datashader\n",
    "\n",
    "cvs = ds.Canvas(plot_width=100, plot_height=100)\n",
    "agg = cvs.points(df, 'x', 'y', ds.count_cat('class'))\n",
    "img = tf.shade(agg, color_key=color_key, how='eq_hist')\n",
    "utils.export_image(img, filename='gray_small_histy_30', background='white')\n",
    "\n",
    "# Display the image\n",
    "image = plt.imread('gray_small_histy_30.png')\n",
    "fig, ax = plt.subplots(figsize=(6, 6))\n",
    "plt.imshow(image)\n",
    "plt.setp(ax, xticks=[], yticks=[])\n",
    "plt.title(\"Sum of Y columns with UMAP w n=30\", fontsize=12)\n",
    "plt.show()\n",
    "\n",
    "\n"
   ]
  },
  {
   "cell_type": "markdown",
   "id": "9e210422",
   "metadata": {},
   "source": [
    "### With Sum of X and Y"
   ]
  },
  {
   "cell_type": "code",
   "execution_count": 22,
   "id": "85746d48",
   "metadata": {},
   "outputs": [],
   "source": [
    "final2_df = pd.concat([source_df, source_df2.iloc[:,1:]], axis=1)"
   ]
  },
  {
   "cell_type": "code",
   "execution_count": 23,
   "id": "cec096f8",
   "metadata": {},
   "outputs": [],
   "source": [
    "#data = source_df.iloc[:, :source_df.shape[1]].values.astype(np.float32)\n",
    "data2 = final2_df.iloc[:, 1:].values.astype(np.float32)\n",
    "target2 = final2_df['label'].values\n"
   ]
  },
  {
   "cell_type": "code",
   "execution_count": 24,
   "id": "809a7a4b",
   "metadata": {},
   "outputs": [
    {
     "data": {
      "image/png": "[encoded data removed]",
      "text/plain": [
       "<Figure size 432x432 with 1 Axes>"
      ]
     },
     "metadata": {},
     "output_type": "display_data"
    }
   ],
   "source": [
    "# Initialize UMAP\n",
    "reducer2 = umap.UMAP(n_neighbors = 30, random_state=42)\n",
    "#reducer = umap(random_state=42)\n",
    "\n",
    "\n",
    "# Fit and transform the data\n",
    "embedding2 = reducer2.fit_transform(data2)\n",
    "\n",
    "# Prepare the data for visualization\n",
    "df = pd.DataFrame(embedding, columns=('x', 'y'))\n",
    "\n",
    "df['class'] = pd.Series([str(x) for x in target2], dtype=\"category\")\n",
    "\n",
    "# Visualize the data using datashader\n",
    "\n",
    "cvs = ds.Canvas(plot_width=100, plot_height=100)\n",
    "agg = cvs.points(df, 'x', 'y', ds.count_cat('class'))\n",
    "img = tf.shade(agg, color_key=color_key, how='eq_hist')\n",
    "utils.export_image(img, filename='gray_small_histxy_30', background='white')\n",
    "\n",
    "# Display the image\n",
    "image = plt.imread('gray_small_histxy_30.png')\n",
    "fig, ax = plt.subplots(figsize=(6, 6))\n",
    "plt.imshow(image)\n",
    "plt.setp(ax, xticks=[], yticks=[])\n",
    "plt.title(\"Sum of X and Y Mapped Into 2 dimensions by UMAP w n=30\", fontsize=12)\n",
    "plt.show()\n",
    "\n",
    "\n"
   ]
  },
  {
   "cell_type": "markdown",
   "id": "f7889350",
   "metadata": {},
   "source": [
    "**The above results suggest that sum of x and y alone are not sufficient to seperate classes**"
   ]
  },
  {
   "cell_type": "markdown",
   "id": "80cb940a",
   "metadata": {},
   "source": [
    "### Lets mix grayscale data with Sum of X and Y"
   ]
  },
  {
   "cell_type": "code",
   "execution_count": 25,
   "id": "b32613c7",
   "metadata": {},
   "outputs": [],
   "source": [
    "#this is the grayscale\n",
    "grayscale_df = pd.read_csv('gray_small_train_set.csv')"
   ]
  },
  {
   "cell_type": "code",
   "execution_count": 26,
   "id": "ff256255",
   "metadata": {},
   "outputs": [],
   "source": [
    "final3_df = pd.concat([grayscale_df,  source_df.iloc[:,1:], source_df2.iloc[:,1:]], axis=1)\n",
    "\n"
   ]
  },
  {
   "cell_type": "code",
   "execution_count": 27,
   "id": "6017cfd2",
   "metadata": {},
   "outputs": [
    {
     "data": {
      "text/plain": [
       "((3377, 1271), (3377, 1201), (3377, 41), (3377, 31))"
      ]
     },
     "execution_count": 27,
     "metadata": {},
     "output_type": "execute_result"
    }
   ],
   "source": [
    "final3_df.shape, grayscale_df.shape, source_df.shape, source_df2.shape"
   ]
  },
  {
   "cell_type": "code",
   "execution_count": 28,
   "id": "0870aeb7",
   "metadata": {},
   "outputs": [],
   "source": [
    "\n",
    "#data = source_df.iloc[:, :source_df.shape[1]].values.astype(np.float32)\n",
    "data3 = final3_df.iloc[:, 1:].values.astype(np.float32)\n",
    "target3 = final3_df['label'].values"
   ]
  },
  {
   "cell_type": "markdown",
   "id": "01f41b49",
   "metadata": {},
   "source": [
    "## UMAP Mapping with Sum X,Y and Gray Images"
   ]
  },
  {
   "cell_type": "code",
   "execution_count": 103,
   "id": "e77b0aea",
   "metadata": {},
   "outputs": [
    {
     "data": {
      "image/png": "[encoded data removed]",
      "text/plain": [
       "<Figure size 432x432 with 1 Axes>"
      ]
     },
     "metadata": {},
     "output_type": "display_data"
    }
   ],
   "source": [
    "# Initialize UMAP\n",
    "reducer3 = umap.UMAP(n_neighbors = 30, n_components=2, random_state=42)\n",
    "#reducer = umap(random_state=42)\n",
    "\n",
    "\n",
    "# Fit and transform the data\n",
    "embedding3 = reducer3.fit_transform(data3)\n",
    "\n",
    "# Prepare the data for visualization\n",
    "df = pd.DataFrame(embedding3, columns=('x', 'y'))\n",
    "\n",
    "df['class'] = pd.Series([str(x) for x in target3], dtype=\"category\")\n",
    "\n",
    "# Visualize the data using datashader\n",
    "\n",
    "cvs = ds.Canvas(plot_width=100, plot_height=100)\n",
    "agg = cvs.points(df, 'x', 'y', ds.count_cat('class'))\n",
    "img = tf.shade(agg, color_key=color_key, how='eq_hist')\n",
    "utils.export_image(img, filename='gray_img_small_histxy_30', background='white')\n",
    "\n",
    "# Display the image\n",
    "image = plt.imread('gray_img_small_histxy_30.png')\n",
    "fig, ax = plt.subplots(figsize=(6, 6))\n",
    "plt.imshow(image)\n",
    "plt.setp(ax, xticks=[], yticks=[])\n",
    "plt.title(\"Gray Image and Sum of X and Y Mapped Into 2 dimensions by UMAP w n=30\", fontsize=12)\n",
    "plt.show()\n",
    "\n",
    "\n"
   ]
  },
  {
   "cell_type": "markdown",
   "id": "0e62cbcf",
   "metadata": {},
   "source": [
    "## Lets try with HOG data "
   ]
  },
  {
   "cell_type": "code",
   "execution_count": 32,
   "id": "42e73afa",
   "metadata": {},
   "outputs": [],
   "source": [
    "final4_df = pd.concat([grayscale_df,  hog_df.iloc[:,1:], source_df.iloc[:,1:], source_df2.iloc[:,1:]], axis=1)"
   ]
  },
  {
   "cell_type": "code",
   "execution_count": 33,
   "id": "2cdb3460",
   "metadata": {},
   "outputs": [
    {
     "data": {
      "text/plain": [
       "((3377, 2999), (3377, 1201), (3377, 1729), (3377, 41), (3377, 31))"
      ]
     },
     "execution_count": 33,
     "metadata": {},
     "output_type": "execute_result"
    }
   ],
   "source": [
    "final4_df.shape, grayscale_df.shape, hog_df.shape, source_df.shape, source_df2.shape"
   ]
  },
  {
   "cell_type": "code",
   "execution_count": 34,
   "id": "04e8ee55",
   "metadata": {},
   "outputs": [],
   "source": [
    "\n",
    "#data = source_df.iloc[:, :source_df.shape[1]].values.astype(np.float32)\n",
    "data4 = final4_df.iloc[:, 1:].values.astype(np.float32)\n",
    "target4 = final4_df['label'].values"
   ]
  },
  {
   "cell_type": "code",
   "execution_count": 35,
   "id": "24610f57",
   "metadata": {},
   "outputs": [
    {
     "data": {
      "image/png": "[encoded data removed]",
      "text/plain": [
       "<Figure size 432x432 with 1 Axes>"
      ]
     },
     "metadata": {},
     "output_type": "display_data"
    }
   ],
   "source": [
    "# Initialize UMAP\n",
    "reducer4 = umap.UMAP(n_neighbors = 30, random_state=42)\n",
    "#reducer = umap(random_state=42)\n",
    "\n",
    "\n",
    "# Fit and transform the data\n",
    "embedding4 = reducer4.fit_transform(data4)\n",
    "\n",
    "# Prepare the data for visualization\n",
    "df = pd.DataFrame(embedding4, columns=('x', 'y'))\n",
    "\n",
    "df['class'] = pd.Series([str(x) for x in target4], dtype=\"category\")\n",
    "\n",
    "# Visualize the data using datashader\n",
    "\n",
    "cvs = ds.Canvas(plot_width=100, plot_height=100)\n",
    "agg = cvs.points(df, 'x', 'y', ds.count_cat('class'))\n",
    "img = tf.shade(agg, color_key=color_key, how='eq_hist')\n",
    "utils.export_image(img, filename='gray_small_histxy_hog_30', background='white')\n",
    "\n",
    "# Display the image\n",
    "image = plt.imread('gray_small_histxy_hog_30.png')\n",
    "fig, ax = plt.subplots(figsize=(6, 6))\n",
    "plt.imshow(image)\n",
    "plt.setp(ax, xticks=[], yticks=[])\n",
    "plt.title(\"Gray Data,Sum of X and Y and HOG mapped Into 2 dimensions by UMAP w n=30\", fontsize=12)\n",
    "plt.show()\n",
    "\n",
    "\n"
   ]
  },
  {
   "cell_type": "code",
   "execution_count": 134,
   "id": "af797375",
   "metadata": {},
   "outputs": [],
   "source": [
    "# Ensure target is a 2D array with shape (3377, 1)\n",
    "targetn = target4[:, np.newaxis]\n",
    "\n",
    "# Concatenate along the second axis\n",
    "emb_target = np.concatenate((targetn, embedding4), axis=1)\n",
    "\n",
    "column_names = ['label','embedding x', 'embedding y']\n",
    "embedding_df = pd.DataFrame( emb_target, columns=column_names)\n",
    "embedding_df.head()\n",
    "\n",
    "embedding_df.to_csv('umap_train_gray_small_hog_xy_2d.csv', index=False, header=True)  "
   ]
  },
  {
   "cell_type": "code",
   "execution_count": 135,
   "id": "e2f7b0aa",
   "metadata": {},
   "outputs": [
    {
     "data": {
      "text/plain": [
       "['umap_model_gray_small_hog_xy_2d.pkl']"
      ]
     },
     "execution_count": 135,
     "metadata": {},
     "output_type": "execute_result"
    }
   ],
   "source": [
    "# Save the trained model\n",
    "import joblib\n",
    "joblib.dump(reducer4, 'umap_model_gray_small_hog_xy_2d.pkl')\n"
   ]
  },
  {
   "cell_type": "markdown",
   "id": "e3d557e0",
   "metadata": {},
   "source": [
    "### HOG and SumXY Only"
   ]
  },
  {
   "cell_type": "code",
   "execution_count": 43,
   "id": "0754cba3",
   "metadata": {},
   "outputs": [],
   "source": [
    "color_key2 = {\n",
    "    \"0.0\": \"#FF0000\",  # Bright Red, Pants\n",
    "    \"1.0\": \"#00FF00\",  # Bright Green, T-shirts\n",
    "    \"2.0\": \"#0000FF\",  # Bright Blue, Watches\n",
    "    \"3.0\": \"#FFFF00\",  # Bright Yellow, Casual Shoes\n",
    "\n",
    "}"
   ]
  },
  {
   "cell_type": "code",
   "execution_count": 39,
   "id": "3fc3d467",
   "metadata": {},
   "outputs": [
    {
     "data": {
      "text/plain": [
       "((3377, 1799), (3377, 1729), (3377, 41), (3377, 31))"
      ]
     },
     "execution_count": 39,
     "metadata": {},
     "output_type": "execute_result"
    }
   ],
   "source": [
    "final5_df = pd.concat([hog_df, source_df.iloc[:,1:], source_df2.iloc[:,1:]], axis=1)\n",
    "final5_df.shape,  hog_df.shape, source_df.shape, source_df2.shape\n"
   ]
  },
  {
   "cell_type": "code",
   "execution_count": 40,
   "id": "4e7a0a29",
   "metadata": {},
   "outputs": [],
   "source": [
    "\n",
    "#data = source_df.iloc[:, :source_df.shape[1]].values.astype(np.float32)\n",
    "data5 = final5_df.iloc[:, 1:].values.astype(np.float32)\n",
    "target5 = final5_df['label'].values"
   ]
  },
  {
   "cell_type": "code",
   "execution_count": 44,
   "id": "ac4d95b3",
   "metadata": {},
   "outputs": [
    {
     "data": {
      "image/png": "[encoded data removed]",
      "text/plain": [
       "<Figure size 432x432 with 1 Axes>"
      ]
     },
     "metadata": {},
     "output_type": "display_data"
    }
   ],
   "source": [
    "# Initialize UMAP\n",
    "reducer5 = umap.UMAP(n_neighbors = 30, random_state=42)\n",
    "#reducer = umap(random_state=42)\n",
    "\n",
    "\n",
    "# Fit and transform the data\n",
    "embedding5 = reducer4.fit_transform(data5)\n",
    "\n",
    "# Prepare the data for visualization\n",
    "df = pd.DataFrame(embedding5, columns=('x', 'y'))\n",
    "\n",
    "df['class'] = pd.Series([str(x) for x in target5], dtype=\"category\")\n",
    "\n",
    "# Visualize the data using datashader\n",
    "\n",
    "cvs = ds.Canvas(plot_width=100, plot_height=100)\n",
    "agg = cvs.points(df, 'x', 'y', ds.count_cat('class'))\n",
    "img = tf.shade(agg, color_key=color_key2, how='eq_hist')\n",
    "utils.export_image(img, filename='histxy_hog_30', background='white')\n",
    "\n",
    "# Display the image\n",
    "image = plt.imread('histxy_hog_30.png')\n",
    "fig, ax = plt.subplots(figsize=(6, 6))\n",
    "plt.imshow(image)\n",
    "plt.setp(ax, xticks=[], yticks=[])\n",
    "plt.title(\"Sum of X and Y and HOG mapped Into 2 dimensions by UMAP w n=30\", fontsize=12)\n",
    "plt.show()\n",
    "\n",
    "\n"
   ]
  },
  {
   "cell_type": "markdown",
   "id": "4043cf67",
   "metadata": {},
   "source": [
    "**The Mapping above does not show a clear seperation of clusters**"
   ]
  },
  {
   "cell_type": "code",
   "execution_count": null,
   "id": "baccffc3",
   "metadata": {},
   "outputs": [],
   "source": []
  }
 ],
 "metadata": {
  "kernelspec": {
   "display_name": "Python 3 (ipykernel)",
   "language": "python",
   "name": "python3"
  },
  "language_info": {
   "codemirror_mode": {
    "name": "ipython",
    "version": 3
   },
   "file_extension": ".py",
   "mimetype": "text/x-python",
   "name": "python",
   "nbconvert_exporter": "python",
   "pygments_lexer": "ipython3",
   "version": "3.9.12"
  }
 },
 "nbformat": 4,
 "nbformat_minor": 5
}
