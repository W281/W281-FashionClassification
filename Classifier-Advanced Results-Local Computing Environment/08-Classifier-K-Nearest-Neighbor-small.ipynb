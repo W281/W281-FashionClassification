{
 "cells": [
  {
   "cell_type": "markdown",
   "id": "fcea1208",
   "metadata": {},
   "source": [
    "### We fit the UMAP output of the grayscale image, to a KNN"
   ]
  },
  {
   "cell_type": "code",
   "execution_count": 1,
   "id": "d62d4a54",
   "metadata": {},
   "outputs": [],
   "source": [
    "# Load packages\n",
    "import pandas as pd\n",
    "import numpy as np\n",
    "import cv2 as cv"
   ]
  },
  {
   "cell_type": "code",
   "execution_count": 2,
   "id": "d393f282",
   "metadata": {},
   "outputs": [],
   "source": [
    "from sklearn.datasets import make_classification\n",
    "from sklearn.model_selection import train_test_split, GridSearchCV\n",
    "from sklearn.pipeline import Pipeline\n",
    "from sklearn.svm import LinearSVC"
   ]
  },
  {
   "cell_type": "code",
   "execution_count": 3,
   "id": "2d7ae4d8",
   "metadata": {},
   "outputs": [],
   "source": [
    "import matplotlib.pyplot as plt"
   ]
  },
  {
   "cell_type": "code",
   "execution_count": 4,
   "id": "ed2c98e8",
   "metadata": {},
   "outputs": [],
   "source": [
    "import seaborn as sns"
   ]
  },
  {
   "cell_type": "code",
   "execution_count": 5,
   "id": "36dba2a4",
   "metadata": {},
   "outputs": [],
   "source": [
    "import pickle"
   ]
  },
  {
   "cell_type": "code",
   "execution_count": 6,
   "id": "03be695e",
   "metadata": {},
   "outputs": [],
   "source": [
    "from sklearn.metrics import accuracy_score"
   ]
  },
  {
   "cell_type": "code",
   "execution_count": 16,
   "id": "4f04ec8e",
   "metadata": {},
   "outputs": [],
   "source": [
    "from sklearn.neighbors import KNeighborsClassifier"
   ]
  },
  {
   "cell_type": "code",
   "execution_count": 18,
   "id": "59cdf3a5",
   "metadata": {},
   "outputs": [],
   "source": [
    "import time"
   ]
  },
  {
   "cell_type": "markdown",
   "id": "edc95dbd",
   "metadata": {},
   "source": [
    "## K Nearest Neighbor on UMAP Data"
   ]
  },
  {
   "cell_type": "code",
   "execution_count": 7,
   "id": "ff6f27fb",
   "metadata": {},
   "outputs": [],
   "source": [
    "decipher_key = {\n",
    "    0:\"Pants\",\n",
    "    1:\"Tshirts\",\n",
    "    2:\"Watches\",\n",
    "    3:\"Casual Shoes\"\n",
    " \n",
    "}"
   ]
  },
  {
   "cell_type": "markdown",
   "id": "6eb15fb0",
   "metadata": {},
   "source": [
    "**Load previously mapped train data**"
   ]
  },
  {
   "cell_type": "code",
   "execution_count": 8,
   "id": "328d5a82",
   "metadata": {},
   "outputs": [],
   "source": [
    "umap_train = pd.read_csv('umap_train_gray_small.csv')"
   ]
  },
  {
   "cell_type": "markdown",
   "id": "0d30c950",
   "metadata": {},
   "source": [
    "**Load previously mapped validation data**"
   ]
  },
  {
   "cell_type": "code",
   "execution_count": 9,
   "id": "f3b2b429",
   "metadata": {},
   "outputs": [],
   "source": [
    "umap_test = pd.read_csv('umap_test_gray_small.csv')"
   ]
  },
  {
   "cell_type": "code",
   "execution_count": 10,
   "id": "4bea4475",
   "metadata": {},
   "outputs": [
    {
     "data": {
      "text/plain": [
       "(   label  embedding x  embedding y\n",
       " 0    1.0     2.110022    -7.999280\n",
       " 1    0.0     5.100040     8.833552\n",
       " 2    3.0    -6.490954     2.556388\n",
       " 3    0.0     5.625717     7.953938\n",
       " 4    3.0    -8.826978     4.846537,\n",
       " pandas.core.frame.DataFrame)"
      ]
     },
     "execution_count": 10,
     "metadata": {},
     "output_type": "execute_result"
    }
   ],
   "source": [
    "umap_train.head(), type(umap_train)"
   ]
  },
  {
   "cell_type": "code",
   "execution_count": 11,
   "id": "28a36c99",
   "metadata": {},
   "outputs": [
    {
     "data": {
      "text/plain": [
       "(   label  embedding x  embedding y\n",
       " 0    3.0    -8.880007     3.241354\n",
       " 1    0.0     4.368115     5.876838\n",
       " 2    0.0     5.280326     5.637134\n",
       " 3    0.0     5.334394     5.912980\n",
       " 4    3.0    -9.040495     4.817611,\n",
       " pandas.core.frame.DataFrame)"
      ]
     },
     "execution_count": 11,
     "metadata": {},
     "output_type": "execute_result"
    }
   ],
   "source": [
    "umap_test.head(), type(umap_test)"
   ]
  },
  {
   "cell_type": "code",
   "execution_count": 12,
   "id": "2e567293",
   "metadata": {},
   "outputs": [],
   "source": [
    "#train_df.iloc[:, 1:].values.astype(np.float32)\n",
    "x_train_u = umap_train.iloc[:, 1:].values.astype(np.float32)\n",
    "y_train_u =umap_train['label'].values\n"
   ]
  },
  {
   "cell_type": "code",
   "execution_count": 13,
   "id": "42236376",
   "metadata": {},
   "outputs": [],
   "source": [
    "x_test_u = umap_test.iloc[:, 1:].values.astype(np.float32)\n",
    "y_test_u =umap_test['label'].values"
   ]
  },
  {
   "cell_type": "code",
   "execution_count": 14,
   "id": "c1afa309",
   "metadata": {},
   "outputs": [
    {
     "data": {
      "text/plain": [
       "((3377, 2), (3377,))"
      ]
     },
     "execution_count": 14,
     "metadata": {},
     "output_type": "execute_result"
    }
   ],
   "source": [
    "x_train_u.shape, y_train_u.shape"
   ]
  },
  {
   "cell_type": "code",
   "execution_count": 15,
   "id": "d46a47a5",
   "metadata": {},
   "outputs": [
    {
     "data": {
      "text/plain": [
       "((965, 2), (965,))"
      ]
     },
     "execution_count": 15,
     "metadata": {},
     "output_type": "execute_result"
    }
   ],
   "source": [
    "x_test_u.shape, y_test_u.shape"
   ]
  },
  {
   "cell_type": "markdown",
   "id": "f4b4a1f6",
   "metadata": {},
   "source": [
    "### Fit KNN model"
   ]
  },
  {
   "cell_type": "code",
   "execution_count": 19,
   "id": "2087f15f",
   "metadata": {},
   "outputs": [
    {
     "name": "stdout",
     "output_type": "stream",
     "text": [
      "percent complete:  100 - 0.00900721549987793 seconds -\n"
     ]
    }
   ],
   "source": [
    "\n",
    "percent=100\n",
    "start_time = time.time()\n",
    "\n",
    "data = np.column_stack((x_train_u , y_train_u ))\n",
    "\n",
    "# Create and train the KNN classifier\n",
    "knn = KNeighborsClassifier(n_neighbors=3)\n",
    "knn.fit(x_train_u, y_train_u)\n",
    "print('percent complete: ',percent, end =\" - %s seconds -\\n\" % \\\n",
    "              (time.time() - start_time), flush=False)\n"
   ]
  },
  {
   "cell_type": "markdown",
   "id": "7dda8d88",
   "metadata": {},
   "source": [
    "**save knn model***"
   ]
  },
  {
   "cell_type": "code",
   "execution_count": 26,
   "id": "0aaea375",
   "metadata": {},
   "outputs": [],
   "source": [
    "\n",
    "\n",
    "# Save the trained model as a pickle string.\n",
    "saved_model = pickle.dumps(knn)\n",
    "\n",
    "# Save the model to disk\n",
    "with open('knn_gray_small.pkl', 'wb') as file:\n",
    "    pickle.dump(knn, file)"
   ]
  },
  {
   "cell_type": "markdown",
   "id": "40a87703",
   "metadata": {},
   "source": [
    "**load knn model**"
   ]
  },
  {
   "cell_type": "code",
   "execution_count": 20,
   "id": "da713fb1",
   "metadata": {},
   "outputs": [],
   "source": [
    "# Load the model from disk\n",
    "with open('knn_gray_small.pkl', 'rb') as file:\n",
    "    loaded_model = pickle.load(file)"
   ]
  },
  {
   "cell_type": "markdown",
   "id": "ac724306",
   "metadata": {},
   "source": [
    "**predict using validation data**"
   ]
  },
  {
   "cell_type": "code",
   "execution_count": 21,
   "id": "7b477db8",
   "metadata": {},
   "outputs": [],
   "source": [
    "\n",
    "y_pred_u = loaded_model.predict(x_test_u)\n",
    "\n",
    "#print(new_labels)\n"
   ]
  },
  {
   "cell_type": "markdown",
   "id": "9f870d36",
   "metadata": {},
   "source": [
    "**metrics data**"
   ]
  },
  {
   "cell_type": "code",
   "execution_count": 22,
   "id": "89d3d773",
   "metadata": {},
   "outputs": [
    {
     "name": "stdout",
     "output_type": "stream",
     "text": [
      "The accuracy of the KNN model is 0.96\n",
      "percent complete:  100 - 0.0020012855529785156 seconds -\n"
     ]
    }
   ],
   "source": [
    "percent=100\n",
    "start_time = time.time()\n",
    "\n",
    "# Assuming y_test_u are the true labels for the test set\n",
    "accuracy = accuracy_score(y_test_u, y_pred_u)\n",
    "\n",
    "print(f'The accuracy of the KNN model is {accuracy:.2f}')\n",
    "print('percent complete: ',percent, end =\" - %s seconds -\\n\" % \\\n",
    "              (time.time() - start_time), flush=False)\n"
   ]
  },
  {
   "cell_type": "markdown",
   "id": "db5f95b9",
   "metadata": {},
   "source": [
    "**accuracy for each category**"
   ]
  },
  {
   "cell_type": "code",
   "execution_count": 18,
   "id": "89e0698c",
   "metadata": {},
   "outputs": [],
   "source": [
    "#decipher key\n",
    "decipher_key = {\n",
    "    0:\"Pants\",\n",
    "    1:\"Tshirts\",\n",
    "    2:\"Watches\",\n",
    "    3:\"Casual Shoes\"\n",
    " \n",
    "}"
   ]
  },
  {
   "cell_type": "code",
   "execution_count": 31,
   "id": "137e87a4",
   "metadata": {},
   "outputs": [
    {
     "data": {
      "text/plain": [
       "((231,), array([0., 0., 0.]))"
      ]
     },
     "execution_count": 31,
     "metadata": {},
     "output_type": "execute_result"
    }
   ],
   "source": [
    "#each category in each array\n",
    "x_tlistu =[]\n",
    "y_tlistu = []\n",
    "tlabelu =[]\n",
    "for i in range(4):\n",
    "    indices = np.where(y_test_u == i)[0]\n",
    "    y_tlistu.append(y_test_u[indices])\n",
    "    x_tlistu.append(x_test_u[indices])\n",
    "    tlabelu.append(decipher_key[i])\n",
    "    \n",
    "y_tlistu[0].shape, y_tlistu[0][0:3]"
   ]
  },
  {
   "cell_type": "code",
   "execution_count": 32,
   "id": "5d9d65cc",
   "metadata": {},
   "outputs": [
    {
     "name": "stdout",
     "output_type": "stream",
     "text": [
      "Accuracy on the Pants  test set with grayscale image: 0.957\n",
      "Accuracy on the Tshirts  test set with grayscale image: 0.942\n",
      "Accuracy on the Watches  test set with grayscale image: 0.948\n",
      "Accuracy on the Casual Shoes  test set with grayscale image: 0.996\n"
     ]
    }
   ],
   "source": [
    "for i in range(4):\n",
    "    print(\"Accuracy on the\",tlabelu[i],\" test set with grayscale image: {:.3f}\".\\\n",
    "          format(loaded_model.score(x_tlistu[i], y_tlistu[i])))"
   ]
  },
  {
   "cell_type": "code",
   "execution_count": 33,
   "id": "ecf765b8",
   "metadata": {},
   "outputs": [
    {
     "name": "stdout",
     "output_type": "stream",
     "text": [
      "[[221   3   6   1]\n",
      " [  2 194  10   0]\n",
      " [  7   6 253   1]\n",
      " [  1   0   0 260]]\n"
     ]
    }
   ],
   "source": [
    "from sklearn.metrics import confusion_matrix\n",
    "#x_tlist[i]\n",
    "#y_tlist[i]\n",
    "\n",
    "# Use the fitted model to make predictions on the same data used for fitting\n",
    "y_pred_u = loaded_model.predict(x_test_u)\n",
    "\n",
    "# Generate the confusion matrix\n",
    "cm = confusion_matrix(y_test_u, y_pred_u)\n",
    "\n",
    "print(cm)"
   ]
  },
  {
   "cell_type": "code",
   "execution_count": 34,
   "id": "c25973e9",
   "metadata": {},
   "outputs": [
    {
     "data": {
      "image/png": "[encoded data removed]",
      "text/plain": [
       "<Figure size 720x504 with 2 Axes>"
      ]
     },
     "metadata": {
      "needs_background": "light"
     },
     "output_type": "display_data"
    }
   ],
   "source": [
    "\n",
    "# Create a heatmap\n",
    "# Create a list of labels\n",
    "labels = [decipher_key[i] for i in range(4)]\n",
    "plt.figure(figsize=(10,7))\n",
    "#sns.heatmap(cm, annot=True, fmt='d', cmap='Blues')\n",
    "sns.heatmap(cm, annot=True, fmt='d', cmap='Blues', xticklabels=labels, yticklabels=labels)\n",
    "\n",
    "# Add labels to the plot\n",
    "plt.xlabel('Predicted label')\n",
    "plt.ylabel('True label')\n",
    "plt.title('Confusion Matrix')\n",
    "\n",
    "# Show the plot\n",
    "plt.show()"
   ]
  },
  {
   "cell_type": "markdown",
   "id": "7c0c5f30",
   "metadata": {},
   "source": [
    "**pull examples**"
   ]
  },
  {
   "cell_type": "code",
   "execution_count": 35,
   "id": "e3e2499b",
   "metadata": {},
   "outputs": [],
   "source": [
    "# Assuming y_true is your list of true labels and y_pred is your list of predicted labels\n",
    "# And X_data is your original dataset\n",
    "\n",
    "misclassified_indexes = []\n",
    "\n",
    "for i in range(len(y_test_u)):\n",
    "    # If true label is 'Tshirts' (which corresponds to 1)\n",
    "    # and predicted label is 'Casual Shoes' (which corresponds to 3)\n",
    "    if (y_test_u[i] == 0) and (y_pred_u[i] == 1):\n",
    "        misclassified_indexes.append(i)\n",
    "\n",
    "# Now, misclassified_indexes contains the indexes of all misclassified examples\n",
    "# You can use it to get the corresponding data from X_data\n",
    "#misclassified_data = x_test[misclassified_indexes]\n",
    "\n",
    "\n"
   ]
  },
  {
   "cell_type": "code",
   "execution_count": 36,
   "id": "3ef6373b",
   "metadata": {},
   "outputs": [
    {
     "data": {
      "text/plain": [
       "[296, 834, 947]"
      ]
     },
     "execution_count": 36,
     "metadata": {},
     "output_type": "execute_result"
    }
   ],
   "source": [
    "misclassified_indexes"
   ]
  },
  {
   "cell_type": "markdown",
   "id": "2814dd1a",
   "metadata": {},
   "source": [
    "**Load test images**"
   ]
  },
  {
   "cell_type": "code",
   "execution_count": 30,
   "id": "3e8059cb",
   "metadata": {},
   "outputs": [],
   "source": [
    "test_df = pd.read_csv('gray_small_test_set.csv')\n",
    "\n",
    "test_img = test_df.iloc[:, 1:].values.astype(np.float32)\n",
    "\n",
    "test_label = test_df['label'].values"
   ]
  },
  {
   "cell_type": "code",
   "execution_count": 36,
   "id": "46b21c02",
   "metadata": {},
   "outputs": [
    {
     "data": {
      "text/plain": [
       "<matplotlib.image.AxesImage at 0x8481aa78e0>"
      ]
     },
     "execution_count": 36,
     "metadata": {},
     "output_type": "execute_result"
    },
    {
     "data": {
      "text/plain": [
       "<Figure size 2016x2016 with 0 Axes>"
      ]
     },
     "metadata": {},
     "output_type": "display_data"
    },
    {
     "data": {
      "image/png": "[encoded data removed]",
      "text/plain": [
       "<Figure size 720x720 with 1 Axes>"
      ]
     },
     "metadata": {
      "needs_background": "light"
     },
     "output_type": "display_data"
    }
   ],
   "source": [
    "temp =296\n",
    "img_gray  = np.reshape(test_img[temp], newshape=(40,30))\n",
    "plt.figure(figsize = (28,28))\n",
    "f, axarr = plt.subplots(1,1, figsize=(10, 10))\n",
    "title = \"Item of Class: \\'\" +decipher_key[test_label[temp]] +\"\\' Labeled As Tshirt\"\n",
    "axarr.title.set_text(title)\n",
    "axarr.imshow(img_gray, cmap='gray')"
   ]
  },
  {
   "cell_type": "markdown",
   "id": "ac589e29",
   "metadata": {},
   "source": [
    "**Its possible that if we use the mapped data that included the features that the accuracy improves**"
   ]
  },
  {
   "cell_type": "code",
   "execution_count": null,
   "id": "2c495dbc",
   "metadata": {},
   "outputs": [],
   "source": []
  }
 ],
 "metadata": {
  "kernelspec": {
   "display_name": "Python 3 (ipykernel)",
   "language": "python",
   "name": "python3"
  },
  "language_info": {
   "codemirror_mode": {
    "name": "ipython",
    "version": 3
   },
   "file_extension": ".py",
   "mimetype": "text/x-python",
   "name": "python",
   "nbconvert_exporter": "python",
   "pygments_lexer": "ipython3",
   "version": "3.9.12"
  }
 },
 "nbformat": 4,
 "nbformat_minor": 5
}
