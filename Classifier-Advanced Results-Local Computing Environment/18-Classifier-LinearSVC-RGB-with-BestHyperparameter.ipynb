{
 "cells": [
  {
   "cell_type": "markdown",
   "id": "90d2c1b2",
   "metadata": {},
   "source": [
    "## Checking Performance of RGB Data on LinearSVC to compare with our final model"
   ]
  },
  {
   "cell_type": "code",
   "execution_count": 1,
   "id": "d62d4a54",
   "metadata": {},
   "outputs": [],
   "source": [
    "# Load packages\n",
    "import pandas as pd\n",
    "import numpy as np\n",
    "import cv2 as cv"
   ]
  },
  {
   "cell_type": "code",
   "execution_count": 2,
   "id": "d393f282",
   "metadata": {},
   "outputs": [],
   "source": [
    "from sklearn.datasets import make_classification\n",
    "from sklearn.model_selection import train_test_split, GridSearchCV\n",
    "from sklearn.pipeline import Pipeline\n",
    "from sklearn.svm import LinearSVC"
   ]
  },
  {
   "cell_type": "code",
   "execution_count": 3,
   "id": "2d7ae4d8",
   "metadata": {},
   "outputs": [],
   "source": [
    "import matplotlib.pyplot as plt"
   ]
  },
  {
   "cell_type": "code",
   "execution_count": 4,
   "id": "ed2c98e8",
   "metadata": {},
   "outputs": [],
   "source": [
    "import seaborn as sns"
   ]
  },
  {
   "cell_type": "code",
   "execution_count": 5,
   "id": "38b5005e",
   "metadata": {},
   "outputs": [],
   "source": [
    "import time"
   ]
  },
  {
   "cell_type": "markdown",
   "id": "4ac6f0f8",
   "metadata": {},
   "source": [
    "## Linear SVC on full RGB images with Best Hyperparameter"
   ]
  },
  {
   "cell_type": "markdown",
   "id": "12daaafd",
   "metadata": {},
   "source": [
    "Lets do a fit of thet test vectors, without any mapping. "
   ]
  },
  {
   "cell_type": "markdown",
   "id": "a31a6cd6",
   "metadata": {},
   "source": [
    "**Load train data**"
   ]
  },
  {
   "cell_type": "code",
   "execution_count": 6,
   "id": "99d37b70",
   "metadata": {},
   "outputs": [],
   "source": [
    "train_df = pd.read_csv('output_rgb.csv')\n",
    "\n",
    "#train_data = train_df.iloc[:, :train_df.shape[1]].values.astype(np.float32)\n",
    "train_data = train_df.iloc[:, 1:].values.astype(np.float32)\n",
    "\n",
    "train_target = train_df['label'].values"
   ]
  },
  {
   "cell_type": "code",
   "execution_count": 11,
   "id": "e3325be3",
   "metadata": {},
   "outputs": [],
   "source": [
    "x_train = train_data\n",
    "y_train =train_target"
   ]
  },
  {
   "cell_type": "markdown",
   "id": "be509c14",
   "metadata": {},
   "source": [
    "**Brief Sanity Check**"
   ]
  },
  {
   "cell_type": "code",
   "execution_count": 10,
   "id": "ae09d9ff",
   "metadata": {},
   "outputs": [
    {
     "data": {
      "text/plain": [
       "((3377, 14400), (3377, 14401))"
      ]
     },
     "execution_count": 10,
     "metadata": {},
     "output_type": "execute_result"
    }
   ],
   "source": [
    "x_train.shape, train_df.shape"
   ]
  },
  {
   "cell_type": "markdown",
   "id": "fc2c1369",
   "metadata": {},
   "source": [
    "**Load validation data**"
   ]
  },
  {
   "cell_type": "code",
   "execution_count": 12,
   "id": "00e430f5",
   "metadata": {},
   "outputs": [],
   "source": [
    "test_df = pd.read_csv('output_rgb_test.csv')\n",
    "\n",
    "test_data = test_df.iloc[:, 1:].values.astype(np.float32)\n",
    "\n",
    "test_target = test_df['label'].values"
   ]
  },
  {
   "cell_type": "code",
   "execution_count": 13,
   "id": "8b2b2986",
   "metadata": {},
   "outputs": [],
   "source": [
    "x_test = test_data\n",
    "y_test =  test_target"
   ]
  },
  {
   "cell_type": "markdown",
   "id": "6cf8652d",
   "metadata": {},
   "source": [
    "**Fit to train data**(took 12 minutes)"
   ]
  },
  {
   "cell_type": "code",
   "execution_count": 15,
   "id": "beefc9f2",
   "metadata": {},
   "outputs": [
    {
     "name": "stdout",
     "output_type": "stream",
     "text": [
      "percent complete:  100 - 121.65492725372314 seconds -\n"
     ]
    }
   ],
   "source": [
    "#1:39pm\n",
    "# Classification with a linear SVM\n",
    "percent=100\n",
    "start_time = time.time()\n",
    "svc = LinearSVC(dual=False, random_state=123)\n",
    "params_grid = {\"C\": [0.00001]}\n",
    "clf = GridSearchCV(svc, params_grid)\n",
    "clf.fit(x_train, y_train)\n",
    "print('percent complete: ',percent, end =\" - %s seconds -\\n\" % \\\n",
    "              (time.time() - start_time), flush=True)\n",
    "\n"
   ]
  },
  {
   "cell_type": "markdown",
   "id": "28f1f592",
   "metadata": {},
   "source": [
    "**Training time was 121 seconds**"
   ]
  },
  {
   "cell_type": "markdown",
   "id": "1d0aa97b",
   "metadata": {},
   "source": [
    "**Validation data**"
   ]
  },
  {
   "cell_type": "code",
   "execution_count": 16,
   "id": "9d522ad4",
   "metadata": {},
   "outputs": [
    {
     "name": "stdout",
     "output_type": "stream",
     "text": [
      "Accuracy on the test set with unprocessed RGB data: 0.983\n",
      "percent complete:  100 - 0.821824312210083 seconds -\n"
     ]
    }
   ],
   "source": [
    "start_time = time.time()\n",
    "print(\"Accuracy on the test set with unprocessed RGB data: {:.3f}\".format(clf.score(x_test, y_test)))\n",
    "print('percent complete: ',percent, end =\" - %s seconds -\\n\" % \\\n",
    "              (time.time() - start_time), flush=True)"
   ]
  },
  {
   "cell_type": "markdown",
   "id": "992ea9a3",
   "metadata": {},
   "source": [
    "**Prediction time 0.82 seconds**"
   ]
  },
  {
   "cell_type": "markdown",
   "id": "294dcfbb",
   "metadata": {},
   "source": [
    "**For later use**"
   ]
  },
  {
   "cell_type": "code",
   "execution_count": 17,
   "id": "4820cd98",
   "metadata": {},
   "outputs": [],
   "source": [
    "import pickle\n",
    "\n",
    "# Save to file\n",
    "with open('linear_svc_raw_rgb_data_bp.pkl', 'wb') as f:\n",
    "    pickle.dump(clf, f)\n"
   ]
  },
  {
   "cell_type": "code",
   "execution_count": 18,
   "id": "653a96c7",
   "metadata": {},
   "outputs": [],
   "source": [
    "# Load from file\n",
    "with open('linear_svc_raw_rgb_data_bp.pkl', 'rb') as f:\n",
    "    clf_graw_loaded = pickle.load(f)"
   ]
  }
 ],
 "metadata": {
  "kernelspec": {
   "display_name": "Python 3 (ipykernel)",
   "language": "python",
   "name": "python3"
  },
  "language_info": {
   "codemirror_mode": {
    "name": "ipython",
    "version": 3
   },
   "file_extension": ".py",
   "mimetype": "text/x-python",
   "name": "python",
   "nbconvert_exporter": "python",
   "pygments_lexer": "ipython3",
   "version": "3.9.12"
  }
 },
 "nbformat": 4,
 "nbformat_minor": 5
}
