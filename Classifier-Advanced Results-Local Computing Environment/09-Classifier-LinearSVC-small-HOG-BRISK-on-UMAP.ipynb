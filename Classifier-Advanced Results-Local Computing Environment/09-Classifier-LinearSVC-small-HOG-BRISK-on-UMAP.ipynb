{
 "cells": [
  {
   "cell_type": "markdown",
   "id": "51a10182",
   "metadata": {},
   "source": [
    "## Fitting the mapped data (with inclusion of the features) through LinearSVC"
   ]
  },
  {
   "cell_type": "code",
   "execution_count": 1,
   "id": "d62d4a54",
   "metadata": {},
   "outputs": [],
   "source": [
    "# Load packages\n",
    "import pandas as pd\n",
    "import numpy as np\n",
    "import cv2 as cv"
   ]
  },
  {
   "cell_type": "code",
   "execution_count": 2,
   "id": "d393f282",
   "metadata": {},
   "outputs": [],
   "source": [
    "from sklearn.datasets import make_classification\n",
    "from sklearn.model_selection import train_test_split, GridSearchCV\n",
    "from sklearn.pipeline import Pipeline\n",
    "from sklearn.svm import LinearSVC"
   ]
  },
  {
   "cell_type": "code",
   "execution_count": 3,
   "id": "2d7ae4d8",
   "metadata": {},
   "outputs": [],
   "source": [
    "import matplotlib.pyplot as plt"
   ]
  },
  {
   "cell_type": "code",
   "execution_count": 4,
   "id": "ed2c98e8",
   "metadata": {},
   "outputs": [],
   "source": [
    "import seaborn as sns"
   ]
  },
  {
   "cell_type": "code",
   "execution_count": 5,
   "id": "332c7191",
   "metadata": {},
   "outputs": [],
   "source": [
    "import time"
   ]
  },
  {
   "cell_type": "markdown",
   "id": "edc95dbd",
   "metadata": {},
   "source": [
    "## Linear SVC on UMAP Data \n",
    "### Data includes Gray + HOG + BRISK"
   ]
  },
  {
   "cell_type": "markdown",
   "id": "161a7305",
   "metadata": {},
   "source": [
    "**map validation data**"
   ]
  },
  {
   "cell_type": "code",
   "execution_count": 6,
   "id": "26ebc651",
   "metadata": {},
   "outputs": [
    {
     "data": {
      "text/html": [
       "<div>\n",
       "<style scoped>\n",
       "    .dataframe tbody tr th:only-of-type {\n",
       "        vertical-align: middle;\n",
       "    }\n",
       "\n",
       "    .dataframe tbody tr th {\n",
       "        vertical-align: top;\n",
       "    }\n",
       "\n",
       "    .dataframe thead th {\n",
       "        text-align: right;\n",
       "    }\n",
       "</style>\n",
       "<table border=\"1\" class=\"dataframe\">\n",
       "  <thead>\n",
       "    <tr style=\"text-align: right;\">\n",
       "      <th></th>\n",
       "      <th>label</th>\n",
       "      <th>pixel0</th>\n",
       "      <th>pixel1</th>\n",
       "      <th>pixel2</th>\n",
       "      <th>pixel3</th>\n",
       "      <th>pixel4</th>\n",
       "      <th>pixel5</th>\n",
       "      <th>pixel6</th>\n",
       "      <th>pixel7</th>\n",
       "      <th>pixel8</th>\n",
       "      <th>...</th>\n",
       "      <th>pixel1190</th>\n",
       "      <th>pixel1191</th>\n",
       "      <th>pixel1192</th>\n",
       "      <th>pixel1193</th>\n",
       "      <th>pixel1194</th>\n",
       "      <th>pixel1195</th>\n",
       "      <th>pixel1196</th>\n",
       "      <th>pixel1197</th>\n",
       "      <th>pixel1198</th>\n",
       "      <th>pixel1199</th>\n",
       "    </tr>\n",
       "  </thead>\n",
       "  <tbody>\n",
       "    <tr>\n",
       "      <th>0</th>\n",
       "      <td>0</td>\n",
       "      <td>255</td>\n",
       "      <td>255</td>\n",
       "      <td>255</td>\n",
       "      <td>255</td>\n",
       "      <td>254</td>\n",
       "      <td>250</td>\n",
       "      <td>217</td>\n",
       "      <td>214</td>\n",
       "      <td>201</td>\n",
       "      <td>...</td>\n",
       "      <td>255</td>\n",
       "      <td>255</td>\n",
       "      <td>255</td>\n",
       "      <td>255</td>\n",
       "      <td>255</td>\n",
       "      <td>255</td>\n",
       "      <td>255</td>\n",
       "      <td>255</td>\n",
       "      <td>255</td>\n",
       "      <td>255</td>\n",
       "    </tr>\n",
       "    <tr>\n",
       "      <th>1</th>\n",
       "      <td>1</td>\n",
       "      <td>255</td>\n",
       "      <td>255</td>\n",
       "      <td>255</td>\n",
       "      <td>255</td>\n",
       "      <td>255</td>\n",
       "      <td>255</td>\n",
       "      <td>255</td>\n",
       "      <td>255</td>\n",
       "      <td>254</td>\n",
       "      <td>...</td>\n",
       "      <td>248</td>\n",
       "      <td>253</td>\n",
       "      <td>253</td>\n",
       "      <td>253</td>\n",
       "      <td>255</td>\n",
       "      <td>255</td>\n",
       "      <td>255</td>\n",
       "      <td>255</td>\n",
       "      <td>255</td>\n",
       "      <td>255</td>\n",
       "    </tr>\n",
       "    <tr>\n",
       "      <th>2</th>\n",
       "      <td>0</td>\n",
       "      <td>255</td>\n",
       "      <td>255</td>\n",
       "      <td>255</td>\n",
       "      <td>255</td>\n",
       "      <td>253</td>\n",
       "      <td>253</td>\n",
       "      <td>202</td>\n",
       "      <td>201</td>\n",
       "      <td>202</td>\n",
       "      <td>...</td>\n",
       "      <td>254</td>\n",
       "      <td>254</td>\n",
       "      <td>255</td>\n",
       "      <td>254</td>\n",
       "      <td>255</td>\n",
       "      <td>255</td>\n",
       "      <td>255</td>\n",
       "      <td>255</td>\n",
       "      <td>255</td>\n",
       "      <td>255</td>\n",
       "    </tr>\n",
       "    <tr>\n",
       "      <th>3</th>\n",
       "      <td>3</td>\n",
       "      <td>255</td>\n",
       "      <td>255</td>\n",
       "      <td>255</td>\n",
       "      <td>255</td>\n",
       "      <td>255</td>\n",
       "      <td>255</td>\n",
       "      <td>255</td>\n",
       "      <td>255</td>\n",
       "      <td>255</td>\n",
       "      <td>...</td>\n",
       "      <td>255</td>\n",
       "      <td>255</td>\n",
       "      <td>255</td>\n",
       "      <td>255</td>\n",
       "      <td>255</td>\n",
       "      <td>255</td>\n",
       "      <td>255</td>\n",
       "      <td>255</td>\n",
       "      <td>255</td>\n",
       "      <td>255</td>\n",
       "    </tr>\n",
       "    <tr>\n",
       "      <th>4</th>\n",
       "      <td>1</td>\n",
       "      <td>255</td>\n",
       "      <td>255</td>\n",
       "      <td>255</td>\n",
       "      <td>255</td>\n",
       "      <td>255</td>\n",
       "      <td>255</td>\n",
       "      <td>255</td>\n",
       "      <td>255</td>\n",
       "      <td>252</td>\n",
       "      <td>...</td>\n",
       "      <td>250</td>\n",
       "      <td>250</td>\n",
       "      <td>252</td>\n",
       "      <td>254</td>\n",
       "      <td>255</td>\n",
       "      <td>255</td>\n",
       "      <td>255</td>\n",
       "      <td>255</td>\n",
       "      <td>255</td>\n",
       "      <td>255</td>\n",
       "    </tr>\n",
       "  </tbody>\n",
       "</table>\n",
       "<p>5 rows × 1201 columns</p>\n",
       "</div>"
      ],
      "text/plain": [
       "   label  pixel0  pixel1  pixel2  pixel3  pixel4  pixel5  pixel6  pixel7  \\\n",
       "0      0     255     255     255     255     254     250     217     214   \n",
       "1      1     255     255     255     255     255     255     255     255   \n",
       "2      0     255     255     255     255     253     253     202     201   \n",
       "3      3     255     255     255     255     255     255     255     255   \n",
       "4      1     255     255     255     255     255     255     255     255   \n",
       "\n",
       "   pixel8  ...  pixel1190  pixel1191  pixel1192  pixel1193  pixel1194  \\\n",
       "0     201  ...        255        255        255        255        255   \n",
       "1     254  ...        248        253        253        253        255   \n",
       "2     202  ...        254        254        255        254        255   \n",
       "3     255  ...        255        255        255        255        255   \n",
       "4     252  ...        250        250        252        254        255   \n",
       "\n",
       "   pixel1195  pixel1196  pixel1197  pixel1198  pixel1199  \n",
       "0        255        255        255        255        255  \n",
       "1        255        255        255        255        255  \n",
       "2        255        255        255        255        255  \n",
       "3        255        255        255        255        255  \n",
       "4        255        255        255        255        255  \n",
       "\n",
       "[5 rows x 1201 columns]"
      ]
     },
     "execution_count": 6,
     "metadata": {},
     "output_type": "execute_result"
    }
   ],
   "source": [
    "# Load new data\n",
    "img_df = pd.read_csv('gray_small_test_set.csv')\n",
    "img_df.head(5)"
   ]
  },
  {
   "cell_type": "markdown",
   "id": "c256741e",
   "metadata": {},
   "source": [
    "**Concatenate Data**"
   ]
  },
  {
   "cell_type": "code",
   "execution_count": 7,
   "id": "a0887b6f",
   "metadata": {},
   "outputs": [],
   "source": [
    "hog_df = pd.read_csv('hog_fd_test.csv')\n",
    "brisk_df = pd.read_csv('brisk_test.csv')"
   ]
  },
  {
   "cell_type": "code",
   "execution_count": 8,
   "id": "6fcda474",
   "metadata": {},
   "outputs": [],
   "source": [
    "test_data = pd.concat([img_df, hog_df.iloc[:,1:], brisk_df.iloc[:,1:]], axis=1)"
   ]
  },
  {
   "cell_type": "markdown",
   "id": "2ccf6923",
   "metadata": {},
   "source": [
    "**map validation data with features**"
   ]
  },
  {
   "cell_type": "code",
   "execution_count": 12,
   "id": "918cf840",
   "metadata": {},
   "outputs": [
    {
     "name": "stdout",
     "output_type": "stream",
     "text": [
      "percent complete:  100 - 1.6300685405731201 seconds -\n"
     ]
    }
   ],
   "source": [
    "import joblib\n",
    "percent=100\n",
    "start_time = time.time()\n",
    "# Load the saved model\n",
    "umap_model = joblib.load('umap_model_gray_small_hog_brisk.pkl')\n",
    "\n",
    "# Transform new data\n",
    "#slicing is to remove label in column 0\n",
    "embedding = umap_model.transform(test_data.iloc[:,1:])\n",
    "print('percent complete: ',percent, end =\" - %s seconds -\\n\" % \\\n",
    "              (time.time() - start_time), flush=False)\n",
    "\n"
   ]
  },
  {
   "cell_type": "code",
   "execution_count": 10,
   "id": "8e771f8a",
   "metadata": {},
   "outputs": [
    {
     "data": {
      "text/plain": [
       "array([[ 8.95238   , -5.223087  ],\n",
       "       [ 5.191209  , -0.69167835],\n",
       "       [ 7.1817408 , -5.467498  ],\n",
       "       ...,\n",
       "       [-0.48632234, -8.051082  ],\n",
       "       [-0.02243627, -2.788068  ],\n",
       "       [ 8.412993  , -6.238215  ]], dtype=float32)"
      ]
     },
     "execution_count": 10,
     "metadata": {},
     "output_type": "execute_result"
    }
   ],
   "source": [
    "embedding"
   ]
  },
  {
   "cell_type": "markdown",
   "id": "3b160820",
   "metadata": {},
   "source": [
    "**export mapped validation data to csv for later use**"
   ]
  },
  {
   "cell_type": "code",
   "execution_count": 11,
   "id": "7272b32a",
   "metadata": {},
   "outputs": [
    {
     "data": {
      "text/html": [
       "<div>\n",
       "<style scoped>\n",
       "    .dataframe tbody tr th:only-of-type {\n",
       "        vertical-align: middle;\n",
       "    }\n",
       "\n",
       "    .dataframe tbody tr th {\n",
       "        vertical-align: top;\n",
       "    }\n",
       "\n",
       "    .dataframe thead th {\n",
       "        text-align: right;\n",
       "    }\n",
       "</style>\n",
       "<table border=\"1\" class=\"dataframe\">\n",
       "  <thead>\n",
       "    <tr style=\"text-align: right;\">\n",
       "      <th></th>\n",
       "      <th>label</th>\n",
       "      <th>pixel0</th>\n",
       "      <th>pixel1</th>\n",
       "      <th>pixel2</th>\n",
       "      <th>pixel3</th>\n",
       "      <th>pixel4</th>\n",
       "      <th>pixel5</th>\n",
       "      <th>pixel6</th>\n",
       "      <th>pixel7</th>\n",
       "      <th>pixel8</th>\n",
       "      <th>...</th>\n",
       "      <th>brisk1190</th>\n",
       "      <th>brisk1191</th>\n",
       "      <th>brisk1192</th>\n",
       "      <th>brisk1193</th>\n",
       "      <th>brisk1194</th>\n",
       "      <th>brisk1195</th>\n",
       "      <th>brisk1196</th>\n",
       "      <th>brisk1197</th>\n",
       "      <th>brisk1198</th>\n",
       "      <th>brisk1199</th>\n",
       "    </tr>\n",
       "  </thead>\n",
       "  <tbody>\n",
       "    <tr>\n",
       "      <th>0</th>\n",
       "      <td>0</td>\n",
       "      <td>255</td>\n",
       "      <td>255</td>\n",
       "      <td>255</td>\n",
       "      <td>255</td>\n",
       "      <td>254</td>\n",
       "      <td>250</td>\n",
       "      <td>217</td>\n",
       "      <td>214</td>\n",
       "      <td>201</td>\n",
       "      <td>...</td>\n",
       "      <td>0</td>\n",
       "      <td>0</td>\n",
       "      <td>0</td>\n",
       "      <td>0</td>\n",
       "      <td>0</td>\n",
       "      <td>0</td>\n",
       "      <td>0</td>\n",
       "      <td>0</td>\n",
       "      <td>0</td>\n",
       "      <td>0</td>\n",
       "    </tr>\n",
       "    <tr>\n",
       "      <th>1</th>\n",
       "      <td>1</td>\n",
       "      <td>255</td>\n",
       "      <td>255</td>\n",
       "      <td>255</td>\n",
       "      <td>255</td>\n",
       "      <td>255</td>\n",
       "      <td>255</td>\n",
       "      <td>255</td>\n",
       "      <td>255</td>\n",
       "      <td>254</td>\n",
       "      <td>...</td>\n",
       "      <td>0</td>\n",
       "      <td>0</td>\n",
       "      <td>0</td>\n",
       "      <td>0</td>\n",
       "      <td>0</td>\n",
       "      <td>0</td>\n",
       "      <td>0</td>\n",
       "      <td>0</td>\n",
       "      <td>0</td>\n",
       "      <td>0</td>\n",
       "    </tr>\n",
       "  </tbody>\n",
       "</table>\n",
       "<p>2 rows × 4129 columns</p>\n",
       "</div>"
      ],
      "text/plain": [
       "   label  pixel0  pixel1  pixel2  pixel3  pixel4  pixel5  pixel6  pixel7  \\\n",
       "0      0     255     255     255     255     254     250     217     214   \n",
       "1      1     255     255     255     255     255     255     255     255   \n",
       "\n",
       "   pixel8  ...  brisk1190  brisk1191  brisk1192  brisk1193  brisk1194  \\\n",
       "0     201  ...          0          0          0          0          0   \n",
       "1     254  ...          0          0          0          0          0   \n",
       "\n",
       "   brisk1195  brisk1196  brisk1197  brisk1198  brisk1199  \n",
       "0          0          0          0          0          0  \n",
       "1          0          0          0          0          0  \n",
       "\n",
       "[2 rows x 4129 columns]"
      ]
     },
     "execution_count": 11,
     "metadata": {},
     "output_type": "execute_result"
    }
   ],
   "source": [
    "test_data.head(2)"
   ]
  },
  {
   "cell_type": "code",
   "execution_count": 15,
   "id": "a0c99343",
   "metadata": {},
   "outputs": [
    {
     "name": "stderr",
     "output_type": "stream",
     "text": [
      "C:\\Users\\edgomr\\AppData\\Local\\Temp\\ipykernel_1452\\1053442049.py:3: FutureWarning: Support for multi-dimensional indexing (e.g. `obj[:, None]`) is deprecated and will be removed in a future version.  Convert to a numpy array before indexing instead.\n",
      "  target = target[:, np.newaxis]\n"
     ]
    }
   ],
   "source": [
    "#\n",
    "target = test_data['label']\n",
    "target = target[:, np.newaxis]\n",
    "\n",
    "# Concatenate along the second axis\n",
    "emb_target = np.concatenate((target, embedding), axis=1)\n",
    "\n",
    "column_names = ['label','embedding x', 'embedding y']\n",
    "embedding_df = pd.DataFrame( emb_target, columns=column_names)\n",
    "#embedding_df.head()\n",
    "\n",
    "embedding_df.to_csv('umap_test_gray_small_hog_brisk.csv', index=False, header=True)  "
   ]
  },
  {
   "cell_type": "markdown",
   "id": "07a90172",
   "metadata": {},
   "source": [
    "**we use the mapped train data to do a linear fit with SVC**"
   ]
  },
  {
   "cell_type": "code",
   "execution_count": 16,
   "id": "51299519",
   "metadata": {},
   "outputs": [],
   "source": [
    "#previously mapped by UMAP\n",
    "train_umap = pd.read_csv('umap_train_gray_small_hog_brisk.csv')"
   ]
  },
  {
   "cell_type": "code",
   "execution_count": 18,
   "id": "ed6ab0e7",
   "metadata": {},
   "outputs": [],
   "source": [
    "test_umap = pd.read_csv('umap_test_gray_small_hog_brisk.csv')"
   ]
  },
  {
   "cell_type": "code",
   "execution_count": 19,
   "id": "4331521e",
   "metadata": {},
   "outputs": [
    {
     "data": {
      "text/html": [
       "<div>\n",
       "<style scoped>\n",
       "    .dataframe tbody tr th:only-of-type {\n",
       "        vertical-align: middle;\n",
       "    }\n",
       "\n",
       "    .dataframe tbody tr th {\n",
       "        vertical-align: top;\n",
       "    }\n",
       "\n",
       "    .dataframe thead th {\n",
       "        text-align: right;\n",
       "    }\n",
       "</style>\n",
       "<table border=\"1\" class=\"dataframe\">\n",
       "  <thead>\n",
       "    <tr style=\"text-align: right;\">\n",
       "      <th></th>\n",
       "      <th>label</th>\n",
       "      <th>embedding x</th>\n",
       "      <th>embedding y</th>\n",
       "    </tr>\n",
       "  </thead>\n",
       "  <tbody>\n",
       "    <tr>\n",
       "      <th>0</th>\n",
       "      <td>0.0</td>\n",
       "      <td>9.754247</td>\n",
       "      <td>-6.922257</td>\n",
       "    </tr>\n",
       "    <tr>\n",
       "      <th>1</th>\n",
       "      <td>2.0</td>\n",
       "      <td>-1.047488</td>\n",
       "      <td>-1.155771</td>\n",
       "    </tr>\n",
       "  </tbody>\n",
       "</table>\n",
       "</div>"
      ],
      "text/plain": [
       "   label  embedding x  embedding y\n",
       "0    0.0     9.754247    -6.922257\n",
       "1    2.0    -1.047488    -1.155771"
      ]
     },
     "execution_count": 19,
     "metadata": {},
     "output_type": "execute_result"
    }
   ],
   "source": [
    "train_umap.head(2)"
   ]
  },
  {
   "cell_type": "code",
   "execution_count": 20,
   "id": "bcdea35b",
   "metadata": {},
   "outputs": [
    {
     "data": {
      "text/html": [
       "<div>\n",
       "<style scoped>\n",
       "    .dataframe tbody tr th:only-of-type {\n",
       "        vertical-align: middle;\n",
       "    }\n",
       "\n",
       "    .dataframe tbody tr th {\n",
       "        vertical-align: top;\n",
       "    }\n",
       "\n",
       "    .dataframe thead th {\n",
       "        text-align: right;\n",
       "    }\n",
       "</style>\n",
       "<table border=\"1\" class=\"dataframe\">\n",
       "  <thead>\n",
       "    <tr style=\"text-align: right;\">\n",
       "      <th></th>\n",
       "      <th>label</th>\n",
       "      <th>embedding x</th>\n",
       "      <th>embedding y</th>\n",
       "    </tr>\n",
       "  </thead>\n",
       "  <tbody>\n",
       "    <tr>\n",
       "      <th>0</th>\n",
       "      <td>0.0</td>\n",
       "      <td>8.952380</td>\n",
       "      <td>-5.223087</td>\n",
       "    </tr>\n",
       "    <tr>\n",
       "      <th>1</th>\n",
       "      <td>1.0</td>\n",
       "      <td>5.191209</td>\n",
       "      <td>-0.691678</td>\n",
       "    </tr>\n",
       "  </tbody>\n",
       "</table>\n",
       "</div>"
      ],
      "text/plain": [
       "   label  embedding x  embedding y\n",
       "0    0.0     8.952380    -5.223087\n",
       "1    1.0     5.191209    -0.691678"
      ]
     },
     "execution_count": 20,
     "metadata": {},
     "output_type": "execute_result"
    }
   ],
   "source": [
    "test_umap.head(2)"
   ]
  },
  {
   "cell_type": "markdown",
   "id": "be2f08ec",
   "metadata": {},
   "source": [
    "**ready to create training data for LinearSVC**"
   ]
  },
  {
   "cell_type": "code",
   "execution_count": 24,
   "id": "2e567293",
   "metadata": {},
   "outputs": [],
   "source": [
    "#train_df.iloc[:, 1:].values.astype(np.float32)\n",
    "x_train_u = train_umap.iloc[:, 1:].values.astype(np.float32)\n",
    "y_train_u =train_umap['label'].values\n"
   ]
  },
  {
   "cell_type": "code",
   "execution_count": 25,
   "id": "42236376",
   "metadata": {},
   "outputs": [],
   "source": [
    "x_test_u = test_umap.iloc[:, 1:].values.astype(np.float32)\n",
    "y_test_u =test_umap['label'].values"
   ]
  },
  {
   "cell_type": "markdown",
   "id": "f4b4a1f6",
   "metadata": {},
   "source": [
    "**immediate output**"
   ]
  },
  {
   "cell_type": "code",
   "execution_count": 26,
   "id": "3947e414",
   "metadata": {},
   "outputs": [
    {
     "data": {
      "text/plain": [
       "GridSearchCV(estimator=LinearSVC(dual=False, random_state=123),\n",
       "             param_grid={'C': [0.001, 0.01, 0.1, 1, 10, 100, 1000]})"
      ]
     },
     "execution_count": 26,
     "metadata": {},
     "output_type": "execute_result"
    }
   ],
   "source": [
    "# Classification with a linear SVM\n",
    "svc = LinearSVC(dual=False, random_state=123)\n",
    "params_grid = {\"C\": [10 ** k for k in range(-3, 4)]}\n",
    "clf_umap = GridSearchCV(svc, params_grid)\n",
    "clf_umap.fit(x_train_u, y_train_u)\n"
   ]
  },
  {
   "cell_type": "markdown",
   "id": "9f870d36",
   "metadata": {},
   "source": [
    "**validation data**"
   ]
  },
  {
   "cell_type": "code",
   "execution_count": 27,
   "id": "cbe3b182",
   "metadata": {},
   "outputs": [
    {
     "name": "stdout",
     "output_type": "stream",
     "text": [
      "Accuracy on the test set with gray data: 0.948\n"
     ]
    }
   ],
   "source": [
    "print(\"Accuracy on the test set with gray data: {:.3f}\".format(clf_umap.score(x_test_u, y_test_u)))"
   ]
  },
  {
   "cell_type": "markdown",
   "id": "6b9cb46f",
   "metadata": {},
   "source": [
    "**can save the fitted model for later use**"
   ]
  },
  {
   "cell_type": "code",
   "execution_count": 28,
   "id": "0aaea375",
   "metadata": {},
   "outputs": [],
   "source": [
    "import pickle\n",
    "\n",
    "# Save to file\n",
    "with open('umap_gray_small_hog_brisk.pkl', 'wb') as f:\n",
    "    pickle.dump(clf_umap, f)\n"
   ]
  },
  {
   "cell_type": "code",
   "execution_count": 29,
   "id": "1acf28d2",
   "metadata": {},
   "outputs": [],
   "source": [
    "# Load from file\n",
    "with open('umap_gray_small_hog_brisk.pkl', 'rb') as f:\n",
    "    clf_gumap_loaded = pickle.load(f)"
   ]
  },
  {
   "cell_type": "code",
   "execution_count": 31,
   "id": "e3db5c12",
   "metadata": {},
   "outputs": [],
   "source": [
    "decipher_key = {\n",
    "    0:\"Pants\",\n",
    "    1:\"Tshirts\",\n",
    "    2:\"Watches\",\n",
    "    3:\"Casual Shoes\"\n",
    " \n",
    "}"
   ]
  },
  {
   "cell_type": "code",
   "execution_count": 32,
   "id": "137e87a4",
   "metadata": {},
   "outputs": [
    {
     "data": {
      "text/plain": [
       "((239,), array([0., 0., 0.]))"
      ]
     },
     "execution_count": 32,
     "metadata": {},
     "output_type": "execute_result"
    }
   ],
   "source": [
    "#define list, x data test list from umap\n",
    "x_tlistu =[]\n",
    "y_tlistu = []\n",
    "tlabelu =[]\n",
    "for i in range(4):\n",
    "    indices = np.where(y_test_u == i)[0]\n",
    "    y_tlistu.append(y_test_u[indices])\n",
    "    x_tlistu.append(x_test_u[indices])\n",
    "    tlabelu.append(decipher_key[i])\n",
    "    \n",
    "y_tlistu[0].shape, y_tlistu[0][0:3]"
   ]
  },
  {
   "cell_type": "markdown",
   "id": "602e0c21",
   "metadata": {},
   "source": [
    "**Accuracy on Validation data:**"
   ]
  },
  {
   "cell_type": "code",
   "execution_count": 33,
   "id": "5d9d65cc",
   "metadata": {},
   "outputs": [
    {
     "name": "stdout",
     "output_type": "stream",
     "text": [
      "Accuracy on the Pants  test set with grayscale image: 0.921\n",
      "Accuracy on the Tshirts  test set with grayscale image: 0.890\n",
      "Accuracy on the Watches  test set with grayscale image: 0.976\n",
      "Accuracy on the Casual Shoes  test set with grayscale image: 1.000\n"
     ]
    }
   ],
   "source": [
    "for i in range(4):\n",
    "    print(\"Accuracy on the\",tlabelu[i],\" test set with grayscale image: {:.3f}\".\\\n",
    "          format(clf_gumap_loaded.score(x_tlistu[i], y_tlistu[i])))"
   ]
  },
  {
   "cell_type": "code",
   "execution_count": 34,
   "id": "ecf765b8",
   "metadata": {},
   "outputs": [
    {
     "name": "stdout",
     "output_type": "stream",
     "text": [
      "[[220   1   7  11]\n",
      " [  0 202  21   4]\n",
      " [  1   2 244   3]\n",
      " [  0   0   0 249]]\n"
     ]
    }
   ],
   "source": [
    "from sklearn.metrics import confusion_matrix\n",
    "#x_tlist[i]\n",
    "#y_tlist[i]\n",
    "\n",
    "# Use the fitted model to make predictions on the same data used for fitting\n",
    "y_pred_u = clf_gumap_loaded.predict(x_test_u)\n",
    "\n",
    "# Generate the confusion matrix\n",
    "cm = confusion_matrix(y_test_u, y_pred_u)\n",
    "\n",
    "print(cm)"
   ]
  },
  {
   "cell_type": "code",
   "execution_count": 35,
   "id": "c25973e9",
   "metadata": {},
   "outputs": [
    {
     "data": {
      "image/png": "[encoded data removed]",
      "text/plain": [
       "<Figure size 720x504 with 2 Axes>"
      ]
     },
     "metadata": {
      "needs_background": "light"
     },
     "output_type": "display_data"
    }
   ],
   "source": [
    "\n",
    "# Create a heatmap\n",
    "# Create a list of labels\n",
    "labels = [decipher_key[i] for i in range(4)]\n",
    "plt.figure(figsize=(10,7))\n",
    "#sns.heatmap(cm, annot=True, fmt='d', cmap='Blues')\n",
    "sns.heatmap(cm, annot=True, fmt='d', cmap='Blues', xticklabels=labels, yticklabels=labels)\n",
    "\n",
    "# Add labels to the plot\n",
    "plt.xlabel('Predicted label')\n",
    "plt.ylabel('True label')\n",
    "plt.title('Confusion Matrix')\n",
    "\n",
    "# Show the plot\n",
    "plt.show()"
   ]
  },
  {
   "cell_type": "markdown",
   "id": "7c0c5f30",
   "metadata": {},
   "source": [
    "**pull misclassified examples**"
   ]
  },
  {
   "cell_type": "code",
   "execution_count": 36,
   "id": "e3e2499b",
   "metadata": {},
   "outputs": [],
   "source": [
    "misclassified_indexes = []\n",
    "\n",
    "for i in range(len(y_test_u)):\n",
    "    # If true label is 'Tshirts' (which corresponds to 1)\n",
    "    # and predicted label is 'Casual Shoes' (which corresponds to 3)\n",
    "    if (y_test_u[i] == 1) and (y_pred_u[i] == 3):\n",
    "        misclassified_indexes.append(i)\n",
    "\n",
    "# Now, misclassified_indexes contains the indexes of all misclassified examples\n",
    "\n",
    "\n",
    "\n"
   ]
  },
  {
   "cell_type": "code",
   "execution_count": 37,
   "id": "3ef6373b",
   "metadata": {},
   "outputs": [
    {
     "data": {
      "text/plain": [
       "[255, 606, 621, 743]"
      ]
     },
     "execution_count": 37,
     "metadata": {},
     "output_type": "execute_result"
    }
   ],
   "source": [
    "misclassified_indexes"
   ]
  },
  {
   "cell_type": "markdown",
   "id": "94cd4c62",
   "metadata": {},
   "source": [
    "**Approx 95% is an improvement, but not as good as grayscale on LinearSVC alone. Lets check if K-NN classifier is better**"
   ]
  },
  {
   "cell_type": "code",
   "execution_count": null,
   "id": "95978985",
   "metadata": {},
   "outputs": [],
   "source": []
  }
 ],
 "metadata": {
  "kernelspec": {
   "display_name": "Python 3 (ipykernel)",
   "language": "python",
   "name": "python3"
  },
  "language_info": {
   "codemirror_mode": {
    "name": "ipython",
    "version": 3
   },
   "file_extension": ".py",
   "mimetype": "text/x-python",
   "name": "python",
   "nbconvert_exporter": "python",
   "pygments_lexer": "ipython3",
   "version": "3.9.12"
  }
 },
 "nbformat": 4,
 "nbformat_minor": 5
}
