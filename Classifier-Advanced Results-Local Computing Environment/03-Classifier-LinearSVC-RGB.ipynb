{
 "cells": [
  {
   "cell_type": "code",
   "execution_count": 1,
   "id": "d62d4a54",
   "metadata": {},
   "outputs": [],
   "source": [
    "# Load packages\n",
    "import pandas as pd\n",
    "import numpy as np\n",
    "import cv2 as cv"
   ]
  },
  {
   "cell_type": "code",
   "execution_count": 2,
   "id": "d393f282",
   "metadata": {},
   "outputs": [],
   "source": [
    "from sklearn.datasets import make_classification\n",
    "from sklearn.model_selection import train_test_split, GridSearchCV\n",
    "from sklearn.pipeline import Pipeline\n",
    "from sklearn.svm import LinearSVC"
   ]
  },
  {
   "cell_type": "code",
   "execution_count": 3,
   "id": "2d7ae4d8",
   "metadata": {},
   "outputs": [],
   "source": [
    "import matplotlib.pyplot as plt"
   ]
  },
  {
   "cell_type": "code",
   "execution_count": 4,
   "id": "ed2c98e8",
   "metadata": {},
   "outputs": [],
   "source": [
    "import seaborn as sns"
   ]
  },
  {
   "cell_type": "code",
   "execution_count": 5,
   "id": "38b5005e",
   "metadata": {},
   "outputs": [],
   "source": [
    "import time"
   ]
  },
  {
   "cell_type": "markdown",
   "id": "4ac6f0f8",
   "metadata": {},
   "source": [
    "## Linear SVC on full RGB images"
   ]
  },
  {
   "cell_type": "markdown",
   "id": "12daaafd",
   "metadata": {},
   "source": [
    "Lets do a fit of thet test vectors, without any mapping. "
   ]
  },
  {
   "cell_type": "markdown",
   "id": "a31a6cd6",
   "metadata": {},
   "source": [
    "**Load train data**"
   ]
  },
  {
   "cell_type": "code",
   "execution_count": 6,
   "id": "99d37b70",
   "metadata": {},
   "outputs": [],
   "source": [
    "train_df = pd.read_csv('output_rgb.csv')\n",
    "\n",
    "#train_data = train_df.iloc[:, :train_df.shape[1]].values.astype(np.float32)\n",
    "train_data = train_df.iloc[:, 1:].values.astype(np.float32)\n",
    "\n",
    "train_target = train_df['label'].values"
   ]
  },
  {
   "cell_type": "code",
   "execution_count": 7,
   "id": "e3325be3",
   "metadata": {},
   "outputs": [],
   "source": [
    "x_train = train_data\n",
    "y_train =train_target"
   ]
  },
  {
   "cell_type": "markdown",
   "id": "be509c14",
   "metadata": {},
   "source": [
    "**Brief Sanity Check**"
   ]
  },
  {
   "cell_type": "code",
   "execution_count": 8,
   "id": "ae09d9ff",
   "metadata": {},
   "outputs": [
    {
     "data": {
      "text/plain": [
       "((3377, 14400), (3377, 14401))"
      ]
     },
     "execution_count": 8,
     "metadata": {},
     "output_type": "execute_result"
    }
   ],
   "source": [
    "x_train.shape, train_df.shape"
   ]
  },
  {
   "cell_type": "code",
   "execution_count": 9,
   "id": "9f01f121",
   "metadata": {},
   "outputs": [
    {
     "data": {
      "text/plain": [
       "(   0      1      2      3      4      5      6      7      8      9      ...  \\\n",
       " 0  255.0  255.0  255.0  255.0  255.0  255.0  255.0  255.0  255.0  255.0  ...   \n",
       " 1  255.0  255.0  255.0  255.0  255.0  255.0  255.0  255.0  255.0  255.0  ...   \n",
       " \n",
       "    14390  14391  14392  14393  14394  14395  14396  14397  14398  14399  \n",
       " 0  255.0  255.0  255.0  255.0  255.0  255.0  255.0  255.0  255.0  255.0  \n",
       " 1  255.0  255.0  255.0  255.0  255.0  255.0  255.0  255.0  255.0  255.0  \n",
       " \n",
       " [2 rows x 14400 columns],\n",
       "    0\n",
       " 0  0\n",
       " 1  2)"
      ]
     },
     "execution_count": 9,
     "metadata": {},
     "output_type": "execute_result"
    }
   ],
   "source": [
    "pd.DataFrame(train_data).head(2), pd.DataFrame(train_target).head(2)"
   ]
  },
  {
   "cell_type": "markdown",
   "id": "fc2c1369",
   "metadata": {},
   "source": [
    "**Load test data**"
   ]
  },
  {
   "cell_type": "markdown",
   "id": "2de29010",
   "metadata": {},
   "source": [
    "**the following file has been superseded by 'gray_small_test_set.csv'. I changed the file name to a more descriptive name.**"
   ]
  },
  {
   "cell_type": "code",
   "execution_count": 10,
   "id": "00e430f5",
   "metadata": {},
   "outputs": [],
   "source": [
    "test_df = pd.read_csv('output_rgb_test.csv')\n",
    "\n",
    "test_data = test_df.iloc[:, 1:].values.astype(np.float32)\n",
    "\n",
    "test_target = test_df['label'].values"
   ]
  },
  {
   "cell_type": "code",
   "execution_count": 11,
   "id": "8b2b2986",
   "metadata": {},
   "outputs": [],
   "source": [
    "x_test = test_data\n",
    "y_test =  test_target"
   ]
  },
  {
   "cell_type": "markdown",
   "id": "6cf8652d",
   "metadata": {},
   "source": [
    "**Fit to train data**(took 12 minutes)"
   ]
  },
  {
   "cell_type": "code",
   "execution_count": 13,
   "id": "beefc9f2",
   "metadata": {},
   "outputs": [
    {
     "name": "stdout",
     "output_type": "stream",
     "text": [
      "percent complete:  100 - 818.0988302230835 seconds -\n"
     ]
    }
   ],
   "source": [
    "#1:39pm\n",
    "# Classification with a linear SVM\n",
    "percent=100\n",
    "start_time = time.time()\n",
    "svc = LinearSVC(dual=False, random_state=123)\n",
    "params_grid = {\"C\": [10 ** k for k in range(-3, 4)]}\n",
    "clf = GridSearchCV(svc, params_grid)\n",
    "clf.fit(x_train, y_train)\n",
    "print('percent complete: ',percent, end =\" - %s seconds -\\n\" % \\\n",
    "              (time.time() - start_time), flush=True)\n",
    "\n"
   ]
  },
  {
   "cell_type": "markdown",
   "id": "1d0aa97b",
   "metadata": {},
   "source": [
    "**Test data**"
   ]
  },
  {
   "cell_type": "code",
   "execution_count": 20,
   "id": "9d522ad4",
   "metadata": {},
   "outputs": [
    {
     "name": "stdout",
     "output_type": "stream",
     "text": [
      "Accuracy on the test set with unprocessed RGB data: 0.984\n",
      "percent complete:  100 - 0.2915217876434326 seconds -\n"
     ]
    }
   ],
   "source": [
    "start_time = time.time()\n",
    "print(\"Accuracy on the test set with unprocessed RGB data: {:.3f}\".format(clf.score(x_test, y_test)))\n",
    "print('percent complete: ',percent, end =\" - %s seconds -\\n\" % \\\n",
    "              (time.time() - start_time), flush=True)"
   ]
  },
  {
   "cell_type": "markdown",
   "id": "5e03683a",
   "metadata": {},
   "source": [
    "**The accuracy is very high. We will explore if we can improve results with UMAP. We will also check if grayscale images yield the same results but with better performance**"
   ]
  },
  {
   "cell_type": "markdown",
   "id": "294dcfbb",
   "metadata": {},
   "source": [
    "**For later use**"
   ]
  },
  {
   "cell_type": "code",
   "execution_count": 15,
   "id": "4820cd98",
   "metadata": {},
   "outputs": [],
   "source": [
    "import pickle\n",
    "\n",
    "# Save to file\n",
    "with open('linear_svc_raw_rgb_data.pkl', 'wb') as f:\n",
    "    pickle.dump(clf, f)\n"
   ]
  },
  {
   "cell_type": "code",
   "execution_count": 16,
   "id": "653a96c7",
   "metadata": {},
   "outputs": [],
   "source": [
    "# Load from file\n",
    "with open('linear_svc_raw_rgb_data.pkl', 'rb') as f:\n",
    "    clf_graw_loaded = pickle.load(f)"
   ]
  },
  {
   "cell_type": "markdown",
   "id": "19faf6f0",
   "metadata": {},
   "source": [
    "### Check accuracy per category \n",
    "Use test set"
   ]
  },
  {
   "cell_type": "code",
   "execution_count": 17,
   "id": "ff6f27fb",
   "metadata": {},
   "outputs": [],
   "source": [
    "decipher_key = {\n",
    "    0:\"Pants\",\n",
    "    1:\"Tshirts\",\n",
    "    2:\"Watches\",\n",
    "    3:\"Casual Shoes\"\n",
    " \n",
    "}"
   ]
  },
  {
   "cell_type": "code",
   "execution_count": 18,
   "id": "5ffc5e1a",
   "metadata": {},
   "outputs": [
    {
     "data": {
      "text/plain": [
       "((239,), array([0, 0, 0], dtype=int64))"
      ]
     },
     "execution_count": 18,
     "metadata": {},
     "output_type": "execute_result"
    }
   ],
   "source": [
    "x_tlist =[]\n",
    "y_tlist = []\n",
    "tlabel =[]\n",
    "for i in range(4):\n",
    "    indices = np.where(y_test == i)[0]\n",
    "    y_tlist.append(y_test[indices])\n",
    "    x_tlist.append(x_test[indices])\n",
    "    tlabel.append(decipher_key[i])\n",
    "    \n",
    "y_tlist[0].shape, y_tlist[0][0:3]\n",
    "    "
   ]
  },
  {
   "cell_type": "code",
   "execution_count": 19,
   "id": "7b7e6408",
   "metadata": {},
   "outputs": [
    {
     "name": "stdout",
     "output_type": "stream",
     "text": [
      "Accuracy on the Pants  test set with raw RGB image: 0.987\n",
      "Accuracy on the Tshirts  test set with raw RGB image: 0.987\n",
      "Accuracy on the Watches  test set with raw RGB image: 0.980\n",
      "Accuracy on the Casual Shoes  test set with raw RGB image: 0.984\n",
      "percent complete:  100 - 0.1172935962677002 seconds -\n"
     ]
    }
   ],
   "source": [
    "start_time = time.time()\n",
    "for i in range(4):\n",
    "    print(\"Accuracy on the\",tlabel[i],\" test set with raw RGB image: {:.3f}\".\\\n",
    "          format(clf_graw_loaded.score(x_tlist[i], y_tlist[i])))\n",
    "    \n",
    "print('percent complete: ',percent, end =\" - %s seconds -\\n\" % \\\n",
    "              (time.time() - start_time), flush=True)"
   ]
  },
  {
   "cell_type": "markdown",
   "id": "11f80320",
   "metadata": {},
   "source": [
    "### Generate Confusion Matrix For Each Result"
   ]
  },
  {
   "cell_type": "code",
   "execution_count": 27,
   "id": "b60f7105",
   "metadata": {},
   "outputs": [],
   "source": [
    "from sklearn.metrics import confusion_matrix\n",
    "#x_tlist[i]\n",
    "#y_tlist[i]\n",
    "\n",
    "# Use the fitted model to make predictions on the same data used for fitting\n",
    "y_pred = clf_graw_loaded.predict(x_test)\n",
    "\n",
    "# Generate the confusion matrix\n",
    "cm = confusion_matrix(y_test, y_pred)\n",
    "\n",
    "#print(cm)\n"
   ]
  },
  {
   "cell_type": "code",
   "execution_count": 28,
   "id": "d3a5a63e",
   "metadata": {},
   "outputs": [
    {
     "data": {
      "image/png": "[encoded data removed]",
      "text/plain": [
       "<Figure size 720x504 with 2 Axes>"
      ]
     },
     "metadata": {
      "needs_background": "light"
     },
     "output_type": "display_data"
    }
   ],
   "source": [
    "# Create a heatmap\n",
    "# Create a list of labels\n",
    "labels = [decipher_key[i] for i in range(4)]\n",
    "plt.figure(figsize=(10,7))\n",
    "#sns.heatmap(cm, annot=True, fmt='d', cmap='Blues')\n",
    "sns.heatmap(cm, annot=True, fmt='d', cmap='Blues', xticklabels=labels, yticklabels=labels)\n",
    "\n",
    "# Add labels to the plot\n",
    "plt.xlabel('Predicted label')\n",
    "plt.ylabel('True label')\n",
    "plt.title('Confusion Matrix')\n",
    "\n",
    "# Show the plot\n",
    "plt.show()"
   ]
  },
  {
   "cell_type": "markdown",
   "id": "4b03b34f",
   "metadata": {},
   "source": [
    "### Pull Up Examples of False Positives "
   ]
  },
  {
   "cell_type": "code",
   "execution_count": 31,
   "id": "5ba5f5c9",
   "metadata": {},
   "outputs": [],
   "source": [
    "# Assuming y_true is your list of true labels and y_pred is your list of predicted labels\n",
    "# And X_data is your original dataset\n",
    "\n",
    "misclassified_indexes = []\n",
    "\n",
    "for i in range(len(y_test)):\n",
    "    # If true label is 'Tshirts' (which corresponds to 1)\n",
    "    # and predicted label is 'Casual Shoes' (which corresponds to 3)\n",
    "    if (y_test[i] == 1) and (y_pred[i] == 2):\n",
    "        misclassified_indexes.append(i)\n",
    "\n",
    "# Now, misclassified_indexes contains the indexes of all misclassified examples\n",
    "# You can use it to get the corresponding data from X_data\n",
    "#misclassified_data = x_test[misclassified_indexes]"
   ]
  },
  {
   "cell_type": "code",
   "execution_count": 32,
   "id": "defc531f",
   "metadata": {},
   "outputs": [
    {
     "data": {
      "text/plain": [
       "[225, 286, 910]"
      ]
     },
     "execution_count": 32,
     "metadata": {},
     "output_type": "execute_result"
    }
   ],
   "source": [
    "misclassified_indexes"
   ]
  },
  {
   "cell_type": "code",
   "execution_count": 42,
   "id": "3a8d914d",
   "metadata": {},
   "outputs": [],
   "source": [
    "test_df = pd.read_csv('output_rgb_test.csv')\n",
    "\n",
    "#test_img = test_df.iloc[:, 1:].values.astype(np.float32)\n",
    "test_img = test_df.iloc[:, 1:].values.astype(np.uint8)\n",
    "\n",
    "test_label = test_df['label'].values\n",
    "\n",
    "#img_rgb = (img_rgb * 255).astype(np.uint8) before axarr.imshow(img_rgb)"
   ]
  },
  {
   "cell_type": "code",
   "execution_count": 44,
   "id": "fa4f3322",
   "metadata": {},
   "outputs": [
    {
     "data": {
      "text/plain": [
       "<matplotlib.image.AxesImage at 0xe5d0382f10>"
      ]
     },
     "execution_count": 44,
     "metadata": {},
     "output_type": "execute_result"
    },
    {
     "data": {
      "text/plain": [
       "<Figure size 2016x2016 with 0 Axes>"
      ]
     },
     "metadata": {},
     "output_type": "display_data"
    },
    {
     "data": {
      "image/png": "[encoded data removed]",
      "text/plain": [
       "<Figure size 720x720 with 1 Axes>"
      ]
     },
     "metadata": {
      "needs_background": "light"
     },
     "output_type": "display_data"
    }
   ],
   "source": [
    "temp =misclassified_indexes[0]\n",
    "img_rgb  = np.reshape(test_img[temp], newshape=(80,60,3))\n",
    "plt.figure(figsize = (28,28))\n",
    "f, axarr = plt.subplots(1,1, figsize=(10, 10))\n",
    "title = \"Item of Class: \\'\" +decipher_key[test_label[temp]] +\"\\' Labeled As \\'\"+decipher_key[y_pred[temp]]+\"\\'\"\n",
    "axarr.title.set_text(title)\n",
    "axarr.imshow(img_rgb)"
   ]
  },
  {
   "cell_type": "code",
   "execution_count": 45,
   "id": "f1d21cef",
   "metadata": {},
   "outputs": [
    {
     "data": {
      "text/plain": [
       "<matplotlib.image.AxesImage at 0xe5d0350880>"
      ]
     },
     "execution_count": 45,
     "metadata": {},
     "output_type": "execute_result"
    },
    {
     "data": {
      "text/plain": [
       "<Figure size 2016x2016 with 0 Axes>"
      ]
     },
     "metadata": {},
     "output_type": "display_data"
    },
    {
     "data": {
      "image/png": "[encoded data removed]",
      "text/plain": [
       "<Figure size 720x720 with 1 Axes>"
      ]
     },
     "metadata": {
      "needs_background": "light"
     },
     "output_type": "display_data"
    }
   ],
   "source": [
    "temp =misclassified_indexes[1]\n",
    "img_rgb  = np.reshape(test_img[temp], newshape=(80,60,3))\n",
    "plt.figure(figsize = (28,28))\n",
    "f, axarr = plt.subplots(1,1, figsize=(10, 10))\n",
    "title = \"Item of Class: \\'\" +decipher_key[test_label[temp]] +\"\\' Labeled As \\'\"+decipher_key[y_pred[temp]]+\"\\'\"\n",
    "axarr.title.set_text(title)\n",
    "axarr.imshow(img_rgb)"
   ]
  },
  {
   "cell_type": "code",
   "execution_count": 46,
   "id": "b8fd7f98",
   "metadata": {},
   "outputs": [
    {
     "data": {
      "text/plain": [
       "<matplotlib.image.AxesImage at 0xe5d29d3610>"
      ]
     },
     "execution_count": 46,
     "metadata": {},
     "output_type": "execute_result"
    },
    {
     "data": {
      "text/plain": [
       "<Figure size 2016x2016 with 0 Axes>"
      ]
     },
     "metadata": {},
     "output_type": "display_data"
    },
    {
     "data": {
      "image/png": "[encoded data removed]",
      "text/plain": [
       "<Figure size 720x720 with 1 Axes>"
      ]
     },
     "metadata": {
      "needs_background": "light"
     },
     "output_type": "display_data"
    }
   ],
   "source": [
    "temp =misclassified_indexes[2]\n",
    "img_rgb  = np.reshape(test_img[temp], newshape=(80,60,3))\n",
    "plt.figure(figsize = (28,28))\n",
    "f, axarr = plt.subplots(1,1, figsize=(10, 10))\n",
    "title = \"Item of Class: \\'\" +decipher_key[test_label[temp]] +\"\\' Labeled As \\'\"+decipher_key[y_pred[temp]]+\"\\'\"\n",
    "axarr.title.set_text(title)\n",
    "axarr.imshow(img_rgb)"
   ]
  }
 ],
 "metadata": {
  "kernelspec": {
   "display_name": "Python 3 (ipykernel)",
   "language": "python",
   "name": "python3"
  },
  "language_info": {
   "codemirror_mode": {
    "name": "ipython",
    "version": 3
   },
   "file_extension": ".py",
   "mimetype": "text/x-python",
   "name": "python",
   "nbconvert_exporter": "python",
   "pygments_lexer": "ipython3",
   "version": "3.9.12"
  }
 },
 "nbformat": 4,
 "nbformat_minor": 5
}
