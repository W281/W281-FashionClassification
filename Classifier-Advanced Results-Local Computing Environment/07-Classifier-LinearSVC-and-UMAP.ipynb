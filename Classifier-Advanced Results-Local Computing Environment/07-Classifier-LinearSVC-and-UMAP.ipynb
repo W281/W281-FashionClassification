{
 "cells": [
  {
   "cell_type": "markdown",
   "id": "23ec0046",
   "metadata": {},
   "source": [
    "### Running grayscale images on Linear SVC \n",
    "### Running UMAP mapping on Linear SVC"
   ]
  },
  {
   "cell_type": "code",
   "execution_count": 1,
   "id": "d62d4a54",
   "metadata": {},
   "outputs": [],
   "source": [
    "# Load packages\n",
    "import pandas as pd\n",
    "import numpy as np\n",
    "import cv2 as cv"
   ]
  },
  {
   "cell_type": "code",
   "execution_count": 2,
   "id": "d393f282",
   "metadata": {},
   "outputs": [],
   "source": [
    "from sklearn.datasets import make_classification\n",
    "from sklearn.model_selection import train_test_split, GridSearchCV\n",
    "from sklearn.pipeline import Pipeline\n",
    "from sklearn.svm import LinearSVC"
   ]
  },
  {
   "cell_type": "code",
   "execution_count": 3,
   "id": "2d7ae4d8",
   "metadata": {},
   "outputs": [],
   "source": [
    "import matplotlib.pyplot as plt"
   ]
  },
  {
   "cell_type": "code",
   "execution_count": 4,
   "id": "ed2c98e8",
   "metadata": {},
   "outputs": [],
   "source": [
    "import seaborn as sns"
   ]
  },
  {
   "cell_type": "code",
   "execution_count": 5,
   "id": "3bcaf124",
   "metadata": {},
   "outputs": [],
   "source": [
    "import time"
   ]
  },
  {
   "cell_type": "markdown",
   "id": "4ac6f0f8",
   "metadata": {},
   "source": [
    "## Linear SVC on Gray Data"
   ]
  },
  {
   "cell_type": "markdown",
   "id": "a31a6cd6",
   "metadata": {},
   "source": [
    "**Load train data**"
   ]
  },
  {
   "cell_type": "code",
   "execution_count": 6,
   "id": "99d37b70",
   "metadata": {},
   "outputs": [],
   "source": [
    "train_df = pd.read_csv('gray_small_train_set.csv')\n",
    "\n",
    "#train_data = train_df.iloc[:, :train_df.shape[1]].values.astype(np.float32)\n",
    "train_data = train_df.iloc[:, 1:].values.astype(np.float32)\n",
    "\n",
    "train_target = train_df['label'].values"
   ]
  },
  {
   "cell_type": "code",
   "execution_count": 7,
   "id": "e3325be3",
   "metadata": {},
   "outputs": [],
   "source": [
    "x_train = train_data\n",
    "y_train =train_target"
   ]
  },
  {
   "cell_type": "code",
   "execution_count": 8,
   "id": "ae09d9ff",
   "metadata": {},
   "outputs": [
    {
     "data": {
      "text/plain": [
       "(3377, 1200)"
      ]
     },
     "execution_count": 8,
     "metadata": {},
     "output_type": "execute_result"
    }
   ],
   "source": [
    "x_train.shape"
   ]
  },
  {
   "cell_type": "code",
   "execution_count": 9,
   "id": "8cf30e71",
   "metadata": {},
   "outputs": [
    {
     "data": {
      "text/plain": [
       "(3377, 1201)"
      ]
     },
     "execution_count": 9,
     "metadata": {},
     "output_type": "execute_result"
    }
   ],
   "source": [
    "train_df.shape"
   ]
  },
  {
   "cell_type": "code",
   "execution_count": 10,
   "id": "9f01f121",
   "metadata": {},
   "outputs": [
    {
     "data": {
      "text/html": [
       "<div>\n",
       "<style scoped>\n",
       "    .dataframe tbody tr th:only-of-type {\n",
       "        vertical-align: middle;\n",
       "    }\n",
       "\n",
       "    .dataframe tbody tr th {\n",
       "        vertical-align: top;\n",
       "    }\n",
       "\n",
       "    .dataframe thead th {\n",
       "        text-align: right;\n",
       "    }\n",
       "</style>\n",
       "<table border=\"1\" class=\"dataframe\">\n",
       "  <thead>\n",
       "    <tr style=\"text-align: right;\">\n",
       "      <th></th>\n",
       "      <th>0</th>\n",
       "      <th>1</th>\n",
       "      <th>2</th>\n",
       "      <th>3</th>\n",
       "      <th>4</th>\n",
       "      <th>5</th>\n",
       "      <th>6</th>\n",
       "      <th>7</th>\n",
       "      <th>8</th>\n",
       "      <th>9</th>\n",
       "      <th>...</th>\n",
       "      <th>1190</th>\n",
       "      <th>1191</th>\n",
       "      <th>1192</th>\n",
       "      <th>1193</th>\n",
       "      <th>1194</th>\n",
       "      <th>1195</th>\n",
       "      <th>1196</th>\n",
       "      <th>1197</th>\n",
       "      <th>1198</th>\n",
       "      <th>1199</th>\n",
       "    </tr>\n",
       "  </thead>\n",
       "  <tbody>\n",
       "    <tr>\n",
       "      <th>0</th>\n",
       "      <td>255.0</td>\n",
       "      <td>255.0</td>\n",
       "      <td>255.0</td>\n",
       "      <td>255.0</td>\n",
       "      <td>254.0</td>\n",
       "      <td>241.0</td>\n",
       "      <td>236.0</td>\n",
       "      <td>234.0</td>\n",
       "      <td>220.0</td>\n",
       "      <td>237.0</td>\n",
       "      <td>...</td>\n",
       "      <td>253.0</td>\n",
       "      <td>253.0</td>\n",
       "      <td>254.0</td>\n",
       "      <td>254.0</td>\n",
       "      <td>255.0</td>\n",
       "      <td>255.0</td>\n",
       "      <td>255.0</td>\n",
       "      <td>255.0</td>\n",
       "      <td>255.0</td>\n",
       "      <td>255.0</td>\n",
       "    </tr>\n",
       "    <tr>\n",
       "      <th>1</th>\n",
       "      <td>255.0</td>\n",
       "      <td>255.0</td>\n",
       "      <td>255.0</td>\n",
       "      <td>255.0</td>\n",
       "      <td>255.0</td>\n",
       "      <td>255.0</td>\n",
       "      <td>255.0</td>\n",
       "      <td>255.0</td>\n",
       "      <td>255.0</td>\n",
       "      <td>255.0</td>\n",
       "      <td>...</td>\n",
       "      <td>255.0</td>\n",
       "      <td>255.0</td>\n",
       "      <td>255.0</td>\n",
       "      <td>255.0</td>\n",
       "      <td>255.0</td>\n",
       "      <td>255.0</td>\n",
       "      <td>255.0</td>\n",
       "      <td>255.0</td>\n",
       "      <td>255.0</td>\n",
       "      <td>255.0</td>\n",
       "    </tr>\n",
       "  </tbody>\n",
       "</table>\n",
       "<p>2 rows × 1200 columns</p>\n",
       "</div>"
      ],
      "text/plain": [
       "    0      1      2      3      4      5      6      7      8      9     ...  \\\n",
       "0  255.0  255.0  255.0  255.0  254.0  241.0  236.0  234.0  220.0  237.0  ...   \n",
       "1  255.0  255.0  255.0  255.0  255.0  255.0  255.0  255.0  255.0  255.0  ...   \n",
       "\n",
       "    1190   1191   1192   1193   1194   1195   1196   1197   1198   1199  \n",
       "0  253.0  253.0  254.0  254.0  255.0  255.0  255.0  255.0  255.0  255.0  \n",
       "1  255.0  255.0  255.0  255.0  255.0  255.0  255.0  255.0  255.0  255.0  \n",
       "\n",
       "[2 rows x 1200 columns]"
      ]
     },
     "execution_count": 10,
     "metadata": {},
     "output_type": "execute_result"
    }
   ],
   "source": [
    "pd.DataFrame(train_data).head(2)"
   ]
  },
  {
   "cell_type": "markdown",
   "id": "fc2c1369",
   "metadata": {},
   "source": [
    "**Load validation data**"
   ]
  },
  {
   "cell_type": "code",
   "execution_count": 12,
   "id": "00e430f5",
   "metadata": {},
   "outputs": [],
   "source": [
    "test_df = pd.read_csv('gray_small_test_set.csv')\n",
    "\n",
    "test_data = test_df.iloc[:, 1:].values.astype(np.float32)\n",
    "\n",
    "test_target = test_df['label'].values"
   ]
  },
  {
   "cell_type": "code",
   "execution_count": 13,
   "id": "8b2b2986",
   "metadata": {},
   "outputs": [],
   "source": [
    "x_test = test_data\n",
    "y_test =  test_target"
   ]
  },
  {
   "cell_type": "markdown",
   "id": "ce306100",
   "metadata": {},
   "source": [
    "**Fit the data**"
   ]
  },
  {
   "cell_type": "code",
   "execution_count": 17,
   "id": "beefc9f2",
   "metadata": {},
   "outputs": [
    {
     "name": "stdout",
     "output_type": "stream",
     "text": [
      "percent complete:  100 - 76.63652014732361 seconds -\n"
     ]
    }
   ],
   "source": [
    "# Classification with a linear SVM\n",
    "percent=100\n",
    "start_time = time.time()\n",
    "svc = LinearSVC(dual=False, random_state=123)\n",
    "params_grid = {\"C\": [10 ** k for k in range(-3, 4)]}\n",
    "clf = GridSearchCV(svc, params_grid)\n",
    "clf.fit(x_train, y_train)\n",
    "print('percent complete: ',percent, end =\" - %s seconds -\\n\" % \\\n",
    "              (time.time() - start_time), flush=False)\n",
    "\n"
   ]
  },
  {
   "cell_type": "markdown",
   "id": "1d0aa97b",
   "metadata": {},
   "source": [
    "**Validation data**"
   ]
  },
  {
   "cell_type": "code",
   "execution_count": 18,
   "id": "9d522ad4",
   "metadata": {},
   "outputs": [
    {
     "name": "stdout",
     "output_type": "stream",
     "text": [
      "Accuracy on the test set with gray data: 0.981\n"
     ]
    }
   ],
   "source": [
    "print(\"Accuracy on the test set with gray data: {:.3f}\".format(clf.score(x_test, y_test)))"
   ]
  },
  {
   "cell_type": "markdown",
   "id": "294dcfbb",
   "metadata": {},
   "source": [
    "**For later use**"
   ]
  },
  {
   "cell_type": "code",
   "execution_count": 20,
   "id": "4820cd98",
   "metadata": {},
   "outputs": [],
   "source": [
    "import pickle\n",
    "\n",
    "# Save to file\n",
    "with open('linear_svc_gray_small.pkl', 'wb') as f:\n",
    "    pickle.dump(clf, f)\n"
   ]
  },
  {
   "cell_type": "code",
   "execution_count": 21,
   "id": "653a96c7",
   "metadata": {},
   "outputs": [],
   "source": [
    "# Load from file\n",
    "with open('linear_svc_gray_small.pkl', 'rb') as f:\n",
    "    clf_graw_loaded = pickle.load(f)"
   ]
  },
  {
   "cell_type": "markdown",
   "id": "19faf6f0",
   "metadata": {},
   "source": [
    "### Check accuracy per category \n",
    "Use validation set"
   ]
  },
  {
   "cell_type": "code",
   "execution_count": 23,
   "id": "ff6f27fb",
   "metadata": {},
   "outputs": [],
   "source": [
    "decipher_key = {\n",
    "    0:\"Pants\",\n",
    "    1:\"Tshirts\",\n",
    "    2:\"Watches\",\n",
    "    3:\"Casual Shoes\"\n",
    " \n",
    "}"
   ]
  },
  {
   "cell_type": "code",
   "execution_count": 24,
   "id": "5ffc5e1a",
   "metadata": {},
   "outputs": [
    {
     "data": {
      "text/plain": [
       "((239,), array([0, 0, 0], dtype=int64))"
      ]
     },
     "execution_count": 24,
     "metadata": {},
     "output_type": "execute_result"
    }
   ],
   "source": [
    "x_tlist =[]\n",
    "y_tlist = []\n",
    "tlabel =[]\n",
    "for i in range(4):\n",
    "    indices = np.where(y_test == i)[0]\n",
    "    y_tlist.append(y_test[indices])\n",
    "    x_tlist.append(x_test[indices])\n",
    "    tlabel.append(decipher_key[i])\n",
    "    \n",
    "y_tlist[0].shape, y_tlist[0][0:3]\n",
    "    "
   ]
  },
  {
   "cell_type": "code",
   "execution_count": 25,
   "id": "7b7e6408",
   "metadata": {},
   "outputs": [
    {
     "name": "stdout",
     "output_type": "stream",
     "text": [
      "Accuracy on the Pants  test set with grayscale image: 0.987\n",
      "Accuracy on the Tshirts  test set with grayscale image: 0.969\n",
      "Accuracy on the Watches  test set with grayscale image: 0.988\n",
      "Accuracy on the Casual Shoes  test set with grayscale image: 0.980\n"
     ]
    }
   ],
   "source": [
    "for i in range(4):\n",
    "    print(\"Accuracy on the\",tlabel[i],\" test set with grayscale image: {:.3f}\".\\\n",
    "          format(clf_graw_loaded.score(x_tlist[i], y_tlist[i])))"
   ]
  },
  {
   "cell_type": "markdown",
   "id": "77fa2a29",
   "metadata": {},
   "source": [
    "**The above are the results on the validation set**"
   ]
  },
  {
   "cell_type": "markdown",
   "id": "b7ffb8f6",
   "metadata": {},
   "source": [
    "**When compared to the RAW RGB fitting, it scored considerably lower on Tshirts, but higher score on Watches. However the peformance on the fitting is about 2x faster."
   ]
  },
  {
   "cell_type": "markdown",
   "id": "11f80320",
   "metadata": {},
   "source": [
    "**Generate Confusion Matrix For Each Result**"
   ]
  },
  {
   "cell_type": "code",
   "execution_count": 26,
   "id": "b60f7105",
   "metadata": {},
   "outputs": [],
   "source": [
    "from sklearn.metrics import confusion_matrix\n",
    "#x_tlist[i]\n",
    "#y_tlist[i]\n",
    "\n",
    "# Use the fitted model to make predictions on the same data used for fitting\n",
    "y_pred = clf_graw_loaded.predict(x_test)\n",
    "\n",
    "# Generate the confusion matrix\n",
    "cm = confusion_matrix(y_test, y_pred)\n",
    "\n",
    "#print(cm)\n"
   ]
  },
  {
   "cell_type": "code",
   "execution_count": 27,
   "id": "d3a5a63e",
   "metadata": {},
   "outputs": [
    {
     "data": {
      "image/png": "[encoded data removed]",
      "text/plain": [
       "<Figure size 720x504 with 2 Axes>"
      ]
     },
     "metadata": {
      "needs_background": "light"
     },
     "output_type": "display_data"
    }
   ],
   "source": [
    "# Create a heatmap\n",
    "# Create a list of labels\n",
    "labels = [decipher_key[i] for i in range(4)]\n",
    "plt.figure(figsize=(10,7))\n",
    "#sns.heatmap(cm, annot=True, fmt='d', cmap='Blues')\n",
    "sns.heatmap(cm, annot=True, fmt='d', cmap='Blues', xticklabels=labels, yticklabels=labels)\n",
    "\n",
    "# Add labels to the plot\n",
    "plt.xlabel('Predicted label')\n",
    "plt.ylabel('True label')\n",
    "plt.title('Confusion Matrix')\n",
    "\n",
    "# Show the plot\n",
    "plt.show()"
   ]
  },
  {
   "cell_type": "markdown",
   "id": "4b03b34f",
   "metadata": {},
   "source": [
    "**Pull Up Examples of False Positives (Tshirts)**"
   ]
  },
  {
   "cell_type": "code",
   "execution_count": 28,
   "id": "fc359009",
   "metadata": {},
   "outputs": [],
   "source": [
    "# Assuming y_true is your list of true labels and y_pred is your list of predicted labels\n",
    "# And X_data is your original dataset\n",
    "\n",
    "misclassified_indexes = []\n",
    "\n",
    "for i in range(len(y_test)):\n",
    "    # If true label is 'Tshirts' (which corresponds to 1)\n",
    "    # and predicted label is 'Casual Shoes' (which corresponds to 3)\n",
    "    if (y_test[i] == 1) and (y_pred[i] == 2):\n",
    "        misclassified_indexes.append(i)\n",
    "\n",
    "# Now, misclassified_indexes contains the indexes of all misclassified examples\n",
    "# You can use it to get the corresponding data from X_data\n",
    "#misclassified_data = x_test[misclassified_indexes]"
   ]
  },
  {
   "cell_type": "code",
   "execution_count": 29,
   "id": "60d971ce",
   "metadata": {},
   "outputs": [
    {
     "data": {
      "text/plain": [
       "[225, 286, 398, 652, 851, 910]"
      ]
     },
     "execution_count": 29,
     "metadata": {},
     "output_type": "execute_result"
    }
   ],
   "source": [
    "misclassified_indexes"
   ]
  },
  {
   "cell_type": "code",
   "execution_count": 30,
   "id": "0e475c6a",
   "metadata": {},
   "outputs": [],
   "source": [
    "test_df = pd.read_csv('output_rgb_test.csv')\n",
    "\n",
    "#test_img = test_df.iloc[:, 1:].values.astype(np.float32)\n",
    "test_img = test_df.iloc[:, 1:].values.astype(np.uint8)\n",
    "\n",
    "test_label = test_df['label'].values\n",
    "\n",
    "#img_rgb = (img_rgb * 255).astype(np.uint8) before axarr.imshow(img_rgb)"
   ]
  },
  {
   "cell_type": "code",
   "execution_count": 31,
   "id": "523a25e7",
   "metadata": {},
   "outputs": [
    {
     "data": {
      "text/plain": [
       "<matplotlib.image.AxesImage at 0x2929df3ac0>"
      ]
     },
     "execution_count": 31,
     "metadata": {},
     "output_type": "execute_result"
    },
    {
     "data": {
      "text/plain": [
       "<Figure size 2016x2016 with 0 Axes>"
      ]
     },
     "metadata": {},
     "output_type": "display_data"
    },
    {
     "data": {
      "image/png": "[encoded data removed]",
      "text/plain": [
       "<Figure size 720x720 with 1 Axes>"
      ]
     },
     "metadata": {
      "needs_background": "light"
     },
     "output_type": "display_data"
    }
   ],
   "source": [
    "temp =misclassified_indexes[0]\n",
    "img_rgb  = np.reshape(test_img[temp], newshape=(80,60,3))\n",
    "plt.figure(figsize = (28,28))\n",
    "f, axarr = plt.subplots(1,1, figsize=(10, 10))\n",
    "title = \"Item of Class: \\'\" +decipher_key[test_label[temp]] +\"\\' Labeled As \\'\"+decipher_key[y_pred[temp]]+\"\\'\"\n",
    "axarr.title.set_text(title)\n",
    "axarr.imshow(img_rgb)"
   ]
  },
  {
   "cell_type": "code",
   "execution_count": 32,
   "id": "335ebf10",
   "metadata": {},
   "outputs": [
    {
     "data": {
      "text/plain": [
       "<matplotlib.image.AxesImage at 0x292e9a5250>"
      ]
     },
     "execution_count": 32,
     "metadata": {},
     "output_type": "execute_result"
    },
    {
     "data": {
      "text/plain": [
       "<Figure size 2016x2016 with 0 Axes>"
      ]
     },
     "metadata": {},
     "output_type": "display_data"
    },
    {
     "data": {
      "image/png": "[encoded data removed]",
      "text/plain": [
       "<Figure size 720x720 with 1 Axes>"
      ]
     },
     "metadata": {
      "needs_background": "light"
     },
     "output_type": "display_data"
    }
   ],
   "source": [
    "temp =misclassified_indexes[1]\n",
    "img_rgb  = np.reshape(test_img[temp], newshape=(80,60,3))\n",
    "plt.figure(figsize = (28,28))\n",
    "f, axarr = plt.subplots(1,1, figsize=(10, 10))\n",
    "title = \"Item of Class: \\'\" +decipher_key[test_label[temp]] +\"\\' Labeled As \\'\"+decipher_key[y_pred[temp]]+\"\\'\"\n",
    "axarr.title.set_text(title)\n",
    "axarr.imshow(img_rgb)"
   ]
  },
  {
   "cell_type": "code",
   "execution_count": 33,
   "id": "16998acb",
   "metadata": {},
   "outputs": [
    {
     "data": {
      "text/plain": [
       "<matplotlib.image.AxesImage at 0x292fa69490>"
      ]
     },
     "execution_count": 33,
     "metadata": {},
     "output_type": "execute_result"
    },
    {
     "data": {
      "text/plain": [
       "<Figure size 2016x2016 with 0 Axes>"
      ]
     },
     "metadata": {},
     "output_type": "display_data"
    },
    {
     "data": {
      "image/png": "[encoded data removed]",
      "text/plain": [
       "<Figure size 720x720 with 1 Axes>"
      ]
     },
     "metadata": {
      "needs_background": "light"
     },
     "output_type": "display_data"
    }
   ],
   "source": [
    "temp =misclassified_indexes[2]\n",
    "img_rgb  = np.reshape(test_img[temp], newshape=(80,60,3))\n",
    "plt.figure(figsize = (28,28))\n",
    "f, axarr = plt.subplots(1,1, figsize=(10, 10))\n",
    "title = \"Item of Class: \\'\" +decipher_key[test_label[temp]] +\"\\' Labeled As \\'\"+decipher_key[y_pred[temp]]+\"\\'\"\n",
    "axarr.title.set_text(title)\n",
    "axarr.imshow(img_rgb)"
   ]
  },
  {
   "cell_type": "code",
   "execution_count": 34,
   "id": "317a3a4f",
   "metadata": {},
   "outputs": [
    {
     "data": {
      "text/plain": [
       "<matplotlib.image.AxesImage at 0x292f8eac10>"
      ]
     },
     "execution_count": 34,
     "metadata": {},
     "output_type": "execute_result"
    },
    {
     "data": {
      "text/plain": [
       "<Figure size 2016x2016 with 0 Axes>"
      ]
     },
     "metadata": {},
     "output_type": "display_data"
    },
    {
     "data": {
      "image/png": "[encoded data removed]",
      "text/plain": [
       "<Figure size 720x720 with 1 Axes>"
      ]
     },
     "metadata": {
      "needs_background": "light"
     },
     "output_type": "display_data"
    }
   ],
   "source": [
    "temp =misclassified_indexes[3]\n",
    "img_rgb  = np.reshape(test_img[temp], newshape=(80,60,3))\n",
    "plt.figure(figsize = (28,28))\n",
    "f, axarr = plt.subplots(1,1, figsize=(10, 10))\n",
    "title = \"Item of Class: \\'\" +decipher_key[test_label[temp]] +\"\\' Labeled As \\'\"+decipher_key[y_pred[temp]]+\"\\'\"\n",
    "axarr.title.set_text(title)\n",
    "axarr.imshow(img_rgb)"
   ]
  },
  {
   "cell_type": "code",
   "execution_count": 35,
   "id": "ea1d2f23",
   "metadata": {},
   "outputs": [
    {
     "data": {
      "text/plain": [
       "<matplotlib.image.AxesImage at 0x292f780a90>"
      ]
     },
     "execution_count": 35,
     "metadata": {},
     "output_type": "execute_result"
    },
    {
     "data": {
      "text/plain": [
       "<Figure size 2016x2016 with 0 Axes>"
      ]
     },
     "metadata": {},
     "output_type": "display_data"
    },
    {
     "data": {
      "image/png": "[encoded data removed]",
      "text/plain": [
       "<Figure size 720x720 with 1 Axes>"
      ]
     },
     "metadata": {
      "needs_background": "light"
     },
     "output_type": "display_data"
    }
   ],
   "source": [
    "temp =misclassified_indexes[4]\n",
    "img_rgb  = np.reshape(test_img[temp], newshape=(80,60,3))\n",
    "plt.figure(figsize = (28,28))\n",
    "f, axarr = plt.subplots(1,1, figsize=(10, 10))\n",
    "title = \"Item of Class: \\'\" +decipher_key[test_label[temp]] +\"\\' Labeled As \\'\"+decipher_key[y_pred[temp]]+\"\\'\"\n",
    "axarr.title.set_text(title)\n",
    "axarr.imshow(img_rgb)"
   ]
  },
  {
   "cell_type": "code",
   "execution_count": 37,
   "id": "80f7cfea",
   "metadata": {},
   "outputs": [
    {
     "data": {
      "text/plain": [
       "<matplotlib.image.AxesImage at 0x292fdb8c10>"
      ]
     },
     "execution_count": 37,
     "metadata": {},
     "output_type": "execute_result"
    },
    {
     "data": {
      "text/plain": [
       "<Figure size 2016x2016 with 0 Axes>"
      ]
     },
     "metadata": {},
     "output_type": "display_data"
    },
    {
     "data": {
      "image/png": "[encoded data removed]",
      "text/plain": [
       "<Figure size 720x720 with 1 Axes>"
      ]
     },
     "metadata": {
      "needs_background": "light"
     },
     "output_type": "display_data"
    }
   ],
   "source": [
    "temp =misclassified_indexes[5]\n",
    "img_rgb  = np.reshape(test_img[temp], newshape=(80,60,3))\n",
    "plt.figure(figsize = (28,28))\n",
    "f, axarr = plt.subplots(1,1, figsize=(10, 10))\n",
    "title = \"Item of Class: \\'\" +decipher_key[test_label[temp]] +\"\\' Labeled As \\'\"+decipher_key[y_pred[temp]]+\"\\'\"\n",
    "axarr.title.set_text(title)\n",
    "axarr.imshow(img_rgb)"
   ]
  },
  {
   "cell_type": "markdown",
   "id": "a41c602e",
   "metadata": {},
   "source": [
    "**Pull Up Examples of False Positives (Watches as Tshirts)**"
   ]
  },
  {
   "cell_type": "code",
   "execution_count": 38,
   "id": "a71b3a25",
   "metadata": {},
   "outputs": [],
   "source": [
    "# Assuming y_true is your list of true labels and y_pred is your list of predicted labels\n",
    "# And X_data is your original dataset\n",
    "\n",
    "misclassified_indexes = []\n",
    "\n",
    "for i in range(len(y_test)):\n",
    "    # If true label is 'Tshirts' (which corresponds to 1)\n",
    "    # and predicted label is 'Casual Shoes' (which corresponds to 3)\n",
    "    if (y_test[i] == 2) and (y_pred[i] == 1):\n",
    "        misclassified_indexes.append(i)\n",
    "\n",
    "# Now, misclassified_indexes contains the indexes of all misclassified examples\n",
    "# You can use it to get the corresponding data from X_data\n",
    "#misclassified_data = x_test[misclassified_indexes]"
   ]
  },
  {
   "cell_type": "code",
   "execution_count": 39,
   "id": "63c4badd",
   "metadata": {},
   "outputs": [
    {
     "data": {
      "text/plain": [
       "<matplotlib.image.AxesImage at 0x29300a0880>"
      ]
     },
     "execution_count": 39,
     "metadata": {},
     "output_type": "execute_result"
    },
    {
     "data": {
      "text/plain": [
       "<Figure size 2016x2016 with 0 Axes>"
      ]
     },
     "metadata": {},
     "output_type": "display_data"
    },
    {
     "data": {
      "image/png": "[encoded data removed]",
      "text/plain": [
       "<Figure size 720x720 with 1 Axes>"
      ]
     },
     "metadata": {
      "needs_background": "light"
     },
     "output_type": "display_data"
    }
   ],
   "source": [
    "temp =misclassified_indexes[0]\n",
    "img_rgb  = np.reshape(test_img[temp], newshape=(80,60,3))\n",
    "plt.figure(figsize = (28,28))\n",
    "f, axarr = plt.subplots(1,1, figsize=(10, 10))\n",
    "title = \"Item of Class: \\'\" +decipher_key[test_label[temp]] +\"\\' Labeled As \\'\"+decipher_key[y_pred[temp]]+\"\\'\"\n",
    "axarr.title.set_text(title)\n",
    "axarr.imshow(img_rgb)"
   ]
  },
  {
   "cell_type": "code",
   "execution_count": 40,
   "id": "2ea4215b",
   "metadata": {},
   "outputs": [
    {
     "data": {
      "text/plain": [
       "<matplotlib.image.AxesImage at 0x29303e9100>"
      ]
     },
     "execution_count": 40,
     "metadata": {},
     "output_type": "execute_result"
    },
    {
     "data": {
      "text/plain": [
       "<Figure size 2016x2016 with 0 Axes>"
      ]
     },
     "metadata": {},
     "output_type": "display_data"
    },
    {
     "data": {
      "image/png": "[encoded data removed]",
      "text/plain": [
       "<Figure size 720x720 with 1 Axes>"
      ]
     },
     "metadata": {
      "needs_background": "light"
     },
     "output_type": "display_data"
    }
   ],
   "source": [
    "temp =misclassified_indexes[1]\n",
    "img_rgb  = np.reshape(test_img[temp], newshape=(80,60,3))\n",
    "plt.figure(figsize = (28,28))\n",
    "f, axarr = plt.subplots(1,1, figsize=(10, 10))\n",
    "title = \"Item of Class: \\'\" +decipher_key[test_label[temp]] +\"\\' Labeled As \\'\"+decipher_key[y_pred[temp]]+\"\\'\"\n",
    "axarr.title.set_text(title)\n",
    "axarr.imshow(img_rgb)"
   ]
  },
  {
   "cell_type": "code",
   "execution_count": 41,
   "id": "cdafa556",
   "metadata": {},
   "outputs": [
    {
     "data": {
      "text/plain": [
       "<matplotlib.image.AxesImage at 0x2936cfbb80>"
      ]
     },
     "execution_count": 41,
     "metadata": {},
     "output_type": "execute_result"
    },
    {
     "data": {
      "text/plain": [
       "<Figure size 2016x2016 with 0 Axes>"
      ]
     },
     "metadata": {},
     "output_type": "display_data"
    },
    {
     "data": {
      "image/png": "[encoded data removed]",
      "text/plain": [
       "<Figure size 720x720 with 1 Axes>"
      ]
     },
     "metadata": {
      "needs_background": "light"
     },
     "output_type": "display_data"
    }
   ],
   "source": [
    "temp =misclassified_indexes[2]\n",
    "img_rgb  = np.reshape(test_img[temp], newshape=(80,60,3))\n",
    "plt.figure(figsize = (28,28))\n",
    "f, axarr = plt.subplots(1,1, figsize=(10, 10))\n",
    "title = \"Item of Class: \\'\" +decipher_key[test_label[temp]] +\"\\' Labeled As \\'\"+decipher_key[y_pred[temp]]+\"\\'\"\n",
    "axarr.title.set_text(title)\n",
    "axarr.imshow(img_rgb)"
   ]
  },
  {
   "cell_type": "markdown",
   "id": "87fd98b0",
   "metadata": {},
   "source": [
    "**The above example shows that in the training data some of our Tshirt images are labeled as Watches.**"
   ]
  },
  {
   "cell_type": "markdown",
   "id": "edc95dbd",
   "metadata": {},
   "source": [
    "## Linear SVC on UMAP Data"
   ]
  },
  {
   "cell_type": "markdown",
   "id": "48045028",
   "metadata": {},
   "source": [
    "**Here we want to train a LinearSVC on the reduced dimensionality created by UMAP**"
   ]
  },
  {
   "cell_type": "markdown",
   "id": "1a09d142",
   "metadata": {},
   "source": [
    "**Load previously mapped train data**"
   ]
  },
  {
   "cell_type": "code",
   "execution_count": 16,
   "id": "51299519",
   "metadata": {},
   "outputs": [],
   "source": [
    "train_umap = pd.read_csv('umap_train_gray_small.csv')"
   ]
  },
  {
   "cell_type": "code",
   "execution_count": 17,
   "id": "4331521e",
   "metadata": {
    "scrolled": true
   },
   "outputs": [
    {
     "data": {
      "text/html": [
       "<div>\n",
       "<style scoped>\n",
       "    .dataframe tbody tr th:only-of-type {\n",
       "        vertical-align: middle;\n",
       "    }\n",
       "\n",
       "    .dataframe tbody tr th {\n",
       "        vertical-align: top;\n",
       "    }\n",
       "\n",
       "    .dataframe thead th {\n",
       "        text-align: right;\n",
       "    }\n",
       "</style>\n",
       "<table border=\"1\" class=\"dataframe\">\n",
       "  <thead>\n",
       "    <tr style=\"text-align: right;\">\n",
       "      <th></th>\n",
       "      <th>label</th>\n",
       "      <th>embedding x</th>\n",
       "      <th>embedding y</th>\n",
       "    </tr>\n",
       "  </thead>\n",
       "  <tbody>\n",
       "    <tr>\n",
       "      <th>0</th>\n",
       "      <td>1.0</td>\n",
       "      <td>2.110022</td>\n",
       "      <td>-7.999280</td>\n",
       "    </tr>\n",
       "    <tr>\n",
       "      <th>1</th>\n",
       "      <td>0.0</td>\n",
       "      <td>5.100040</td>\n",
       "      <td>8.833552</td>\n",
       "    </tr>\n",
       "  </tbody>\n",
       "</table>\n",
       "</div>"
      ],
      "text/plain": [
       "   label  embedding x  embedding y\n",
       "0    1.0     2.110022    -7.999280\n",
       "1    0.0     5.100040     8.833552"
      ]
     },
     "execution_count": 17,
     "metadata": {},
     "output_type": "execute_result"
    }
   ],
   "source": [
    "train_umap.head(2)"
   ]
  },
  {
   "cell_type": "code",
   "execution_count": 18,
   "id": "2e567293",
   "metadata": {},
   "outputs": [],
   "source": [
    "#train_df.iloc[:, 1:].values.astype(np.float32)\n",
    "x_train_u = train_umap.iloc[:, 1:].values.astype(np.float32)\n",
    "y_train_u =train_umap['label'].values\n"
   ]
  },
  {
   "cell_type": "code",
   "execution_count": 19,
   "id": "c1afa309",
   "metadata": {},
   "outputs": [
    {
     "data": {
      "text/plain": [
       "((3377, 2), (3377,))"
      ]
     },
     "execution_count": 19,
     "metadata": {},
     "output_type": "execute_result"
    }
   ],
   "source": [
    "x_train_u.shape, y_train_u.shape"
   ]
  },
  {
   "cell_type": "markdown",
   "id": "161a7305",
   "metadata": {},
   "source": [
    "**map validation data**"
   ]
  },
  {
   "cell_type": "code",
   "execution_count": 20,
   "id": "26ebc651",
   "metadata": {},
   "outputs": [
    {
     "data": {
      "text/html": [
       "<div>\n",
       "<style scoped>\n",
       "    .dataframe tbody tr th:only-of-type {\n",
       "        vertical-align: middle;\n",
       "    }\n",
       "\n",
       "    .dataframe tbody tr th {\n",
       "        vertical-align: top;\n",
       "    }\n",
       "\n",
       "    .dataframe thead th {\n",
       "        text-align: right;\n",
       "    }\n",
       "</style>\n",
       "<table border=\"1\" class=\"dataframe\">\n",
       "  <thead>\n",
       "    <tr style=\"text-align: right;\">\n",
       "      <th></th>\n",
       "      <th>label</th>\n",
       "      <th>pixel0</th>\n",
       "      <th>pixel1</th>\n",
       "      <th>pixel2</th>\n",
       "      <th>pixel3</th>\n",
       "      <th>pixel4</th>\n",
       "      <th>pixel5</th>\n",
       "      <th>pixel6</th>\n",
       "      <th>pixel7</th>\n",
       "      <th>pixel8</th>\n",
       "      <th>...</th>\n",
       "      <th>pixel1190</th>\n",
       "      <th>pixel1191</th>\n",
       "      <th>pixel1192</th>\n",
       "      <th>pixel1193</th>\n",
       "      <th>pixel1194</th>\n",
       "      <th>pixel1195</th>\n",
       "      <th>pixel1196</th>\n",
       "      <th>pixel1197</th>\n",
       "      <th>pixel1198</th>\n",
       "      <th>pixel1199</th>\n",
       "    </tr>\n",
       "  </thead>\n",
       "  <tbody>\n",
       "    <tr>\n",
       "      <th>0</th>\n",
       "      <td>0</td>\n",
       "      <td>255</td>\n",
       "      <td>255</td>\n",
       "      <td>255</td>\n",
       "      <td>255</td>\n",
       "      <td>254</td>\n",
       "      <td>250</td>\n",
       "      <td>217</td>\n",
       "      <td>214</td>\n",
       "      <td>201</td>\n",
       "      <td>...</td>\n",
       "      <td>255</td>\n",
       "      <td>255</td>\n",
       "      <td>255</td>\n",
       "      <td>255</td>\n",
       "      <td>255</td>\n",
       "      <td>255</td>\n",
       "      <td>255</td>\n",
       "      <td>255</td>\n",
       "      <td>255</td>\n",
       "      <td>255</td>\n",
       "    </tr>\n",
       "    <tr>\n",
       "      <th>1</th>\n",
       "      <td>1</td>\n",
       "      <td>255</td>\n",
       "      <td>255</td>\n",
       "      <td>255</td>\n",
       "      <td>255</td>\n",
       "      <td>255</td>\n",
       "      <td>255</td>\n",
       "      <td>255</td>\n",
       "      <td>255</td>\n",
       "      <td>254</td>\n",
       "      <td>...</td>\n",
       "      <td>248</td>\n",
       "      <td>253</td>\n",
       "      <td>253</td>\n",
       "      <td>253</td>\n",
       "      <td>255</td>\n",
       "      <td>255</td>\n",
       "      <td>255</td>\n",
       "      <td>255</td>\n",
       "      <td>255</td>\n",
       "      <td>255</td>\n",
       "    </tr>\n",
       "    <tr>\n",
       "      <th>2</th>\n",
       "      <td>0</td>\n",
       "      <td>255</td>\n",
       "      <td>255</td>\n",
       "      <td>255</td>\n",
       "      <td>255</td>\n",
       "      <td>253</td>\n",
       "      <td>253</td>\n",
       "      <td>202</td>\n",
       "      <td>201</td>\n",
       "      <td>202</td>\n",
       "      <td>...</td>\n",
       "      <td>254</td>\n",
       "      <td>254</td>\n",
       "      <td>255</td>\n",
       "      <td>254</td>\n",
       "      <td>255</td>\n",
       "      <td>255</td>\n",
       "      <td>255</td>\n",
       "      <td>255</td>\n",
       "      <td>255</td>\n",
       "      <td>255</td>\n",
       "    </tr>\n",
       "    <tr>\n",
       "      <th>3</th>\n",
       "      <td>3</td>\n",
       "      <td>255</td>\n",
       "      <td>255</td>\n",
       "      <td>255</td>\n",
       "      <td>255</td>\n",
       "      <td>255</td>\n",
       "      <td>255</td>\n",
       "      <td>255</td>\n",
       "      <td>255</td>\n",
       "      <td>255</td>\n",
       "      <td>...</td>\n",
       "      <td>255</td>\n",
       "      <td>255</td>\n",
       "      <td>255</td>\n",
       "      <td>255</td>\n",
       "      <td>255</td>\n",
       "      <td>255</td>\n",
       "      <td>255</td>\n",
       "      <td>255</td>\n",
       "      <td>255</td>\n",
       "      <td>255</td>\n",
       "    </tr>\n",
       "    <tr>\n",
       "      <th>4</th>\n",
       "      <td>1</td>\n",
       "      <td>255</td>\n",
       "      <td>255</td>\n",
       "      <td>255</td>\n",
       "      <td>255</td>\n",
       "      <td>255</td>\n",
       "      <td>255</td>\n",
       "      <td>255</td>\n",
       "      <td>255</td>\n",
       "      <td>252</td>\n",
       "      <td>...</td>\n",
       "      <td>250</td>\n",
       "      <td>250</td>\n",
       "      <td>252</td>\n",
       "      <td>254</td>\n",
       "      <td>255</td>\n",
       "      <td>255</td>\n",
       "      <td>255</td>\n",
       "      <td>255</td>\n",
       "      <td>255</td>\n",
       "      <td>255</td>\n",
       "    </tr>\n",
       "  </tbody>\n",
       "</table>\n",
       "<p>5 rows × 1201 columns</p>\n",
       "</div>"
      ],
      "text/plain": [
       "   label  pixel0  pixel1  pixel2  pixel3  pixel4  pixel5  pixel6  pixel7  \\\n",
       "0      0     255     255     255     255     254     250     217     214   \n",
       "1      1     255     255     255     255     255     255     255     255   \n",
       "2      0     255     255     255     255     253     253     202     201   \n",
       "3      3     255     255     255     255     255     255     255     255   \n",
       "4      1     255     255     255     255     255     255     255     255   \n",
       "\n",
       "   pixel8  ...  pixel1190  pixel1191  pixel1192  pixel1193  pixel1194  \\\n",
       "0     201  ...        255        255        255        255        255   \n",
       "1     254  ...        248        253        253        253        255   \n",
       "2     202  ...        254        254        255        254        255   \n",
       "3     255  ...        255        255        255        255        255   \n",
       "4     252  ...        250        250        252        254        255   \n",
       "\n",
       "   pixel1195  pixel1196  pixel1197  pixel1198  pixel1199  \n",
       "0        255        255        255        255        255  \n",
       "1        255        255        255        255        255  \n",
       "2        255        255        255        255        255  \n",
       "3        255        255        255        255        255  \n",
       "4        255        255        255        255        255  \n",
       "\n",
       "[5 rows x 1201 columns]"
      ]
     },
     "execution_count": 20,
     "metadata": {},
     "output_type": "execute_result"
    }
   ],
   "source": [
    "# Load new data\n",
    "test_data = pd.read_csv('gray_small_test_set.csv')\n",
    "test_data.head(5)"
   ]
  },
  {
   "cell_type": "code",
   "execution_count": 21,
   "id": "8a7ee888",
   "metadata": {},
   "outputs": [
    {
     "data": {
      "text/plain": [
       "(965, 1201)"
      ]
     },
     "execution_count": 21,
     "metadata": {},
     "output_type": "execute_result"
    }
   ],
   "source": [
    "test_data.shape"
   ]
  },
  {
   "cell_type": "markdown",
   "id": "1c5118a9",
   "metadata": {},
   "source": [
    "**We load previously fitted umap model, and use the model to reduce the dimensions of the validation data**"
   ]
  },
  {
   "cell_type": "code",
   "execution_count": 25,
   "id": "918cf840",
   "metadata": {},
   "outputs": [
    {
     "name": "stdout",
     "output_type": "stream",
     "text": [
      "percent complete:  100 - 0.7633359432220459 seconds -\n"
     ]
    }
   ],
   "source": [
    "percent=100\n",
    "start_time = time.time()\n",
    "import joblib\n",
    "# Load the saved model\n",
    "umap_model = joblib.load('umap_model_gray_small.pkl')\n",
    "\n",
    "# Transform new data\n",
    "#slicing is to remove label in column 0\n",
    "embedding = umap_model.transform(test_data.iloc[:,1:])\n",
    "print('percent complete: ',percent, end =\" - %s seconds -\\n\" % \\\n",
    "              (time.time() - start_time), flush=False)\n",
    "\n"
   ]
  },
  {
   "cell_type": "code",
   "execution_count": 27,
   "id": "20f064a5",
   "metadata": {},
   "outputs": [
    {
     "data": {
      "text/plain": [
       "numpy.ndarray"
      ]
     },
     "execution_count": 27,
     "metadata": {},
     "output_type": "execute_result"
    }
   ],
   "source": [
    "type(embedding)"
   ]
  },
  {
   "cell_type": "code",
   "execution_count": 28,
   "id": "142ab0c4",
   "metadata": {},
   "outputs": [
    {
     "data": {
      "text/plain": [
       "(965, 2)"
      ]
     },
     "execution_count": 28,
     "metadata": {},
     "output_type": "execute_result"
    }
   ],
   "source": [
    "embedding.shape"
   ]
  },
  {
   "cell_type": "code",
   "execution_count": 29,
   "id": "8e771f8a",
   "metadata": {},
   "outputs": [
    {
     "data": {
      "text/plain": [
       "array([[ 5.991951  ,  7.273434  ],\n",
       "       [ 2.488757  , -6.9220467 ],\n",
       "       [ 4.471729  ,  6.0815744 ],\n",
       "       ...,\n",
       "       [-8.203518  ,  2.9320054 ],\n",
       "       [ 2.5410123 , -0.03980897],\n",
       "       [ 5.10683   ,  7.669269  ]], dtype=float32)"
      ]
     },
     "execution_count": 29,
     "metadata": {},
     "output_type": "execute_result"
    }
   ],
   "source": [
    "embedding"
   ]
  },
  {
   "cell_type": "code",
   "execution_count": 52,
   "id": "7272b32a",
   "metadata": {},
   "outputs": [
    {
     "data": {
      "text/html": [
       "<div>\n",
       "<style scoped>\n",
       "    .dataframe tbody tr th:only-of-type {\n",
       "        vertical-align: middle;\n",
       "    }\n",
       "\n",
       "    .dataframe tbody tr th {\n",
       "        vertical-align: top;\n",
       "    }\n",
       "\n",
       "    .dataframe thead th {\n",
       "        text-align: right;\n",
       "    }\n",
       "</style>\n",
       "<table border=\"1\" class=\"dataframe\">\n",
       "  <thead>\n",
       "    <tr style=\"text-align: right;\">\n",
       "      <th></th>\n",
       "      <th>label</th>\n",
       "      <th>pixel0</th>\n",
       "      <th>pixel1</th>\n",
       "      <th>pixel2</th>\n",
       "      <th>pixel3</th>\n",
       "      <th>pixel4</th>\n",
       "      <th>pixel5</th>\n",
       "      <th>pixel6</th>\n",
       "      <th>pixel7</th>\n",
       "      <th>pixel8</th>\n",
       "      <th>...</th>\n",
       "      <th>pixel1190</th>\n",
       "      <th>pixel1191</th>\n",
       "      <th>pixel1192</th>\n",
       "      <th>pixel1193</th>\n",
       "      <th>pixel1194</th>\n",
       "      <th>pixel1195</th>\n",
       "      <th>pixel1196</th>\n",
       "      <th>pixel1197</th>\n",
       "      <th>pixel1198</th>\n",
       "      <th>pixel1199</th>\n",
       "    </tr>\n",
       "  </thead>\n",
       "  <tbody>\n",
       "    <tr>\n",
       "      <th>0</th>\n",
       "      <td>3</td>\n",
       "      <td>255</td>\n",
       "      <td>255</td>\n",
       "      <td>255</td>\n",
       "      <td>255</td>\n",
       "      <td>255</td>\n",
       "      <td>255</td>\n",
       "      <td>255</td>\n",
       "      <td>255</td>\n",
       "      <td>255</td>\n",
       "      <td>...</td>\n",
       "      <td>255</td>\n",
       "      <td>255</td>\n",
       "      <td>255</td>\n",
       "      <td>255</td>\n",
       "      <td>255</td>\n",
       "      <td>255</td>\n",
       "      <td>255</td>\n",
       "      <td>255</td>\n",
       "      <td>255</td>\n",
       "      <td>255</td>\n",
       "    </tr>\n",
       "    <tr>\n",
       "      <th>1</th>\n",
       "      <td>0</td>\n",
       "      <td>255</td>\n",
       "      <td>255</td>\n",
       "      <td>255</td>\n",
       "      <td>255</td>\n",
       "      <td>255</td>\n",
       "      <td>255</td>\n",
       "      <td>255</td>\n",
       "      <td>240</td>\n",
       "      <td>226</td>\n",
       "      <td>...</td>\n",
       "      <td>255</td>\n",
       "      <td>255</td>\n",
       "      <td>255</td>\n",
       "      <td>255</td>\n",
       "      <td>255</td>\n",
       "      <td>255</td>\n",
       "      <td>255</td>\n",
       "      <td>255</td>\n",
       "      <td>255</td>\n",
       "      <td>255</td>\n",
       "    </tr>\n",
       "  </tbody>\n",
       "</table>\n",
       "<p>2 rows × 1201 columns</p>\n",
       "</div>"
      ],
      "text/plain": [
       "   label  pixel0  pixel1  pixel2  pixel3  pixel4  pixel5  pixel6  pixel7  \\\n",
       "0      3     255     255     255     255     255     255     255     255   \n",
       "1      0     255     255     255     255     255     255     255     240   \n",
       "\n",
       "   pixel8  ...  pixel1190  pixel1191  pixel1192  pixel1193  pixel1194  \\\n",
       "0     255  ...        255        255        255        255        255   \n",
       "1     226  ...        255        255        255        255        255   \n",
       "\n",
       "   pixel1195  pixel1196  pixel1197  pixel1198  pixel1199  \n",
       "0        255        255        255        255        255  \n",
       "1        255        255        255        255        255  \n",
       "\n",
       "[2 rows x 1201 columns]"
      ]
     },
     "execution_count": 52,
     "metadata": {},
     "output_type": "execute_result"
    }
   ],
   "source": [
    "test_data.head(2)"
   ]
  },
  {
   "cell_type": "markdown",
   "id": "43136299",
   "metadata": {},
   "source": [
    "**we export the mapped validation data for later use**"
   ]
  },
  {
   "cell_type": "code",
   "execution_count": 54,
   "id": "a0c99343",
   "metadata": {},
   "outputs": [
    {
     "name": "stderr",
     "output_type": "stream",
     "text": [
      "C:\\Users\\edgomr\\AppData\\Local\\Temp\\ipykernel_6572\\3492519139.py:3: FutureWarning: Support for multi-dimensional indexing (e.g. `obj[:, None]`) is deprecated and will be removed in a future version.  Convert to a numpy array before indexing instead.\n",
      "  target = target[:, np.newaxis]\n"
     ]
    }
   ],
   "source": [
    "#\n",
    "target = test_data['label']\n",
    "target = target[:, np.newaxis]\n",
    "\n",
    "# Concatenate along the second axis\n",
    "emb_target = np.concatenate((target, embedding), axis=1)\n",
    "\n",
    "column_names = ['label','embedding x', 'embedding y']\n",
    "embedding_df = pd.DataFrame( emb_target, columns=column_names)\n",
    "#embedding_df.head()\n",
    "\n",
    "embedding_df.to_csv('umap_test_gray_small.csv', index=False, header=True)  "
   ]
  },
  {
   "cell_type": "markdown",
   "id": "61801bf5",
   "metadata": {},
   "source": [
    "**We load our train data to use in building our classifier**"
   ]
  },
  {
   "cell_type": "code",
   "execution_count": 30,
   "id": "ed6ab0e7",
   "metadata": {},
   "outputs": [],
   "source": [
    "test_umap = pd.read_csv('umap_test_gray_small.csv')"
   ]
  },
  {
   "cell_type": "code",
   "execution_count": 31,
   "id": "bcdea35b",
   "metadata": {},
   "outputs": [
    {
     "data": {
      "text/html": [
       "<div>\n",
       "<style scoped>\n",
       "    .dataframe tbody tr th:only-of-type {\n",
       "        vertical-align: middle;\n",
       "    }\n",
       "\n",
       "    .dataframe tbody tr th {\n",
       "        vertical-align: top;\n",
       "    }\n",
       "\n",
       "    .dataframe thead th {\n",
       "        text-align: right;\n",
       "    }\n",
       "</style>\n",
       "<table border=\"1\" class=\"dataframe\">\n",
       "  <thead>\n",
       "    <tr style=\"text-align: right;\">\n",
       "      <th></th>\n",
       "      <th>label</th>\n",
       "      <th>embedding x</th>\n",
       "      <th>embedding y</th>\n",
       "    </tr>\n",
       "  </thead>\n",
       "  <tbody>\n",
       "    <tr>\n",
       "      <th>0</th>\n",
       "      <td>3.0</td>\n",
       "      <td>-8.880007</td>\n",
       "      <td>3.241354</td>\n",
       "    </tr>\n",
       "    <tr>\n",
       "      <th>1</th>\n",
       "      <td>0.0</td>\n",
       "      <td>4.368115</td>\n",
       "      <td>5.876838</td>\n",
       "    </tr>\n",
       "  </tbody>\n",
       "</table>\n",
       "</div>"
      ],
      "text/plain": [
       "   label  embedding x  embedding y\n",
       "0    3.0    -8.880007     3.241354\n",
       "1    0.0     4.368115     5.876838"
      ]
     },
     "execution_count": 31,
     "metadata": {},
     "output_type": "execute_result"
    }
   ],
   "source": [
    "test_umap.head(2)"
   ]
  },
  {
   "cell_type": "code",
   "execution_count": 32,
   "id": "42236376",
   "metadata": {},
   "outputs": [],
   "source": [
    "x_test_u = test_umap.iloc[:, 1:].values.astype(np.float32)\n",
    "y_test_u =test_umap['label'].values"
   ]
  },
  {
   "cell_type": "code",
   "execution_count": 33,
   "id": "d46a47a5",
   "metadata": {},
   "outputs": [
    {
     "data": {
      "text/plain": [
       "((965, 2), (965,))"
      ]
     },
     "execution_count": 33,
     "metadata": {},
     "output_type": "execute_result"
    }
   ],
   "source": [
    "x_test_u.shape, y_test_u.shape"
   ]
  },
  {
   "cell_type": "markdown",
   "id": "f4b4a1f6",
   "metadata": {},
   "source": [
    "**Linear SVC on UMAP Data immediate output**"
   ]
  },
  {
   "cell_type": "code",
   "execution_count": 34,
   "id": "3947e414",
   "metadata": {},
   "outputs": [
    {
     "name": "stdout",
     "output_type": "stream",
     "text": [
      "percent complete:  100 - 0.2788238525390625 seconds -\n"
     ]
    }
   ],
   "source": [
    "# Classification with a linear SVM\n",
    "percent=100\n",
    "start_time = time.time()\n",
    "svc = LinearSVC(dual=False, random_state=123)\n",
    "params_grid = {\"C\": [10 ** k for k in range(-3, 4)]}\n",
    "clf_umap = GridSearchCV(svc, params_grid)\n",
    "clf_umap.fit(x_train_u, y_train_u)\n",
    "print('percent complete: ',percent, end =\" - %s seconds -\\n\" % \\\n",
    "              (time.time() - start_time), flush=True)"
   ]
  },
  {
   "cell_type": "markdown",
   "id": "9f870d36",
   "metadata": {},
   "source": [
    "**Validation data**"
   ]
  },
  {
   "cell_type": "code",
   "execution_count": 35,
   "id": "cbe3b182",
   "metadata": {},
   "outputs": [
    {
     "name": "stdout",
     "output_type": "stream",
     "text": [
      "Accuracy on the test set with gray data: 0.930\n",
      "percent complete:  100 - 0.002000093460083008 seconds -\n"
     ]
    }
   ],
   "source": [
    "percent=100\n",
    "start_time = time.time()\n",
    "print(\"Accuracy on the test set with gray data: {:.3f}\".format(clf_umap.score(x_test_u, y_test_u)))\n",
    "print('percent complete: ',percent, end =\" - %s seconds -\\n\" % \\\n",
    "              (time.time() - start_time), flush=True)"
   ]
  },
  {
   "cell_type": "markdown",
   "id": "9f454175",
   "metadata": {},
   "source": [
    "**We save our fitted LinearSVC model using reduced dimensional output from UMAP**"
   ]
  },
  {
   "cell_type": "code",
   "execution_count": 66,
   "id": "0aaea375",
   "metadata": {},
   "outputs": [],
   "source": [
    "import pickle\n",
    "\n",
    "# Save to file\n",
    "with open('umap_gray_small.pkl', 'wb') as f:\n",
    "    pickle.dump(clf_umap, f)\n"
   ]
  },
  {
   "cell_type": "markdown",
   "id": "2ac22a46",
   "metadata": {},
   "source": [
    "**We reload our fitted LinearSVC**"
   ]
  },
  {
   "cell_type": "code",
   "execution_count": 67,
   "id": "1acf28d2",
   "metadata": {},
   "outputs": [],
   "source": [
    "# Load from file\n",
    "with open('umap_gray_small.pkl', 'rb') as f:\n",
    "    clf_gumap_loaded = pickle.load(f)"
   ]
  },
  {
   "cell_type": "markdown",
   "id": "c78c077c",
   "metadata": {},
   "source": [
    "**We check accuracy for each label**"
   ]
  },
  {
   "cell_type": "code",
   "execution_count": 68,
   "id": "137e87a4",
   "metadata": {},
   "outputs": [
    {
     "data": {
      "text/plain": [
       "((231,), array([0., 0., 0.]))"
      ]
     },
     "execution_count": 68,
     "metadata": {},
     "output_type": "execute_result"
    }
   ],
   "source": [
    "#define list, x data test list from umap\n",
    "x_tlistu =[]\n",
    "y_tlistu = []\n",
    "tlabelu =[]\n",
    "for i in range(4):\n",
    "    indices = np.where(y_test_u == i)[0]\n",
    "    y_tlistu.append(y_test_u[indices])\n",
    "    x_tlistu.append(x_test_u[indices])\n",
    "    tlabelu.append(decipher_key[i])\n",
    "    \n",
    "y_tlistu[0].shape, y_tlistu[0][0:3]"
   ]
  },
  {
   "cell_type": "code",
   "execution_count": 69,
   "id": "5d9d65cc",
   "metadata": {},
   "outputs": [
    {
     "name": "stdout",
     "output_type": "stream",
     "text": [
      "Accuracy on the Pants  test set with grayscale image: 0.926\n",
      "Accuracy on the Tshirts  test set with grayscale image: 0.796\n",
      "Accuracy on the Watches  test set with grayscale image: 0.993\n",
      "Accuracy on the Casual Shoes  test set with grayscale image: 0.973\n"
     ]
    }
   ],
   "source": [
    "percent=100\n",
    "start_time = time.time()\n",
    "for i in range(4):\n",
    "    print(\"Accuracy on the\",tlabelu[i],\" test set with grayscale image: {:.3f}\".\\\n",
    "          format(clf_gumap_loaded.score(x_tlistu[i], y_tlistu[i])))\n",
    "print('percent complete: ',percent, end =\" - %s seconds -\\n\" % \\\n",
    "              (time.time() - start_time), flush=True)"
   ]
  },
  {
   "cell_type": "markdown",
   "id": "4f2ee35b",
   "metadata": {},
   "source": [
    "**The above results are for the validation data**"
   ]
  },
  {
   "cell_type": "code",
   "execution_count": 70,
   "id": "ecf765b8",
   "metadata": {},
   "outputs": [
    {
     "name": "stdout",
     "output_type": "stream",
     "text": [
      "[[214   1  16   0]\n",
      " [  0 164  20  22]\n",
      " [  0   0 265   2]\n",
      " [  0   1   6 254]]\n"
     ]
    }
   ],
   "source": [
    "from sklearn.metrics import confusion_matrix\n",
    "#x_tlist[i]\n",
    "#y_tlist[i]\n",
    "\n",
    "# Use the fitted model to make predictions on the same data used for fitting\n",
    "y_pred_u = clf_gumap_loaded.predict(x_test_u)\n",
    "\n",
    "# Generate the confusion matrix\n",
    "cm = confusion_matrix(y_test_u, y_pred_u)\n",
    "\n",
    "print(cm)"
   ]
  },
  {
   "cell_type": "code",
   "execution_count": 71,
   "id": "c25973e9",
   "metadata": {},
   "outputs": [
    {
     "data": {
      "image/png": "[encoded data removed]",
      "text/plain": [
       "<Figure size 720x504 with 2 Axes>"
      ]
     },
     "metadata": {
      "needs_background": "light"
     },
     "output_type": "display_data"
    }
   ],
   "source": [
    "\n",
    "# Create a heatmap\n",
    "# Create a list of labels\n",
    "labels = [decipher_key[i] for i in range(4)]\n",
    "plt.figure(figsize=(10,7))\n",
    "#sns.heatmap(cm, annot=True, fmt='d', cmap='Blues')\n",
    "sns.heatmap(cm, annot=True, fmt='d', cmap='Blues', xticklabels=labels, yticklabels=labels)\n",
    "\n",
    "# Add labels to the plot\n",
    "plt.xlabel('Predicted label')\n",
    "plt.ylabel('True label')\n",
    "plt.title('Confusion Matrix')\n",
    "\n",
    "# Show the plot\n",
    "plt.show()"
   ]
  },
  {
   "cell_type": "markdown",
   "id": "7c0c5f30",
   "metadata": {},
   "source": [
    "**pull examples**"
   ]
  },
  {
   "cell_type": "code",
   "execution_count": 72,
   "id": "e3e2499b",
   "metadata": {},
   "outputs": [],
   "source": [
    "# Assuming y_true is your list of true labels and y_pred is your list of predicted labels\n",
    "# And X_data is your original dataset\n",
    "\n",
    "misclassified_indexes = []\n",
    "\n",
    "for i in range(len(y_test_u)):\n",
    "    # If true label is 'Tshirts' (which corresponds to 1)\n",
    "    # and predicted label is 'Casual Shoes' (which corresponds to 3)\n",
    "    if (y_test_u[i] == 1) and (y_pred_u[i] == 3):\n",
    "        misclassified_indexes.append(i)\n",
    "\n",
    "# Now, misclassified_indexes contains the indexes of all misclassified examples\n",
    "# You can use it to get the corresponding data from X_data\n",
    "#misclassified_data = x_test[misclassified_indexes]\n",
    "\n",
    "\n"
   ]
  },
  {
   "cell_type": "code",
   "execution_count": 73,
   "id": "3ef6373b",
   "metadata": {},
   "outputs": [
    {
     "data": {
      "text/plain": [
       "[91,\n",
       " 187,\n",
       " 210,\n",
       " 221,\n",
       " 239,\n",
       " 290,\n",
       " 309,\n",
       " 419,\n",
       " 423,\n",
       " 440,\n",
       " 481,\n",
       " 512,\n",
       " 516,\n",
       " 616,\n",
       " 633,\n",
       " 638,\n",
       " 646,\n",
       " 673,\n",
       " 688,\n",
       " 817,\n",
       " 933,\n",
       " 964]"
      ]
     },
     "execution_count": 73,
     "metadata": {},
     "output_type": "execute_result"
    }
   ],
   "source": [
    "misclassified_indexes"
   ]
  },
  {
   "cell_type": "markdown",
   "id": "ae8d3ae0",
   "metadata": {},
   "source": [
    "**Since the accuracy decreased to 93%, maybe a different classifier would performe better**"
   ]
  }
 ],
 "metadata": {
  "kernelspec": {
   "display_name": "Python 3 (ipykernel)",
   "language": "python",
   "name": "python3"
  },
  "language_info": {
   "codemirror_mode": {
    "name": "ipython",
    "version": 3
   },
   "file_extension": ".py",
   "mimetype": "text/x-python",
   "name": "python",
   "nbconvert_exporter": "python",
   "pygments_lexer": "ipython3",
   "version": "3.9.12"
  }
 },
 "nbformat": 4,
 "nbformat_minor": 5
}
