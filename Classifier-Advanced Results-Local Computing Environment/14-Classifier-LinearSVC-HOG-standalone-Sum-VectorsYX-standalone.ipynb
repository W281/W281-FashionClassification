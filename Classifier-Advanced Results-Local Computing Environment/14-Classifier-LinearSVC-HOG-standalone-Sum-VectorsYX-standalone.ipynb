{
 "cells": [
  {
   "cell_type": "code",
   "execution_count": 1,
   "id": "d62d4a54",
   "metadata": {},
   "outputs": [],
   "source": [
    "# Load packages\n",
    "import pandas as pd\n",
    "import numpy as np\n",
    "import cv2 as cv"
   ]
  },
  {
   "cell_type": "code",
   "execution_count": 2,
   "id": "d393f282",
   "metadata": {},
   "outputs": [],
   "source": [
    "from sklearn.datasets import make_classification\n",
    "from sklearn.model_selection import train_test_split, GridSearchCV\n",
    "from sklearn.pipeline import Pipeline\n",
    "from sklearn.svm import LinearSVC"
   ]
  },
  {
   "cell_type": "code",
   "execution_count": 3,
   "id": "33b622d0",
   "metadata": {},
   "outputs": [],
   "source": [
    "from sklearn.model_selection import cross_val_score"
   ]
  },
  {
   "cell_type": "code",
   "execution_count": 26,
   "id": "bb753454",
   "metadata": {},
   "outputs": [],
   "source": [
    "from sklearn.metrics import make_scorer, f1_score"
   ]
  },
  {
   "cell_type": "code",
   "execution_count": 4,
   "id": "2d7ae4d8",
   "metadata": {},
   "outputs": [],
   "source": [
    "import matplotlib.pyplot as plt"
   ]
  },
  {
   "cell_type": "code",
   "execution_count": 5,
   "id": "ed2c98e8",
   "metadata": {},
   "outputs": [],
   "source": [
    "import seaborn as sns"
   ]
  },
  {
   "cell_type": "code",
   "execution_count": 6,
   "id": "77da94ef",
   "metadata": {},
   "outputs": [],
   "source": [
    "import time"
   ]
  },
  {
   "cell_type": "code",
   "execution_count": 7,
   "id": "253e5365",
   "metadata": {},
   "outputs": [],
   "source": [
    "import pickle"
   ]
  },
  {
   "cell_type": "markdown",
   "id": "4ac6f0f8",
   "metadata": {},
   "source": [
    "## Linear SVC on HOG Data"
   ]
  },
  {
   "cell_type": "markdown",
   "id": "a31a6cd6",
   "metadata": {},
   "source": [
    "**Load train data**"
   ]
  },
  {
   "cell_type": "code",
   "execution_count": 16,
   "id": "99d37b70",
   "metadata": {},
   "outputs": [],
   "source": [
    "train_df = pd.read_csv('gray_small_train_set.csv')\n",
    "\n"
   ]
  },
  {
   "cell_type": "code",
   "execution_count": 9,
   "id": "60867a57",
   "metadata": {},
   "outputs": [],
   "source": [
    "train_hog_df = pd.read_csv('hog_fd_train.csv')"
   ]
  },
  {
   "cell_type": "code",
   "execution_count": 14,
   "id": "9f2c41c9",
   "metadata": {},
   "outputs": [],
   "source": [
    "sumy_df =  pd.read_csv('histy_train.csv')"
   ]
  },
  {
   "cell_type": "code",
   "execution_count": 15,
   "id": "4198b7c9",
   "metadata": {},
   "outputs": [],
   "source": [
    "sumx_df =  pd.read_csv('histx_train.csv')"
   ]
  },
  {
   "cell_type": "code",
   "execution_count": 12,
   "id": "560ecb83",
   "metadata": {},
   "outputs": [
    {
     "data": {
      "text/plain": [
       "((3377, 1201), (3377, 1729), (3377, 41), (3377, 31))"
      ]
     },
     "execution_count": 12,
     "metadata": {},
     "output_type": "execute_result"
    }
   ],
   "source": [
    "train_df.shape, train_hog_df.shape, sumy_df.shape, sumx_df.shape\n",
    "\n"
   ]
  },
  {
   "cell_type": "markdown",
   "id": "01414327",
   "metadata": {},
   "source": [
    "**Create train data for fitting LinearSVC**"
   ]
  },
  {
   "cell_type": "code",
   "execution_count": 12,
   "id": "a1c793e3",
   "metadata": {},
   "outputs": [],
   "source": [
    "#train_data = pd.concat([train_hog_df, sumy_df.iloc[:,1:], sumx_df.iloc[:,1:]], axis=1)"
   ]
  },
  {
   "cell_type": "code",
   "execution_count": 13,
   "id": "f2ba67ed",
   "metadata": {},
   "outputs": [
    {
     "data": {
      "text/html": [
       "<div>\n",
       "<style scoped>\n",
       "    .dataframe tbody tr th:only-of-type {\n",
       "        vertical-align: middle;\n",
       "    }\n",
       "\n",
       "    .dataframe tbody tr th {\n",
       "        vertical-align: top;\n",
       "    }\n",
       "\n",
       "    .dataframe thead th {\n",
       "        text-align: right;\n",
       "    }\n",
       "</style>\n",
       "<table border=\"1\" class=\"dataframe\">\n",
       "  <thead>\n",
       "    <tr style=\"text-align: right;\">\n",
       "      <th></th>\n",
       "      <th>label</th>\n",
       "      <th>fd_value0</th>\n",
       "      <th>fd_value1</th>\n",
       "      <th>fd_value2</th>\n",
       "      <th>fd_value3</th>\n",
       "      <th>fd_value4</th>\n",
       "      <th>fd_value5</th>\n",
       "      <th>fd_value6</th>\n",
       "      <th>fd_value7</th>\n",
       "      <th>fd_value8</th>\n",
       "      <th>...</th>\n",
       "      <th>sum_x_20</th>\n",
       "      <th>sum_x_21</th>\n",
       "      <th>sum_x_22</th>\n",
       "      <th>sum_x_23</th>\n",
       "      <th>sum_x_24</th>\n",
       "      <th>sum_x_25</th>\n",
       "      <th>sum_x_26</th>\n",
       "      <th>sum_x_27</th>\n",
       "      <th>sum_x_28</th>\n",
       "      <th>sum_x_29</th>\n",
       "    </tr>\n",
       "  </thead>\n",
       "  <tbody>\n",
       "    <tr>\n",
       "      <th>0</th>\n",
       "      <td>0.0</td>\n",
       "      <td>0.016479</td>\n",
       "      <td>0.0</td>\n",
       "      <td>0.0</td>\n",
       "      <td>0.0</td>\n",
       "      <td>0.0</td>\n",
       "      <td>0.0</td>\n",
       "      <td>0.0</td>\n",
       "      <td>0.0</td>\n",
       "      <td>0.705982</td>\n",
       "      <td>...</td>\n",
       "      <td>2750</td>\n",
       "      <td>7250</td>\n",
       "      <td>10000</td>\n",
       "      <td>10000</td>\n",
       "      <td>10000</td>\n",
       "      <td>10000</td>\n",
       "      <td>10000</td>\n",
       "      <td>10000</td>\n",
       "      <td>10000</td>\n",
       "      <td>10000</td>\n",
       "    </tr>\n",
       "    <tr>\n",
       "      <th>1</th>\n",
       "      <td>2.0</td>\n",
       "      <td>0.000000</td>\n",
       "      <td>0.0</td>\n",
       "      <td>0.0</td>\n",
       "      <td>0.0</td>\n",
       "      <td>0.0</td>\n",
       "      <td>0.0</td>\n",
       "      <td>0.0</td>\n",
       "      <td>0.0</td>\n",
       "      <td>0.000000</td>\n",
       "      <td>...</td>\n",
       "      <td>6750</td>\n",
       "      <td>9250</td>\n",
       "      <td>10000</td>\n",
       "      <td>10000</td>\n",
       "      <td>10000</td>\n",
       "      <td>10000</td>\n",
       "      <td>10000</td>\n",
       "      <td>10000</td>\n",
       "      <td>10000</td>\n",
       "      <td>10000</td>\n",
       "    </tr>\n",
       "    <tr>\n",
       "      <th>2</th>\n",
       "      <td>2.0</td>\n",
       "      <td>0.000000</td>\n",
       "      <td>0.0</td>\n",
       "      <td>0.0</td>\n",
       "      <td>0.0</td>\n",
       "      <td>0.0</td>\n",
       "      <td>0.0</td>\n",
       "      <td>0.0</td>\n",
       "      <td>0.0</td>\n",
       "      <td>1.000000</td>\n",
       "      <td>...</td>\n",
       "      <td>8000</td>\n",
       "      <td>8500</td>\n",
       "      <td>10000</td>\n",
       "      <td>10000</td>\n",
       "      <td>10000</td>\n",
       "      <td>10000</td>\n",
       "      <td>10000</td>\n",
       "      <td>10000</td>\n",
       "      <td>10000</td>\n",
       "      <td>10000</td>\n",
       "    </tr>\n",
       "  </tbody>\n",
       "</table>\n",
       "<p>3 rows × 1799 columns</p>\n",
       "</div>"
      ],
      "text/plain": [
       "   label  fd_value0  fd_value1  fd_value2  fd_value3  fd_value4  fd_value5  \\\n",
       "0    0.0   0.016479        0.0        0.0        0.0        0.0        0.0   \n",
       "1    2.0   0.000000        0.0        0.0        0.0        0.0        0.0   \n",
       "2    2.0   0.000000        0.0        0.0        0.0        0.0        0.0   \n",
       "\n",
       "   fd_value6  fd_value7  fd_value8  ...  sum_x_20  sum_x_21  sum_x_22  \\\n",
       "0        0.0        0.0   0.705982  ...      2750      7250     10000   \n",
       "1        0.0        0.0   0.000000  ...      6750      9250     10000   \n",
       "2        0.0        0.0   1.000000  ...      8000      8500     10000   \n",
       "\n",
       "   sum_x_23  sum_x_24  sum_x_25  sum_x_26  sum_x_27  sum_x_28  sum_x_29  \n",
       "0     10000     10000     10000     10000     10000     10000     10000  \n",
       "1     10000     10000     10000     10000     10000     10000     10000  \n",
       "2     10000     10000     10000     10000     10000     10000     10000  \n",
       "\n",
       "[3 rows x 1799 columns]"
      ]
     },
     "execution_count": 13,
     "metadata": {},
     "output_type": "execute_result"
    }
   ],
   "source": [
    "#train_data.head(3)"
   ]
  },
  {
   "cell_type": "code",
   "execution_count": 34,
   "id": "17178526",
   "metadata": {},
   "outputs": [],
   "source": [
    "train_data = train_hog_df"
   ]
  },
  {
   "cell_type": "code",
   "execution_count": 35,
   "id": "51775004",
   "metadata": {},
   "outputs": [
    {
     "data": {
      "text/plain": [
       "(3377, 1729)"
      ]
     },
     "execution_count": 35,
     "metadata": {},
     "output_type": "execute_result"
    }
   ],
   "source": [
    "train_data.shape"
   ]
  },
  {
   "cell_type": "code",
   "execution_count": null,
   "id": "d1573bb2",
   "metadata": {},
   "outputs": [],
   "source": [
    "#train_data.head(3)"
   ]
  },
  {
   "cell_type": "code",
   "execution_count": 36,
   "id": "e3325be3",
   "metadata": {},
   "outputs": [],
   "source": [
    "x_train = train_data.iloc[:, 1:].values.astype(np.float32)\n",
    "y_train =train_data['label'].values"
   ]
  },
  {
   "cell_type": "code",
   "execution_count": 37,
   "id": "ae09d9ff",
   "metadata": {},
   "outputs": [
    {
     "data": {
      "text/plain": [
       "((3377, 1728), (3377, 1729))"
      ]
     },
     "execution_count": 37,
     "metadata": {},
     "output_type": "execute_result"
    }
   ],
   "source": [
    "x_train.shape, train_data.shape"
   ]
  },
  {
   "cell_type": "markdown",
   "id": "fc2c1369",
   "metadata": {},
   "source": [
    "**Load and format test data**"
   ]
  },
  {
   "cell_type": "code",
   "execution_count": 17,
   "id": "00e430f5",
   "metadata": {},
   "outputs": [],
   "source": [
    "test_df = pd.read_csv('gray_small_test_set.csv')\n",
    "\n"
   ]
  },
  {
   "cell_type": "code",
   "execution_count": 18,
   "id": "2785fa0c",
   "metadata": {},
   "outputs": [
    {
     "data": {
      "text/plain": [
       "(965, 1201)"
      ]
     },
     "execution_count": 18,
     "metadata": {},
     "output_type": "execute_result"
    }
   ],
   "source": [
    "test_df.shape"
   ]
  },
  {
   "cell_type": "code",
   "execution_count": 24,
   "id": "e39212bc",
   "metadata": {},
   "outputs": [],
   "source": [
    "test_hog_df = pd.read_csv('hog_fd_test.csv')"
   ]
  },
  {
   "cell_type": "code",
   "execution_count": 18,
   "id": "142db6a2",
   "metadata": {},
   "outputs": [],
   "source": [
    "sumy_test_df =  pd.read_csv('histy_test.csv')"
   ]
  },
  {
   "cell_type": "code",
   "execution_count": 19,
   "id": "449b8007",
   "metadata": {},
   "outputs": [],
   "source": [
    "sumx_test_df =  pd.read_csv('histx_test.csv')"
   ]
  },
  {
   "cell_type": "code",
   "execution_count": 27,
   "id": "97bcf16b",
   "metadata": {},
   "outputs": [],
   "source": [
    "#test_data = pd.concat([test_hog_df, sumy_test_df.iloc[:,1:], sumx_test_df.iloc[:,1:]], axis=1)\n",
    "\n"
   ]
  },
  {
   "cell_type": "code",
   "execution_count": 38,
   "id": "aef14e65",
   "metadata": {},
   "outputs": [],
   "source": [
    "test_data = test_hog_df"
   ]
  },
  {
   "cell_type": "code",
   "execution_count": 39,
   "id": "bdc3df6b",
   "metadata": {},
   "outputs": [
    {
     "data": {
      "text/plain": [
       "(965, 1729)"
      ]
     },
     "execution_count": 39,
     "metadata": {},
     "output_type": "execute_result"
    }
   ],
   "source": [
    " test_data.shape"
   ]
  },
  {
   "cell_type": "code",
   "execution_count": 40,
   "id": "8b2b2986",
   "metadata": {},
   "outputs": [],
   "source": [
    "x_test = test_data.iloc[:, 1:].values.astype(np.float32)\n",
    "y_test =  test_data['label'].values"
   ]
  },
  {
   "cell_type": "code",
   "execution_count": 41,
   "id": "65f90dcf",
   "metadata": {},
   "outputs": [
    {
     "data": {
      "text/plain": [
       "((3377, 1728), (965, 1728))"
      ]
     },
     "execution_count": 41,
     "metadata": {},
     "output_type": "execute_result"
    }
   ],
   "source": [
    "x_train.shape, x_test.shape"
   ]
  },
  {
   "cell_type": "markdown",
   "id": "8ac9f7cd",
   "metadata": {},
   "source": [
    "**fit model with HOG vector only**"
   ]
  },
  {
   "cell_type": "code",
   "execution_count": 42,
   "id": "653a96c7",
   "metadata": {},
   "outputs": [
    {
     "name": "stdout",
     "output_type": "stream",
     "text": [
      "percent complete:  100 - 25.95174813270569 seconds -\n"
     ]
    }
   ],
   "source": [
    "#12:02\n",
    "# Classification with a linear SVM\n",
    "percent=100\n",
    "start_time = time.time()\n",
    "svc = LinearSVC(dual=False, random_state=123)\n",
    "params_grid = {\"C\": [10 ** k for k in range(-1, 4)]}\n",
    "clf = GridSearchCV(svc, params_grid)\n",
    "clf.fit(x_train, y_train)\n",
    "print('percent complete: ',percent, end =\" - %s seconds -\\n\" % \\\n",
    "              (time.time() - start_time), flush=False)\n"
   ]
  },
  {
   "cell_type": "markdown",
   "id": "8f0786b7",
   "metadata": {},
   "source": [
    "**Accuracy Score on Test data**"
   ]
  },
  {
   "cell_type": "code",
   "execution_count": 43,
   "id": "127e665a",
   "metadata": {},
   "outputs": [
    {
     "name": "stdout",
     "output_type": "stream",
     "text": [
      "Accuracy on the test set with HOG vector data: 0.248\n"
     ]
    }
   ],
   "source": [
    "print(\"Accuracy on the test set with HOG vector data: {:.3f}\".format(clf.score(x_test, y_test)))"
   ]
  },
  {
   "cell_type": "markdown",
   "id": "ff43f73f",
   "metadata": {},
   "source": [
    "### LinearSVC on Sum of X and Y data"
   ]
  },
  {
   "cell_type": "code",
   "execution_count": 20,
   "id": "6dcff20d",
   "metadata": {},
   "outputs": [],
   "source": [
    "train_data = pd.concat([sumy_df, sumx_df.iloc[:,1:]], axis=1)\n",
    "x_train = train_data.iloc[:, 1:].values.astype(np.float32)\n",
    "y_train =train_data['label'].values\n",
    "\n",
    "\n",
    "test_data = pd.concat([sumy_test_df, sumx_test_df.iloc[:,1:]], axis=1)\n",
    "test_data.shape\n",
    "x_test = test_data.iloc[:, 1:].values.astype(np.float32)\n",
    "y_test =  test_data['label'].values"
   ]
  },
  {
   "cell_type": "code",
   "execution_count": 21,
   "id": "dcb5c975",
   "metadata": {},
   "outputs": [
    {
     "name": "stdout",
     "output_type": "stream",
     "text": [
      "percent complete:  100 - 10.785516500473022 seconds -\n"
     ]
    }
   ],
   "source": [
    "#12:07\n",
    "# Classification with a linear SVM\n",
    "percent=100\n",
    "start_time = time.time()\n",
    "svc = LinearSVC(dual=False, random_state=123)\n",
    "params_grid = {\"C\": [10 ** k for k in range(-1, 4)]}\n",
    "clf = GridSearchCV(svc, params_grid)\n",
    "clf.fit(x_train, y_train)\n",
    "print('percent complete: ',percent, end =\" - %s seconds -\\n\" % \\\n",
    "              (time.time() - start_time), flush=False)"
   ]
  },
  {
   "cell_type": "markdown",
   "id": "e6e8751b",
   "metadata": {},
   "source": [
    "**Accuracy Score on Test data**"
   ]
  },
  {
   "cell_type": "code",
   "execution_count": 22,
   "id": "172cb3e1",
   "metadata": {},
   "outputs": [
    {
     "name": "stdout",
     "output_type": "stream",
     "text": [
      "Accuracy on the test set with SUM X and Y vector data: 0.902\n"
     ]
    }
   ],
   "source": [
    "print(\"Accuracy on the test set with SUM X and Y vector data: {:.3f}\".format(clf.score(x_test, y_test)))"
   ]
  },
  {
   "cell_type": "markdown",
   "id": "8d638e15",
   "metadata": {},
   "source": [
    "**F1 Scores**"
   ]
  },
  {
   "cell_type": "code",
   "execution_count": 27,
   "id": "9525c9c3",
   "metadata": {},
   "outputs": [],
   "source": [
    "f1_scorer = make_scorer(f1_score, average='micro')"
   ]
  },
  {
   "cell_type": "code",
   "execution_count": 29,
   "id": "71556e6d",
   "metadata": {},
   "outputs": [
    {
     "name": "stdout",
     "output_type": "stream",
     "text": [
      "[0.85492228 0.88601036 0.84455959 0.87046632 0.8238342 ]\n"
     ]
    }
   ],
   "source": [
    "# Perform cross-validation and get the F1 score\n",
    "scores = cross_val_score(clf, x_test, y_test, scoring=f1_scorer)\n",
    "print(scores)"
   ]
  },
  {
   "cell_type": "code",
   "execution_count": 32,
   "id": "f6d1c1f0",
   "metadata": {},
   "outputs": [
    {
     "data": {
      "text/plain": [
       "0.8559585492227979"
      ]
     },
     "execution_count": 32,
     "metadata": {},
     "output_type": "execute_result"
    }
   ],
   "source": [
    "sum(scores)/len(scores)"
   ]
  },
  {
   "cell_type": "markdown",
   "id": "19faf6f0",
   "metadata": {},
   "source": [
    "### Check accuracy per category \n"
   ]
  },
  {
   "cell_type": "code",
   "execution_count": 47,
   "id": "ff6f27fb",
   "metadata": {},
   "outputs": [],
   "source": [
    "decipher_key = {\n",
    "    0:\"Pants\",\n",
    "    1:\"Tshirts\",\n",
    "    2:\"Watches\",\n",
    "    3:\"Casual Shoes\"\n",
    " \n",
    "}"
   ]
  },
  {
   "cell_type": "code",
   "execution_count": 48,
   "id": "5ffc5e1a",
   "metadata": {},
   "outputs": [
    {
     "data": {
      "text/plain": [
       "((239,), array([0, 0, 0], dtype=int64))"
      ]
     },
     "execution_count": 48,
     "metadata": {},
     "output_type": "execute_result"
    }
   ],
   "source": [
    "x_tlist =[]\n",
    "y_tlist = []\n",
    "tlabel =[]\n",
    "for i in range(4):\n",
    "    indices = np.where(y_test == i)[0]\n",
    "    y_tlist.append(y_test[indices])\n",
    "    x_tlist.append(x_test[indices])\n",
    "    tlabel.append(decipher_key[i])\n",
    "    \n",
    "y_tlist[0].shape, y_tlist[0][0:3]\n",
    "    "
   ]
  },
  {
   "cell_type": "code",
   "execution_count": 50,
   "id": "7b7e6408",
   "metadata": {},
   "outputs": [
    {
     "name": "stdout",
     "output_type": "stream",
     "text": [
      "Accuracy on the Pants  test set with grayscale image: 0.908\n",
      "Accuracy on the Tshirts  test set with grayscale image: 0.899\n",
      "Accuracy on the Watches  test set with grayscale image: 0.880\n",
      "Accuracy on the Casual Shoes  test set with grayscale image: 0.920\n"
     ]
    }
   ],
   "source": [
    "for i in range(4):\n",
    "    print(\"Accuracy on the\",tlabel[i],\" test set with grayscale image: {:.3f}\".\\\n",
    "          format(clf.score(x_tlist[i], y_tlist[i])))"
   ]
  },
  {
   "cell_type": "markdown",
   "id": "11f80320",
   "metadata": {},
   "source": [
    "**Generate Confusion Matrix For Each Result**"
   ]
  },
  {
   "cell_type": "code",
   "execution_count": 51,
   "id": "b60f7105",
   "metadata": {},
   "outputs": [],
   "source": [
    "from sklearn.metrics import confusion_matrix\n",
    "#x_tlist[i]\n",
    "#y_tlist[i]\n",
    "\n",
    "# Use the fitted model to make predictions on the same data used for fitting\n",
    "y_pred = clf.predict(x_test)\n",
    "\n",
    "# Generate the confusion matrix\n",
    "cm = confusion_matrix(y_test, y_pred)\n",
    "\n",
    "#print(cm)\n"
   ]
  },
  {
   "cell_type": "code",
   "execution_count": 52,
   "id": "d3a5a63e",
   "metadata": {},
   "outputs": [
    {
     "data": {
      "image/png": "[encoded data removed]",
      "text/plain": [
       "<Figure size 720x504 with 2 Axes>"
      ]
     },
     "metadata": {
      "needs_background": "light"
     },
     "output_type": "display_data"
    }
   ],
   "source": [
    "# Create a heatmap\n",
    "# Create a list of labels\n",
    "labels = [decipher_key[i] for i in range(4)]\n",
    "plt.figure(figsize=(10,7))\n",
    "#sns.heatmap(cm, annot=True, fmt='d', cmap='Blues')\n",
    "sns.heatmap(cm, annot=True, fmt='d', cmap='Blues', xticklabels=labels, yticklabels=labels)\n",
    "\n",
    "# Add labels to the plot\n",
    "plt.xlabel('Predicted label')\n",
    "plt.ylabel('True label')\n",
    "plt.title('Confusion Matrix')\n",
    "\n",
    "# Show the plot\n",
    "plt.show()"
   ]
  },
  {
   "cell_type": "markdown",
   "id": "1a060164",
   "metadata": {},
   "source": [
    "**Including the HOG vector, allows us to reclassify an image from Watches to Tshirts (6 to 5) increasing the Tshirt TP count from 220 to 221**"
   ]
  },
  {
   "cell_type": "markdown",
   "id": "4b03b34f",
   "metadata": {},
   "source": [
    "**Pull Up Examples of False Positives (Tshirts)**"
   ]
  },
  {
   "cell_type": "code",
   "execution_count": 53,
   "id": "201795b6",
   "metadata": {},
   "outputs": [],
   "source": [
    "# Assuming y_true is your list of true labels and y_pred is your list of predicted labels\n",
    "# And X_data is your original dataset\n",
    "\n",
    "misclassified_indexes = []\n",
    "\n",
    "for i in range(len(y_test)):\n",
    "    # If true label is 'Tshirts' (which corresponds to 1)\n",
    "    # and predicted label is 'Casual Shoes' (which corresponds to 3)\n",
    "    if (y_test[i] == 1) and (y_pred[i] == 2):\n",
    "        misclassified_indexes.append(i)\n",
    "\n",
    "# Now, misclassified_indexes contains the indexes of all misclassified examples\n",
    "# You can use it to get the corresponding data from X_data\n",
    "#misclassified_data = x_test[misclassified_indexes]"
   ]
  },
  {
   "cell_type": "code",
   "execution_count": 54,
   "id": "70b0969a",
   "metadata": {},
   "outputs": [
    {
     "data": {
      "text/plain": [
       "[49,\n",
       " 87,\n",
       " 107,\n",
       " 207,\n",
       " 223,\n",
       " 255,\n",
       " 337,\n",
       " 398,\n",
       " 418,\n",
       " 429,\n",
       " 432,\n",
       " 555,\n",
       " 621,\n",
       " 908,\n",
       " 916,\n",
       " 933,\n",
       " 936,\n",
       " 941]"
      ]
     },
     "execution_count": 54,
     "metadata": {},
     "output_type": "execute_result"
    }
   ],
   "source": [
    "misclassified_indexes"
   ]
  },
  {
   "cell_type": "code",
   "execution_count": 55,
   "id": "3360d7e5",
   "metadata": {},
   "outputs": [],
   "source": [
    "test_df = pd.read_csv('output_rgb_test.csv')\n",
    "\n",
    "#test_img = test_df.iloc[:, 1:].values.astype(np.float32)\n",
    "test_img = test_df.iloc[:, 1:].values.astype(np.uint8)\n",
    "\n",
    "test_label = test_df['label'].values\n",
    "\n",
    "#img_rgb = (img_rgb * 255).astype(np.uint8) before axarr.imshow(img_rgb)"
   ]
  },
  {
   "cell_type": "code",
   "execution_count": 56,
   "id": "2ec7197e",
   "metadata": {},
   "outputs": [
    {
     "data": {
      "text/plain": [
       "<matplotlib.image.AxesImage at 0xc91468c400>"
      ]
     },
     "execution_count": 56,
     "metadata": {},
     "output_type": "execute_result"
    },
    {
     "data": {
      "text/plain": [
       "<Figure size 2016x2016 with 0 Axes>"
      ]
     },
     "metadata": {},
     "output_type": "display_data"
    },
    {
     "data": {
      "image/png": "[encoded data removed]",
      "text/plain": [
       "<Figure size 720x720 with 1 Axes>"
      ]
     },
     "metadata": {
      "needs_background": "light"
     },
     "output_type": "display_data"
    }
   ],
   "source": [
    "temp =misclassified_indexes[0]\n",
    "img_rgb  = np.reshape(test_img[temp], newshape=(80,60,3))\n",
    "plt.figure(figsize = (28,28))\n",
    "f, axarr = plt.subplots(1,1, figsize=(10, 10))\n",
    "title = \"Item of Class: \\'\" +decipher_key[test_label[temp]] +\"\\' Labeled As \\'\"+decipher_key[y_pred[temp]]+\"\\'\"\n",
    "axarr.title.set_text(title)\n",
    "axarr.imshow(img_rgb)"
   ]
  },
  {
   "cell_type": "markdown",
   "id": "cf1e5161",
   "metadata": {},
   "source": [
    "**It appers the white shirt is getting this image mislabeled**"
   ]
  },
  {
   "cell_type": "markdown",
   "id": "2849b07b",
   "metadata": {},
   "source": [
    "**Pull Up Examples of False Positives (Watches as Tshirts)**"
   ]
  },
  {
   "cell_type": "code",
   "execution_count": 57,
   "id": "54a7d077",
   "metadata": {},
   "outputs": [],
   "source": [
    "# Assuming y_true is your list of true labels and y_pred is your list of predicted labels\n",
    "# And X_data is your original dataset\n",
    "\n",
    "misclassified_indexes = []\n",
    "\n",
    "for i in range(len(y_test)):\n",
    "    # If true label is 'Tshirts' (which corresponds to 1)\n",
    "    # and predicted label is 'Casual Shoes' (which corresponds to 3)\n",
    "    if (y_test[i] == 2) and (y_pred[i] == 1):\n",
    "        misclassified_indexes.append(i)\n",
    "\n",
    "# Now, misclassified_indexes contains the indexes of all misclassified examples\n",
    "# You can use it to get the corresponding data from X_data\n",
    "#misclassified_data = x_test[misclassified_indexes]"
   ]
  },
  {
   "cell_type": "code",
   "execution_count": 58,
   "id": "2aeab33e",
   "metadata": {},
   "outputs": [
    {
     "data": {
      "text/plain": [
       "<matplotlib.image.AxesImage at 0xc90563a550>"
      ]
     },
     "execution_count": 58,
     "metadata": {},
     "output_type": "execute_result"
    },
    {
     "data": {
      "text/plain": [
       "<Figure size 2016x2016 with 0 Axes>"
      ]
     },
     "metadata": {},
     "output_type": "display_data"
    },
    {
     "data": {
      "image/png": "[encoded data removed]",
      "text/plain": [
       "<Figure size 720x720 with 1 Axes>"
      ]
     },
     "metadata": {
      "needs_background": "light"
     },
     "output_type": "display_data"
    }
   ],
   "source": [
    "temp =misclassified_indexes[0]\n",
    "img_rgb  = np.reshape(test_img[temp], newshape=(80,60,3))\n",
    "plt.figure(figsize = (28,28))\n",
    "f, axarr = plt.subplots(1,1, figsize=(10, 10))\n",
    "title = \"Item of Class: \\'\" +decipher_key[test_label[temp]] +\"\\' Labeled As \\'\"+decipher_key[y_pred[temp]]+\"\\'\"\n",
    "axarr.title.set_text(title)\n",
    "axarr.imshow(img_rgb)"
   ]
  },
  {
   "cell_type": "code",
   "execution_count": 59,
   "id": "fba983ce",
   "metadata": {},
   "outputs": [
    {
     "data": {
      "text/plain": [
       "<matplotlib.image.AxesImage at 0xc915edc5b0>"
      ]
     },
     "execution_count": 59,
     "metadata": {},
     "output_type": "execute_result"
    },
    {
     "data": {
      "text/plain": [
       "<Figure size 2016x2016 with 0 Axes>"
      ]
     },
     "metadata": {},
     "output_type": "display_data"
    },
    {
     "data": {
      "image/png": "[encoded data removed]",
      "text/plain": [
       "<Figure size 720x720 with 1 Axes>"
      ]
     },
     "metadata": {
      "needs_background": "light"
     },
     "output_type": "display_data"
    }
   ],
   "source": [
    "temp =misclassified_indexes[1]\n",
    "img_rgb  = np.reshape(test_img[temp], newshape=(80,60,3))\n",
    "plt.figure(figsize = (28,28))\n",
    "f, axarr = plt.subplots(1,1, figsize=(10, 10))\n",
    "title = \"Item of Class: \\'\" +decipher_key[test_label[temp]] +\"\\' Labeled As \\'\"+decipher_key[y_pred[temp]]+\"\\'\"\n",
    "axarr.title.set_text(title)\n",
    "axarr.imshow(img_rgb)"
   ]
  },
  {
   "cell_type": "code",
   "execution_count": 60,
   "id": "9c2a6e02",
   "metadata": {},
   "outputs": [
    {
     "data": {
      "text/plain": [
       "<matplotlib.image.AxesImage at 0xc903480b50>"
      ]
     },
     "execution_count": 60,
     "metadata": {},
     "output_type": "execute_result"
    },
    {
     "data": {
      "text/plain": [
       "<Figure size 2016x2016 with 0 Axes>"
      ]
     },
     "metadata": {},
     "output_type": "display_data"
    },
    {
     "data": {
      "image/png": "[encoded data removed]",
      "text/plain": [
       "<Figure size 720x720 with 1 Axes>"
      ]
     },
     "metadata": {
      "needs_background": "light"
     },
     "output_type": "display_data"
    }
   ],
   "source": [
    "temp =misclassified_indexes[2]\n",
    "img_rgb  = np.reshape(test_img[temp], newshape=(80,60,3))\n",
    "plt.figure(figsize = (28,28))\n",
    "f, axarr = plt.subplots(1,1, figsize=(10, 10))\n",
    "title = \"Item of Class: \\'\" +decipher_key[test_label[temp]] +\"\\' Labeled As \\'\"+decipher_key[y_pred[temp]]+\"\\'\"\n",
    "axarr.title.set_text(title)\n",
    "axarr.imshow(img_rgb)"
   ]
  },
  {
   "cell_type": "markdown",
   "id": "ebbbca84",
   "metadata": {},
   "source": [
    "### LinearSVC on HOG + SumXY Combined: does not converge"
   ]
  },
  {
   "cell_type": "code",
   "execution_count": null,
   "id": "fca70074",
   "metadata": {},
   "outputs": [],
   "source": []
  }
 ],
 "metadata": {
  "kernelspec": {
   "display_name": "Python 3 (ipykernel)",
   "language": "python",
   "name": "python3"
  },
  "language_info": {
   "codemirror_mode": {
    "name": "ipython",
    "version": 3
   },
   "file_extension": ".py",
   "mimetype": "text/x-python",
   "name": "python",
   "nbconvert_exporter": "python",
   "pygments_lexer": "ipython3",
   "version": "3.9.12"
  }
 },
 "nbformat": 4,
 "nbformat_minor": 5
}
