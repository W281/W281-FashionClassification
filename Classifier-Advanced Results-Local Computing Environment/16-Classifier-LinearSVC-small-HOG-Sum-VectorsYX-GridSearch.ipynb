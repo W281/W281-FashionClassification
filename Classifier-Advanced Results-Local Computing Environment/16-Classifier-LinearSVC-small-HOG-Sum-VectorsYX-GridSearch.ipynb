{
 "cells": [
  {
   "cell_type": "code",
   "execution_count": 1,
   "id": "d62d4a54",
   "metadata": {},
   "outputs": [],
   "source": [
    "# Load packages\n",
    "import pandas as pd\n",
    "import numpy as np\n",
    "import cv2 as cv"
   ]
  },
  {
   "cell_type": "code",
   "execution_count": 2,
   "id": "d393f282",
   "metadata": {},
   "outputs": [],
   "source": [
    "from sklearn.datasets import make_classification\n",
    "from sklearn.model_selection import train_test_split, GridSearchCV\n",
    "from sklearn.pipeline import Pipeline\n",
    "from sklearn.svm import LinearSVC\n",
    "from sklearn.metrics import accuracy_score\n",
    "from joblib import dump\n",
    "from joblib import load"
   ]
  },
  {
   "cell_type": "code",
   "execution_count": 3,
   "id": "2d7ae4d8",
   "metadata": {},
   "outputs": [],
   "source": [
    "import matplotlib.pyplot as plt"
   ]
  },
  {
   "cell_type": "code",
   "execution_count": 4,
   "id": "ed2c98e8",
   "metadata": {},
   "outputs": [],
   "source": [
    "import seaborn as sns"
   ]
  },
  {
   "cell_type": "code",
   "execution_count": 5,
   "id": "77da94ef",
   "metadata": {},
   "outputs": [],
   "source": [
    "import time"
   ]
  },
  {
   "cell_type": "code",
   "execution_count": 6,
   "id": "371dc748",
   "metadata": {},
   "outputs": [],
   "source": [
    "import pickle"
   ]
  },
  {
   "cell_type": "code",
   "execution_count": 7,
   "id": "2b986552",
   "metadata": {},
   "outputs": [],
   "source": [
    "import joblib\n"
   ]
  },
  {
   "cell_type": "code",
   "execution_count": 8,
   "id": "939a9688",
   "metadata": {},
   "outputs": [],
   "source": [
    "import os\n"
   ]
  },
  {
   "cell_type": "markdown",
   "id": "4ac6f0f8",
   "metadata": {},
   "source": [
    "## Linear SVC on Gray Data + HOG + SumXY"
   ]
  },
  {
   "cell_type": "markdown",
   "id": "a31a6cd6",
   "metadata": {},
   "source": [
    "**Load train data**"
   ]
  },
  {
   "cell_type": "code",
   "execution_count": 12,
   "id": "99d37b70",
   "metadata": {},
   "outputs": [],
   "source": [
    "train_df = pd.read_csv('gray_small_train_set.csv')\n",
    "\n"
   ]
  },
  {
   "cell_type": "code",
   "execution_count": 13,
   "id": "60867a57",
   "metadata": {},
   "outputs": [],
   "source": [
    "train_hog_df = pd.read_csv('hog_fd_train.csv')"
   ]
  },
  {
   "cell_type": "code",
   "execution_count": 14,
   "id": "9f2c41c9",
   "metadata": {},
   "outputs": [],
   "source": [
    "sumy_df =  pd.read_csv('histy_train.csv')"
   ]
  },
  {
   "cell_type": "code",
   "execution_count": 15,
   "id": "4198b7c9",
   "metadata": {},
   "outputs": [],
   "source": [
    "sumx_df =  pd.read_csv('histx_train.csv')"
   ]
  },
  {
   "cell_type": "code",
   "execution_count": 16,
   "id": "560ecb83",
   "metadata": {},
   "outputs": [
    {
     "data": {
      "text/plain": [
       "((3377, 1201), (3377, 1729), (3377, 41), (3377, 31))"
      ]
     },
     "execution_count": 16,
     "metadata": {},
     "output_type": "execute_result"
    }
   ],
   "source": [
    "train_df.shape, train_hog_df.shape, sumy_df.shape, sumx_df.shape\n",
    "\n"
   ]
  },
  {
   "cell_type": "code",
   "execution_count": 17,
   "id": "fa13cef3",
   "metadata": {},
   "outputs": [
    {
     "data": {
      "text/plain": [
       "(3377, 1201)"
      ]
     },
     "execution_count": 17,
     "metadata": {},
     "output_type": "execute_result"
    }
   ],
   "source": [
    "train_df.shape"
   ]
  },
  {
   "cell_type": "markdown",
   "id": "01414327",
   "metadata": {},
   "source": [
    "**Create train data for fitting LinearSVC**"
   ]
  },
  {
   "cell_type": "code",
   "execution_count": 18,
   "id": "a1c793e3",
   "metadata": {},
   "outputs": [],
   "source": [
    "train_data = pd.concat([train_df, train_hog_df.iloc[:,1:], sumy_df.iloc[:,1:], sumx_df.iloc[:,1:]], axis=1)"
   ]
  },
  {
   "cell_type": "code",
   "execution_count": 19,
   "id": "f2ba67ed",
   "metadata": {},
   "outputs": [
    {
     "data": {
      "text/html": [
       "<div>\n",
       "<style scoped>\n",
       "    .dataframe tbody tr th:only-of-type {\n",
       "        vertical-align: middle;\n",
       "    }\n",
       "\n",
       "    .dataframe tbody tr th {\n",
       "        vertical-align: top;\n",
       "    }\n",
       "\n",
       "    .dataframe thead th {\n",
       "        text-align: right;\n",
       "    }\n",
       "</style>\n",
       "<table border=\"1\" class=\"dataframe\">\n",
       "  <thead>\n",
       "    <tr style=\"text-align: right;\">\n",
       "      <th></th>\n",
       "      <th>label</th>\n",
       "      <th>pixel0</th>\n",
       "      <th>pixel1</th>\n",
       "      <th>pixel2</th>\n",
       "      <th>pixel3</th>\n",
       "      <th>pixel4</th>\n",
       "      <th>pixel5</th>\n",
       "      <th>pixel6</th>\n",
       "      <th>pixel7</th>\n",
       "      <th>pixel8</th>\n",
       "      <th>...</th>\n",
       "      <th>sum_x_20</th>\n",
       "      <th>sum_x_21</th>\n",
       "      <th>sum_x_22</th>\n",
       "      <th>sum_x_23</th>\n",
       "      <th>sum_x_24</th>\n",
       "      <th>sum_x_25</th>\n",
       "      <th>sum_x_26</th>\n",
       "      <th>sum_x_27</th>\n",
       "      <th>sum_x_28</th>\n",
       "      <th>sum_x_29</th>\n",
       "    </tr>\n",
       "  </thead>\n",
       "  <tbody>\n",
       "    <tr>\n",
       "      <th>0</th>\n",
       "      <td>0</td>\n",
       "      <td>255</td>\n",
       "      <td>255</td>\n",
       "      <td>255</td>\n",
       "      <td>255</td>\n",
       "      <td>254</td>\n",
       "      <td>241</td>\n",
       "      <td>236</td>\n",
       "      <td>234</td>\n",
       "      <td>220</td>\n",
       "      <td>...</td>\n",
       "      <td>2750</td>\n",
       "      <td>7250</td>\n",
       "      <td>10000</td>\n",
       "      <td>10000</td>\n",
       "      <td>10000</td>\n",
       "      <td>10000</td>\n",
       "      <td>10000</td>\n",
       "      <td>10000</td>\n",
       "      <td>10000</td>\n",
       "      <td>10000</td>\n",
       "    </tr>\n",
       "    <tr>\n",
       "      <th>1</th>\n",
       "      <td>2</td>\n",
       "      <td>255</td>\n",
       "      <td>255</td>\n",
       "      <td>255</td>\n",
       "      <td>255</td>\n",
       "      <td>255</td>\n",
       "      <td>255</td>\n",
       "      <td>255</td>\n",
       "      <td>255</td>\n",
       "      <td>255</td>\n",
       "      <td>...</td>\n",
       "      <td>6750</td>\n",
       "      <td>9250</td>\n",
       "      <td>10000</td>\n",
       "      <td>10000</td>\n",
       "      <td>10000</td>\n",
       "      <td>10000</td>\n",
       "      <td>10000</td>\n",
       "      <td>10000</td>\n",
       "      <td>10000</td>\n",
       "      <td>10000</td>\n",
       "    </tr>\n",
       "    <tr>\n",
       "      <th>2</th>\n",
       "      <td>2</td>\n",
       "      <td>255</td>\n",
       "      <td>255</td>\n",
       "      <td>255</td>\n",
       "      <td>255</td>\n",
       "      <td>255</td>\n",
       "      <td>255</td>\n",
       "      <td>255</td>\n",
       "      <td>255</td>\n",
       "      <td>255</td>\n",
       "      <td>...</td>\n",
       "      <td>8000</td>\n",
       "      <td>8500</td>\n",
       "      <td>10000</td>\n",
       "      <td>10000</td>\n",
       "      <td>10000</td>\n",
       "      <td>10000</td>\n",
       "      <td>10000</td>\n",
       "      <td>10000</td>\n",
       "      <td>10000</td>\n",
       "      <td>10000</td>\n",
       "    </tr>\n",
       "  </tbody>\n",
       "</table>\n",
       "<p>3 rows × 2999 columns</p>\n",
       "</div>"
      ],
      "text/plain": [
       "   label  pixel0  pixel1  pixel2  pixel3  pixel4  pixel5  pixel6  pixel7  \\\n",
       "0      0     255     255     255     255     254     241     236     234   \n",
       "1      2     255     255     255     255     255     255     255     255   \n",
       "2      2     255     255     255     255     255     255     255     255   \n",
       "\n",
       "   pixel8  ...  sum_x_20  sum_x_21  sum_x_22  sum_x_23  sum_x_24  sum_x_25  \\\n",
       "0     220  ...      2750      7250     10000     10000     10000     10000   \n",
       "1     255  ...      6750      9250     10000     10000     10000     10000   \n",
       "2     255  ...      8000      8500     10000     10000     10000     10000   \n",
       "\n",
       "   sum_x_26  sum_x_27  sum_x_28  sum_x_29  \n",
       "0     10000     10000     10000     10000  \n",
       "1     10000     10000     10000     10000  \n",
       "2     10000     10000     10000     10000  \n",
       "\n",
       "[3 rows x 2999 columns]"
      ]
     },
     "execution_count": 19,
     "metadata": {},
     "output_type": "execute_result"
    }
   ],
   "source": [
    "train_data.head(3)"
   ]
  },
  {
   "cell_type": "code",
   "execution_count": 20,
   "id": "51775004",
   "metadata": {},
   "outputs": [
    {
     "data": {
      "text/plain": [
       "(3377, 2999)"
      ]
     },
     "execution_count": 20,
     "metadata": {},
     "output_type": "execute_result"
    }
   ],
   "source": [
    "train_data.shape"
   ]
  },
  {
   "cell_type": "code",
   "execution_count": 21,
   "id": "e3325be3",
   "metadata": {},
   "outputs": [],
   "source": [
    "x_train = train_data.iloc[:, 1:].values.astype(np.float32)\n",
    "y_train =train_data['label'].values"
   ]
  },
  {
   "cell_type": "code",
   "execution_count": 22,
   "id": "ae09d9ff",
   "metadata": {},
   "outputs": [
    {
     "data": {
      "text/plain": [
       "((3377, 2998), (3377, 2999))"
      ]
     },
     "execution_count": 22,
     "metadata": {},
     "output_type": "execute_result"
    }
   ],
   "source": [
    "x_train.shape, train_data.shape"
   ]
  },
  {
   "cell_type": "markdown",
   "id": "fc2c1369",
   "metadata": {},
   "source": [
    "**Load test data**"
   ]
  },
  {
   "cell_type": "code",
   "execution_count": 23,
   "id": "00e430f5",
   "metadata": {},
   "outputs": [],
   "source": [
    "test_df = pd.read_csv('gray_small_test_set.csv')\n",
    "\n"
   ]
  },
  {
   "cell_type": "code",
   "execution_count": 24,
   "id": "2785fa0c",
   "metadata": {},
   "outputs": [
    {
     "data": {
      "text/plain": [
       "(965, 1201)"
      ]
     },
     "execution_count": 24,
     "metadata": {},
     "output_type": "execute_result"
    }
   ],
   "source": [
    "test_df.shape"
   ]
  },
  {
   "cell_type": "code",
   "execution_count": 25,
   "id": "e39212bc",
   "metadata": {},
   "outputs": [],
   "source": [
    "test_hog_df = pd.read_csv('hog_fd_test.csv')"
   ]
  },
  {
   "cell_type": "code",
   "execution_count": 26,
   "id": "142db6a2",
   "metadata": {},
   "outputs": [],
   "source": [
    "sumy_test_df =  pd.read_csv('histy_test.csv')"
   ]
  },
  {
   "cell_type": "code",
   "execution_count": 27,
   "id": "449b8007",
   "metadata": {},
   "outputs": [],
   "source": [
    "sumx_test_df =  pd.read_csv('histx_test.csv')"
   ]
  },
  {
   "cell_type": "markdown",
   "id": "07e19eb7",
   "metadata": {},
   "source": [
    "**creating test data**"
   ]
  },
  {
   "cell_type": "code",
   "execution_count": 28,
   "id": "97bcf16b",
   "metadata": {},
   "outputs": [],
   "source": [
    "test_data = pd.concat([test_df, test_hog_df.iloc[:,1:], sumy_test_df.iloc[:,1:], sumx_test_df.iloc[:,1:]], axis=1)\n",
    "\n"
   ]
  },
  {
   "cell_type": "code",
   "execution_count": 29,
   "id": "bdc3df6b",
   "metadata": {},
   "outputs": [
    {
     "data": {
      "text/plain": [
       "(965, 2999)"
      ]
     },
     "execution_count": 29,
     "metadata": {},
     "output_type": "execute_result"
    }
   ],
   "source": [
    " test_data.shape"
   ]
  },
  {
   "cell_type": "code",
   "execution_count": 30,
   "id": "8b2b2986",
   "metadata": {},
   "outputs": [],
   "source": [
    "x_test = test_data.iloc[:, 1:].values.astype(np.float32)\n",
    "y_test =  test_data['label'].values"
   ]
  },
  {
   "cell_type": "markdown",
   "id": "ce306100",
   "metadata": {},
   "source": [
    "**Fit the data**2:33"
   ]
  },
  {
   "cell_type": "markdown",
   "id": "6cf8652d",
   "metadata": {},
   "source": [
    "7:53, took 2 minutes"
   ]
  },
  {
   "cell_type": "code",
   "execution_count": 29,
   "id": "65f90dcf",
   "metadata": {},
   "outputs": [
    {
     "data": {
      "text/plain": [
       "((3377, 2998), (965, 2998))"
      ]
     },
     "execution_count": 29,
     "metadata": {},
     "output_type": "execute_result"
    }
   ],
   "source": [
    "x_train.shape, x_test.shape"
   ]
  },
  {
   "cell_type": "code",
   "execution_count": 49,
   "id": "beefc9f2",
   "metadata": {},
   "outputs": [
    {
     "name": "stdout",
     "output_type": "stream",
     "text": [
      "percent complete:  100 - 344.2005350589752 seconds -\n"
     ]
    }
   ],
   "source": [
    "# Classification with a linear SVM\n",
    "percent=100\n",
    "start_time = time.time()\n",
    "svc = LinearSVC(dual=False, random_state=123)\n",
    "params_grid = {\"C\": [10 ** k for k in range(-5, 4)]}\n",
    "clf = GridSearchCV(svc, params_grid)\n",
    "clf.fit(x_train, y_train)\n",
    "print('percent complete: ',percent, end =\" - %s seconds -\\n\" % \\\n",
    "              (time.time() - start_time), flush=False)\n",
    "\n"
   ]
  },
  {
   "cell_type": "markdown",
   "id": "df6b987e",
   "metadata": {},
   "source": [
    "**performance went down, from 1 minute to 5 minutes**"
   ]
  },
  {
   "cell_type": "markdown",
   "id": "1d0aa97b",
   "metadata": {},
   "source": [
    "**Accuracy Score on Test data**"
   ]
  },
  {
   "cell_type": "code",
   "execution_count": 50,
   "id": "9d522ad4",
   "metadata": {},
   "outputs": [
    {
     "name": "stdout",
     "output_type": "stream",
     "text": [
      "Accuracy on the test set with gray plus HOG, and Sum of X and Y vector data: 0.991\n"
     ]
    }
   ],
   "source": [
    "print(\"Accuracy on the test set with gray plus HOG, and Sum of X and Y vector data: {:.3f}\".format(clf.score(x_test, y_test)))"
   ]
  },
  {
   "cell_type": "code",
   "execution_count": 51,
   "id": "dd6f2a2a",
   "metadata": {},
   "outputs": [
    {
     "name": "stdout",
     "output_type": "stream",
     "text": [
      "Best parameters:  {'C': 0.001}\n"
     ]
    }
   ],
   "source": [
    "# Print the best parameters\n",
    "print(\"Best parameters: \", clf.best_params_)"
   ]
  },
  {
   "cell_type": "markdown",
   "id": "5bde0802",
   "metadata": {},
   "source": [
    "**hyperparameter search**"
   ]
  },
  {
   "cell_type": "code",
   "execution_count": 54,
   "id": "555554d5",
   "metadata": {},
   "outputs": [
    {
     "name": "stdout",
     "output_type": "stream",
     "text": [
      "percent complete:  0 - 0.0 seconds -\n",
      "\n",
      "Model parameters:  {'C': 1e-05}\n",
      "Accuracy on test data:  0.9906735751295337\n",
      "percent complete:  11.11 - 6.724075078964233 seconds -\n",
      "\n",
      "Model parameters:  {'C': 0.0001}\n",
      "Accuracy on test data:  0.9906735751295337\n",
      "percent complete:  22.22 - 15.451654434204102 seconds -\n",
      "\n",
      "Model parameters:  {'C': 0.001}\n",
      "Accuracy on test data:  0.9906735751295337\n",
      "percent complete:  33.33 - 24.91872477531433 seconds -\n",
      "\n",
      "Model parameters:  {'C': 0.01}\n",
      "Accuracy on test data:  0.9906735751295337\n",
      "percent complete:  44.44 - 34.62979984283447 seconds -\n",
      "\n",
      "Model parameters:  {'C': 0.1}\n",
      "Accuracy on test data:  0.9906735751295337\n",
      "percent complete:  55.56 - 42.88117718696594 seconds -\n",
      "\n",
      "Model parameters:  {'C': 1}\n",
      "Accuracy on test data:  0.9906735751295337\n",
      "percent complete:  66.67 - 50.30094599723816 seconds -\n",
      "\n",
      "Model parameters:  {'C': 10}\n",
      "Accuracy on test data:  0.9906735751295337\n",
      "percent complete:  77.78 - 57.47549319267273 seconds -\n",
      "\n",
      "Model parameters:  {'C': 100}\n",
      "Accuracy on test data:  0.9906735751295337\n",
      "percent complete:  88.89 - 65.27541947364807 seconds -\n",
      "\n",
      "Model parameters:  {'C': 1000}\n",
      "Accuracy on test data:  0.9906735751295337\n",
      "percent complete:  100.0 - 74.29915046691895 seconds -\n",
      "percent complete:  100.0 - 74.31477332115173 seconds -\n",
      "           Model  Accuracy\n",
      "0   {'C': 1e-05}  0.990674\n",
      "1  {'C': 0.0001}  0.990674\n",
      "2   {'C': 0.001}  0.990674\n",
      "3    {'C': 0.01}  0.990674\n",
      "4     {'C': 0.1}  0.990674\n",
      "5       {'C': 1}  0.990674\n",
      "6      {'C': 10}  0.990674\n",
      "7     {'C': 100}  0.990674\n",
      "8    {'C': 1000}  0.990674\n"
     ]
    }
   ],
   "source": [
    "# Test each model\n",
    "percent=0\n",
    "start_time = time.time()\n",
    "print('percent complete: ',percent, end =\" - %s seconds -\\n\" % \\\n",
    "              (time.time() - start_time), flush=False)\n",
    "accuracy_results = []\n",
    "for i in range(len(clf.cv_results_['params'])):\n",
    "    print(\"\\nModel parameters: \", clf.cv_results_['params'][i])\n",
    "    \n",
    "    model = clf.estimator.set_params(**clf.cv_results_['params'][i])\n",
    "    model.fit(x_train, y_train)\n",
    "    \n",
    "    # Predict on validation data\n",
    "    y_pred = model.predict(x_test)\n",
    "    \n",
    "    # Calculate accuracy\n",
    "    accuracy = accuracy_score(y_test, y_pred)\n",
    "    print(\"Accuracy on test data: \", accuracy)\n",
    "    \n",
    "    # Append the accuracy to the results list\n",
    "    accuracy_results.append((clf.cv_results_['params'][i], accuracy))\n",
    "    \n",
    "    # Save the model\n",
    "    dump(model, f'linear_svc_gshh_C_{clf.cv_results_[\"params\"][i][\"C\"]}.joblib') \n",
    "    percent = round(((i+1)/len(clf.cv_results_['params']))*100,2)\n",
    "    print('percent complete: ',percent, end =\" - %s seconds -\\n\" % \\\n",
    "              (time.time() - start_time), flush=True)\n",
    "    \n",
    "print('percent complete: ',percent, end =\" - %s seconds -\\n\" % \\\n",
    "              (time.time() - start_time), flush=False)\n",
    "\n",
    "# Convert the results to a DataFrame for pretty printing\n",
    "df = pd.DataFrame(accuracy_results, columns=['Model', 'Accuracy'])\n",
    "print(df) "
   ]
  },
  {
   "cell_type": "markdown",
   "id": "294dcfbb",
   "metadata": {},
   "source": [
    "**For later use**"
   ]
  },
  {
   "cell_type": "code",
   "execution_count": 55,
   "id": "4820cd98",
   "metadata": {},
   "outputs": [],
   "source": [
    "\n",
    "\n",
    "# Save to file\n",
    "with open('linear_svc_gray_small_histxy.pkl', 'wb') as f:\n",
    "    pickle.dump(clf, f)\n"
   ]
  },
  {
   "cell_type": "code",
   "execution_count": 56,
   "id": "653a96c7",
   "metadata": {},
   "outputs": [],
   "source": [
    "# Load from file\n",
    "with open('linear_svc_gray_small_histxy.pkl', 'rb') as f:\n",
    "    clf_graw_loaded = pickle.load(f)"
   ]
  },
  {
   "cell_type": "markdown",
   "id": "19faf6f0",
   "metadata": {},
   "source": [
    "### Check accuracy per category \n",
    "Use test set"
   ]
  },
  {
   "cell_type": "markdown",
   "id": "15420138",
   "metadata": {},
   "source": [
    "label_key = {\n",
    "    \"Pants\": 0, \n",
    "    \"Tshirts\":1,\n",
    "    \"Watches\":2, \n",
    "    \"Casual Shoes\":3 \n",
    " \n",
    "}"
   ]
  },
  {
   "cell_type": "markdown",
   "id": "4117bbbd",
   "metadata": {},
   "source": [
    "**want subset of of x_test and y_test where y_test = {Pants, Tshrts, Watches, Casual Shoes}**\n",
    "**get index**\n",
    "recall 0 is float int64"
   ]
  },
  {
   "cell_type": "code",
   "execution_count": 66,
   "id": "ff6f27fb",
   "metadata": {},
   "outputs": [],
   "source": [
    "decipher_key = {\n",
    "    0:\"Pants\",\n",
    "    1:\"Tshirts\",\n",
    "    2:\"Watches\",\n",
    "    3:\"Casual Shoes\"\n",
    " \n",
    "}"
   ]
  },
  {
   "cell_type": "code",
   "execution_count": 36,
   "id": "5ffc5e1a",
   "metadata": {},
   "outputs": [
    {
     "data": {
      "text/plain": [
       "((239,), array([0, 0, 0], dtype=int64))"
      ]
     },
     "execution_count": 36,
     "metadata": {},
     "output_type": "execute_result"
    }
   ],
   "source": [
    "x_tlist =[]\n",
    "y_tlist = []\n",
    "tlabel =[]\n",
    "for i in range(4):\n",
    "    indices = np.where(y_test == i)[0]\n",
    "    y_tlist.append(y_test[indices])\n",
    "    x_tlist.append(x_test[indices])\n",
    "    tlabel.append(decipher_key[i])\n",
    "    \n",
    "y_tlist[0].shape, y_tlist[0][0:3]\n",
    "    "
   ]
  },
  {
   "cell_type": "code",
   "execution_count": 37,
   "id": "7b7e6408",
   "metadata": {},
   "outputs": [
    {
     "name": "stdout",
     "output_type": "stream",
     "text": [
      "Accuracy on the Pants  test set with grayscale image: 0.987\n",
      "Accuracy on the Tshirts  test set with grayscale image: 0.991\n",
      "Accuracy on the Watches  test set with grayscale image: 0.988\n",
      "Accuracy on the Casual Shoes  test set with grayscale image: 0.996\n"
     ]
    }
   ],
   "source": [
    "for i in range(4):\n",
    "    print(\"Accuracy on the\",tlabel[i],\" test set with grayscale image: {:.3f}\".\\\n",
    "          format(clf_graw_loaded.score(x_tlist[i], y_tlist[i])))"
   ]
  },
  {
   "cell_type": "markdown",
   "id": "b01b3514",
   "metadata": {},
   "source": [
    "**The Tshirt accuracy improved by 0.02 points!**"
   ]
  },
  {
   "cell_type": "markdown",
   "id": "11f80320",
   "metadata": {},
   "source": [
    "**Generate Confusion Matrix For Each Result**"
   ]
  },
  {
   "cell_type": "code",
   "execution_count": 38,
   "id": "b60f7105",
   "metadata": {},
   "outputs": [],
   "source": [
    "from sklearn.metrics import confusion_matrix\n",
    "#x_tlist[i]\n",
    "#y_tlist[i]\n",
    "\n",
    "# Use the fitted model to make predictions on the same data used for fitting\n",
    "y_pred = clf_graw_loaded.predict(x_test)\n",
    "\n",
    "# Generate the confusion matrix\n",
    "cm = confusion_matrix(y_test, y_pred)\n",
    "\n",
    "#print(cm)\n"
   ]
  },
  {
   "cell_type": "code",
   "execution_count": 39,
   "id": "d3a5a63e",
   "metadata": {},
   "outputs": [
    {
     "data": {
      "image/png": "[encoded data removed]",
      "text/plain": [
       "<Figure size 720x504 with 2 Axes>"
      ]
     },
     "metadata": {
      "needs_background": "light"
     },
     "output_type": "display_data"
    }
   ],
   "source": [
    "# Create a heatmap\n",
    "# Create a list of labels\n",
    "labels = [decipher_key[i] for i in range(4)]\n",
    "plt.figure(figsize=(10,7))\n",
    "#sns.heatmap(cm, annot=True, fmt='d', cmap='Blues')\n",
    "sns.heatmap(cm, annot=True, fmt='d', cmap='Blues', xticklabels=labels, yticklabels=labels)\n",
    "\n",
    "# Add labels to the plot\n",
    "plt.xlabel('Predicted label')\n",
    "plt.ylabel('True label')\n",
    "plt.title('Confusion Matrix')\n",
    "\n",
    "# Show the plot\n",
    "plt.show()"
   ]
  },
  {
   "cell_type": "markdown",
   "id": "1a060164",
   "metadata": {},
   "source": [
    "**Including the HOG vector, allows us to reclassify an image from Watches to Tshirts (6 to 5) increasing the Tshirt TP count from 220 to 221**"
   ]
  },
  {
   "cell_type": "markdown",
   "id": "4b03b34f",
   "metadata": {},
   "source": [
    "**Pull Up Examples of False Positives (Tshirts)**"
   ]
  },
  {
   "cell_type": "code",
   "execution_count": 40,
   "id": "201795b6",
   "metadata": {},
   "outputs": [],
   "source": [
    "# Assuming y_true is your list of true labels and y_pred is your list of predicted labels\n",
    "# And X_data is your original dataset\n",
    "\n",
    "misclassified_indexes = []\n",
    "\n",
    "for i in range(len(y_test)):\n",
    "    # If true label is 'Tshirts' (which corresponds to 1)\n",
    "    # and predicted label is 'Casual Shoes' (which corresponds to 3)\n",
    "    if (y_test[i] == 1) and (y_pred[i] == 2):\n",
    "        misclassified_indexes.append(i)\n",
    "\n",
    "# Now, misclassified_indexes contains the indexes of all misclassified examples\n",
    "# You can use it to get the corresponding data from X_data\n",
    "#misclassified_data = x_test[misclassified_indexes]"
   ]
  },
  {
   "cell_type": "code",
   "execution_count": 41,
   "id": "70b0969a",
   "metadata": {},
   "outputs": [
    {
     "data": {
      "text/plain": [
       "[851]"
      ]
     },
     "execution_count": 41,
     "metadata": {},
     "output_type": "execute_result"
    }
   ],
   "source": [
    "misclassified_indexes"
   ]
  },
  {
   "cell_type": "code",
   "execution_count": 42,
   "id": "3360d7e5",
   "metadata": {},
   "outputs": [],
   "source": [
    "test_df = pd.read_csv('output_rgb_test.csv')\n",
    "\n",
    "#test_img = test_df.iloc[:, 1:].values.astype(np.float32)\n",
    "test_img = test_df.iloc[:, 1:].values.astype(np.uint8)\n",
    "\n",
    "test_label = test_df['label'].values\n",
    "\n",
    "#img_rgb = (img_rgb * 255).astype(np.uint8) before axarr.imshow(img_rgb)"
   ]
  },
  {
   "cell_type": "code",
   "execution_count": 43,
   "id": "2ec7197e",
   "metadata": {},
   "outputs": [
    {
     "data": {
      "text/plain": [
       "<matplotlib.image.AxesImage at 0xce8826f880>"
      ]
     },
     "execution_count": 43,
     "metadata": {},
     "output_type": "execute_result"
    },
    {
     "data": {
      "text/plain": [
       "<Figure size 2016x2016 with 0 Axes>"
      ]
     },
     "metadata": {},
     "output_type": "display_data"
    },
    {
     "data": {
      "image/png": "[encoded data removed]",
      "text/plain": [
       "<Figure size 720x720 with 1 Axes>"
      ]
     },
     "metadata": {
      "needs_background": "light"
     },
     "output_type": "display_data"
    }
   ],
   "source": [
    "temp =misclassified_indexes[0]\n",
    "img_rgb  = np.reshape(test_img[temp], newshape=(80,60,3))\n",
    "plt.figure(figsize = (28,28))\n",
    "f, axarr = plt.subplots(1,1, figsize=(10, 10))\n",
    "title = \"Item of Class: \\'\" +decipher_key[test_label[temp]] +\"\\' Labeled As \\'\"+decipher_key[y_pred[temp]]+\"\\'\"\n",
    "axarr.title.set_text(title)\n",
    "axarr.imshow(img_rgb)"
   ]
  },
  {
   "cell_type": "markdown",
   "id": "cf1e5161",
   "metadata": {},
   "source": [
    "**It appers the white shirt is getting this image mislabeled**"
   ]
  },
  {
   "cell_type": "markdown",
   "id": "2849b07b",
   "metadata": {},
   "source": [
    "**Pull Up Examples of False Positives (Watches as Tshirts)**"
   ]
  },
  {
   "cell_type": "code",
   "execution_count": 46,
   "id": "54a7d077",
   "metadata": {},
   "outputs": [],
   "source": [
    "# Assuming y_true is your list of true labels and y_pred is your list of predicted labels\n",
    "# And X_data is your original dataset\n",
    "\n",
    "misclassified_indexes = []\n",
    "\n",
    "for i in range(len(y_test)):\n",
    "    # If true label is 'Tshirts' (which corresponds to 1)\n",
    "    # and predicted label is 'Casual Shoes' (which corresponds to 3)\n",
    "    if (y_test[i] == 2) and (y_pred[i] == 1):\n",
    "        misclassified_indexes.append(i)\n",
    "\n",
    "# Now, misclassified_indexes contains the indexes of all misclassified examples\n",
    "# You can use it to get the corresponding data from X_data\n",
    "#misclassified_data = x_test[misclassified_indexes]"
   ]
  },
  {
   "cell_type": "code",
   "execution_count": 47,
   "id": "2aeab33e",
   "metadata": {},
   "outputs": [
    {
     "data": {
      "text/plain": [
       "<matplotlib.image.AxesImage at 0xce9afc3ee0>"
      ]
     },
     "execution_count": 47,
     "metadata": {},
     "output_type": "execute_result"
    },
    {
     "data": {
      "text/plain": [
       "<Figure size 2016x2016 with 0 Axes>"
      ]
     },
     "metadata": {},
     "output_type": "display_data"
    },
    {
     "data": {
      "image/png": "[encoded data removed]",
      "text/plain": [
       "<Figure size 720x720 with 1 Axes>"
      ]
     },
     "metadata": {
      "needs_background": "light"
     },
     "output_type": "display_data"
    }
   ],
   "source": [
    "temp =misclassified_indexes[0]\n",
    "img_rgb  = np.reshape(test_img[temp], newshape=(80,60,3))\n",
    "plt.figure(figsize = (28,28))\n",
    "f, axarr = plt.subplots(1,1, figsize=(10, 10))\n",
    "title = \"Item of Class: \\'\" +decipher_key[test_label[temp]] +\"\\' Labeled As \\'\"+decipher_key[y_pred[temp]]+\"\\'\"\n",
    "axarr.title.set_text(title)\n",
    "axarr.imshow(img_rgb)"
   ]
  },
  {
   "cell_type": "code",
   "execution_count": 48,
   "id": "fba983ce",
   "metadata": {},
   "outputs": [
    {
     "data": {
      "text/plain": [
       "<matplotlib.image.AxesImage at 0xce9cc6d2e0>"
      ]
     },
     "execution_count": 48,
     "metadata": {},
     "output_type": "execute_result"
    },
    {
     "data": {
      "text/plain": [
       "<Figure size 2016x2016 with 0 Axes>"
      ]
     },
     "metadata": {},
     "output_type": "display_data"
    },
    {
     "data": {
      "image/png": "[encoded data removed]",
      "text/plain": [
       "<Figure size 720x720 with 1 Axes>"
      ]
     },
     "metadata": {
      "needs_background": "light"
     },
     "output_type": "display_data"
    }
   ],
   "source": [
    "temp =misclassified_indexes[1]\n",
    "img_rgb  = np.reshape(test_img[temp], newshape=(80,60,3))\n",
    "plt.figure(figsize = (28,28))\n",
    "f, axarr = plt.subplots(1,1, figsize=(10, 10))\n",
    "title = \"Item of Class: \\'\" +decipher_key[test_label[temp]] +\"\\' Labeled As \\'\"+decipher_key[y_pred[temp]]+\"\\'\"\n",
    "axarr.title.set_text(title)\n",
    "axarr.imshow(img_rgb)"
   ]
  },
  {
   "cell_type": "code",
   "execution_count": null,
   "id": "9c2a6e02",
   "metadata": {},
   "outputs": [],
   "source": [
    "temp =misclassified_indexes[2]\n",
    "img_rgb  = np.reshape(test_img[temp], newshape=(80,60,3))\n",
    "plt.figure(figsize = (28,28))\n",
    "f, axarr = plt.subplots(1,1, figsize=(10, 10))\n",
    "title = \"Item of Class: \\'\" +decipher_key[test_label[temp]] +\"\\' Labeled As \\'\"+decipher_key[y_pred[temp]]+\"\\'\"\n",
    "axarr.title.set_text(title)\n",
    "axarr.imshow(img_rgb)"
   ]
  },
  {
   "cell_type": "markdown",
   "id": "4aa96d81",
   "metadata": {},
   "source": [
    "**The above example shows that in the training data some of our Tshirt images are labeled as Watches.**"
   ]
  },
  {
   "cell_type": "markdown",
   "id": "edc95dbd",
   "metadata": {},
   "source": [
    "## Running Validation Data"
   ]
  },
  {
   "cell_type": "markdown",
   "id": "eb51cc7d",
   "metadata": {},
   "source": [
    "**Load val data and form validation vectors**"
   ]
  },
  {
   "cell_type": "code",
   "execution_count": 13,
   "id": "ad2af2b1",
   "metadata": {},
   "outputs": [],
   "source": [
    "# Load from file\n",
    "with open('linear_svc_gray_small_histxy.pkl', 'rb') as f:\n",
    "    clf_graw_loaded = pickle.load(f)"
   ]
  },
  {
   "cell_type": "code",
   "execution_count": 10,
   "id": "b1771cfe",
   "metadata": {},
   "outputs": [],
   "source": [
    "sumy_df =  pd.read_csv('histy_val.csv')\n",
    "sumx_df =  pd.read_csv('histx_val.csv')\n",
    "val_df = pd.read_csv('gray_small_val_set.csv')\n",
    "val_hog_df = pd.read_csv('hog_fd_val.csv')\n",
    "\n",
    "\n",
    "\n",
    "\n",
    "val_data = pd.concat([val_df, val_hog_df.iloc[:,1:], sumy_df.iloc[:,1:], sumx_df.iloc[:,1:]], axis=1)\n",
    "\n",
    "x_val = val_data.iloc[:, 1:].values.astype(np.float32)\n",
    "y_val =val_data['label'].values\n",
    "\n",
    "\n",
    "\n",
    "# Load from file\n",
    "with open('linear_svc_gray_small_histxy.pkl', 'rb') as f:\n",
    "    clf_graw_loaded = pickle.load(f)"
   ]
  },
  {
   "cell_type": "code",
   "execution_count": 11,
   "id": "d364fac8",
   "metadata": {},
   "outputs": [
    {
     "data": {
      "text/plain": [
       "((483, 1201),\n",
       " (483, 1729),\n",
       " (483, 41),\n",
       " (483, 31),\n",
       " (483, 2999),\n",
       " (483, 2998),\n",
       " (483,))"
      ]
     },
     "execution_count": 11,
     "metadata": {},
     "output_type": "execute_result"
    }
   ],
   "source": [
    "val_df.shape, val_hog_df.shape, sumy_df.shape, sumx_df.shape, val_data.shape, x_val.shape, y_val.shape"
   ]
  },
  {
   "cell_type": "code",
   "execution_count": 14,
   "id": "92e9d60b",
   "metadata": {},
   "outputs": [
    {
     "name": "stdout",
     "output_type": "stream",
     "text": [
      "Accuracy on the val set with gray plus HOG, and Sum of X and Y vector data: 0.992\n",
      "percent complete:  100 - 0.025018930435180664 seconds -\n"
     ]
    }
   ],
   "source": [
    "\n",
    "percent=100\n",
    "start_time = time.time()\n",
    "\n",
    "print(\"Accuracy on the val set with gray plus HOG, and Sum of X and Y vector data: {:.3f}\".format(clf_graw_loaded.score(x_val, y_val)))\n",
    "\n",
    "print('percent complete: ',percent, end =\" - %s seconds -\\n\" % \\\n",
    "              (time.time() - start_time), flush=False)\n"
   ]
  },
  {
   "cell_type": "code",
   "execution_count": 67,
   "id": "68006cd5",
   "metadata": {},
   "outputs": [
    {
     "data": {
      "image/png": "[encoded data removed]",
      "text/plain": [
       "<Figure size 720x504 with 2 Axes>"
      ]
     },
     "metadata": {
      "needs_background": "light"
     },
     "output_type": "display_data"
    }
   ],
   "source": [
    "from sklearn.metrics import confusion_matrix\n",
    "#x_tlist[i]\n",
    "#y_tlist[i]\n",
    "\n",
    "# Use the fitted model to make predictions on the same data used for fitting\n",
    "y_pred = clf_graw_loaded.predict(x_val)\n",
    "\n",
    "# Generate the confusion matrix\n",
    "cm = confusion_matrix(y_val, y_pred)\n",
    "\n",
    "#print(cm)\n",
    "\n",
    "\n",
    "# Create a heatmap\n",
    "# Create a list of labels\n",
    "labels = [decipher_key[i] for i in range(4)]\n",
    "plt.figure(figsize=(10,7))\n",
    "#sns.heatmap(cm, annot=True, fmt='d', cmap='Blues')\n",
    "sns.heatmap(cm, annot=True, fmt='d', cmap='Blues', xticklabels=labels, yticklabels=labels)\n",
    "\n",
    "# Add labels to the plot\n",
    "plt.xlabel('Predicted label')\n",
    "plt.ylabel('True label')\n",
    "plt.title('Confusion Matrix')\n",
    "\n",
    "# Show the plot\n",
    "plt.show()"
   ]
  },
  {
   "cell_type": "code",
   "execution_count": 68,
   "id": "77141297",
   "metadata": {},
   "outputs": [
    {
     "data": {
      "text/plain": [
       "[20, 37, 51, 324]"
      ]
     },
     "execution_count": 68,
     "metadata": {},
     "output_type": "execute_result"
    }
   ],
   "source": [
    "\n",
    "# Assuming y_true is your list of true labels and y_pred is your list of predicted labels\n",
    "# And X_data is your original dataset\n",
    "\n",
    "misclassified_indexes = []\n",
    "\n",
    "for i in range(len(y_val)):\n",
    "\n",
    "    if (y_val[i] != y_pred[i]):\n",
    "        misclassified_indexes.append(i)\n",
    "\n",
    "# misclassified_indexes contains the indexes of all misclassified examples\n",
    "# You can use it to get the corresponding data from X_data\n",
    "#misclassified_data = x_test[misclassified_indexes]\n",
    "\n",
    "\n",
    "misclassified_indexes"
   ]
  },
  {
   "cell_type": "code",
   "execution_count": 69,
   "id": "b89f9d53",
   "metadata": {},
   "outputs": [],
   "source": [
    "val_df = pd.read_csv('output_rgb_val.csv')\n",
    "\n",
    "#val_img = val_df.iloc[:, 1:].values.astype(np.float32)\n",
    "val_img = val_df.iloc[:, 1:].values.astype(np.uint8)\n",
    "\n",
    "val_label = val_df['label'].values"
   ]
  },
  {
   "cell_type": "code",
   "execution_count": 70,
   "id": "0ac78289",
   "metadata": {},
   "outputs": [
    {
     "data": {
      "text/plain": [
       "<matplotlib.image.AxesImage at 0x3fa9777b20>"
      ]
     },
     "execution_count": 70,
     "metadata": {},
     "output_type": "execute_result"
    },
    {
     "data": {
      "text/plain": [
       "<Figure size 2016x2016 with 0 Axes>"
      ]
     },
     "metadata": {},
     "output_type": "display_data"
    },
    {
     "data": {
      "image/png": "[encoded data removed]",
      "text/plain": [
       "<Figure size 720x720 with 4 Axes>"
      ]
     },
     "metadata": {
      "needs_background": "light"
     },
     "output_type": "display_data"
    },
    {
     "data": {
      "text/plain": [
       "<Figure size 2016x2016 with 0 Axes>"
      ]
     },
     "metadata": {},
     "output_type": "display_data"
    },
    {
     "data": {
      "text/plain": [
       "<Figure size 2016x2016 with 0 Axes>"
      ]
     },
     "metadata": {},
     "output_type": "display_data"
    },
    {
     "data": {
      "text/plain": [
       "<Figure size 2016x2016 with 0 Axes>"
      ]
     },
     "metadata": {},
     "output_type": "display_data"
    }
   ],
   "source": [
    "temp = misclassified_indexes\n",
    "\n",
    "img1  = np.reshape(val_img[temp[0]], newshape=(80,60,3))\n",
    "plt.figure(figsize = (28,28))\n",
    "f, axarr = plt.subplots(2,2, figsize=(10, 10))\n",
    "title = \"Item of Class: \\'\" + decipher_key[val_label[temp[0]]] +\"\\' Labeled As \\'\"+ decipher_key[y_pred[temp[0]]]+\"\\'\"\n",
    "axarr[0, 0].set_title(title)\n",
    "axarr[0, 0].imshow(img1)\n",
    "\n",
    "\n",
    "img2  = np.reshape(val_img[temp[1]], newshape=(80,60,3))\n",
    "plt.figure(figsize = (28,28))\n",
    "title = \"Item of Class: \\'\" + decipher_key[val_label[temp[1]]] +\"\\' Labeled As \\'\"+ decipher_key[y_pred[temp[1]]]+\"\\'\"\n",
    "axarr[0, 1].set_title(title)\n",
    "axarr[0, 1].imshow(img2)\n",
    "\n",
    "img3  = np.reshape(val_img[temp[2]], newshape=(80,60,3))\n",
    "plt.figure(figsize = (28,28))\n",
    "title = \"Item of Class: \\'\" + decipher_key[val_label[temp[2]]] +\"\\' Labeled As \\'\"+ decipher_key[y_pred[temp[2]]]+\"\\'\"\n",
    "axarr[1, 0].set_title(title)\n",
    "axarr[1, 0].imshow(img3)\n",
    "\n",
    "img4  = np.reshape(val_img[temp[3]], newshape=(80,60,3))\n",
    "plt.figure(figsize = (28,28))\n",
    "title = \"Item of Class: \\'\" + decipher_key[val_label[temp[3]]] +\"\\' Labeled As \\'\"+ decipher_key[y_pred[temp[3]]]+\"\\'\"\n",
    "axarr[1, 1].set_title(title)\n",
    "axarr[1, 1].imshow(img4)"
   ]
  },
  {
   "cell_type": "markdown",
   "id": "ec145946",
   "metadata": {},
   "source": [
    "## Hyperparameter Cross Validation "
   ]
  },
  {
   "cell_type": "code",
   "execution_count": 71,
   "id": "a5c7e1f8",
   "metadata": {},
   "outputs": [
    {
     "name": "stdout",
     "output_type": "stream",
     "text": [
      "                             Model  Accuracy\n",
      "0  linear_svc_gshh_C_0.0001.joblib  0.991718\n",
      "1   linear_svc_gshh_C_0.001.joblib  0.991718\n",
      "2    linear_svc_gshh_C_0.01.joblib  0.989648\n",
      "3     linear_svc_gshh_C_0.1.joblib  0.991718\n",
      "4       linear_svc_gshh_C_1.joblib  0.991718\n",
      "5      linear_svc_gshh_C_10.joblib  0.991718\n",
      "6     linear_svc_gshh_C_100.joblib  0.991718\n",
      "7    linear_svc_gshh_C_1000.joblib  0.991718\n",
      "8   linear_svc_gshh_C_1e-05.joblib  0.991718\n"
     ]
    }
   ],
   "source": [
    "# Get a list of all saved model files\n",
    "model_files = [f for f in os.listdir() if f.startswith('linear_svc_gshh') and f.endswith('.joblib')]\n",
    "\n",
    "# Initialize a list to store accuracy results\n",
    "accuracy_results = []\n",
    "\n",
    "# Loop over each file\n",
    "for model_file in model_files:\n",
    "    # Load the model from the file\n",
    "    model = load(model_file)\n",
    "    \n",
    "    # Make predictions on the validation data\n",
    "    y_pred = model.predict(x_val)\n",
    "    \n",
    "    # Calculate the accuracy\n",
    "    accuracy = accuracy_score(y_val, y_pred)\n",
    "    \n",
    "    # Append the accuracy to the results list\n",
    "    accuracy_results.append((model_file, accuracy))\n",
    "\n",
    "# Convert the results to a DataFrame for pretty printing\n",
    "df = pd.DataFrame(accuracy_results, columns=['Model', 'Accuracy'])\n",
    "\n",
    "print(df)"
   ]
  },
  {
   "cell_type": "code",
   "execution_count": null,
   "id": "a8d88932",
   "metadata": {},
   "outputs": [],
   "source": []
  }
 ],
 "metadata": {
  "kernelspec": {
   "display_name": "Python 3 (ipykernel)",
   "language": "python",
   "name": "python3"
  },
  "language_info": {
   "codemirror_mode": {
    "name": "ipython",
    "version": 3
   },
   "file_extension": ".py",
   "mimetype": "text/x-python",
   "name": "python",
   "nbconvert_exporter": "python",
   "pygments_lexer": "ipython3",
   "version": "3.9.12"
  }
 },
 "nbformat": 4,
 "nbformat_minor": 5
}
