{
 "cells": [
  {
   "cell_type": "markdown",
   "id": "b7bd7c45",
   "metadata": {},
   "source": [
    "## UMAP Non-Linear Dimensionality Reduction"
   ]
  },
  {
   "cell_type": "markdown",
   "id": "6a8daedf",
   "metadata": {},
   "source": [
    "**We explore using images in grayscale data and a reduction of image size from wxh = 80x60 to 40x30 (50%). As it reduces the vector size from 14,000 to 1200. We will explore if we are able to map the data into clusters, ignoring the RGB color information. We would also get a glimpse if UMAP is using the color data heavily for its mapping**"
   ]
  },
  {
   "cell_type": "code",
   "execution_count": 1,
   "id": "9d267b49",
   "metadata": {},
   "outputs": [
    {
     "name": "stdout",
     "output_type": "stream",
     "text": [
      "3.9.12\n"
     ]
    }
   ],
   "source": [
    "from platform import python_version\n",
    "\n",
    "print(python_version())"
   ]
  },
  {
   "cell_type": "code",
   "execution_count": 2,
   "id": "fbe2d04a",
   "metadata": {
    "scrolled": false
   },
   "outputs": [],
   "source": [
    "#import umap\n",
    "import umap.umap_ as umap\n"
   ]
  },
  {
   "cell_type": "code",
   "execution_count": 3,
   "id": "8c4b4c42",
   "metadata": {},
   "outputs": [],
   "source": [
    "import numpy as np\n",
    "import pandas as pd\n",
    "import datashader as ds\n",
    "import datashader.utils as utils\n",
    "import datashader.transfer_functions as tf\n",
    "import matplotlib.pyplot as plt\n",
    "import seaborn as sns"
   ]
  },
  {
   "cell_type": "markdown",
   "id": "0a1aeec9",
   "metadata": {},
   "source": [
    "**The CSV file train_gray_small.csv' was later superseded by 'gray_small_train_set.csv' because I change its filename**"
   ]
  },
  {
   "cell_type": "code",
   "execution_count": 17,
   "id": "19d963ec",
   "metadata": {},
   "outputs": [],
   "source": [
    "#this is the grayscale\n",
    "source_df = pd.read_csv('train_gray_small.csv')"
   ]
  },
  {
   "cell_type": "code",
   "execution_count": 18,
   "id": "3518799e",
   "metadata": {},
   "outputs": [
    {
     "data": {
      "text/plain": [
       "1201"
      ]
     },
     "execution_count": 18,
     "metadata": {},
     "output_type": "execute_result"
    }
   ],
   "source": [
    "source_df.shape[1]"
   ]
  },
  {
   "cell_type": "code",
   "execution_count": 19,
   "id": "f08ea7d9",
   "metadata": {},
   "outputs": [
    {
     "data": {
      "text/html": [
       "<div>\n",
       "<style scoped>\n",
       "    .dataframe tbody tr th:only-of-type {\n",
       "        vertical-align: middle;\n",
       "    }\n",
       "\n",
       "    .dataframe tbody tr th {\n",
       "        vertical-align: top;\n",
       "    }\n",
       "\n",
       "    .dataframe thead th {\n",
       "        text-align: right;\n",
       "    }\n",
       "</style>\n",
       "<table border=\"1\" class=\"dataframe\">\n",
       "  <thead>\n",
       "    <tr style=\"text-align: right;\">\n",
       "      <th></th>\n",
       "      <th>label</th>\n",
       "      <th>pixel0</th>\n",
       "      <th>pixel1</th>\n",
       "      <th>pixel2</th>\n",
       "      <th>pixel3</th>\n",
       "      <th>pixel4</th>\n",
       "      <th>pixel5</th>\n",
       "      <th>pixel6</th>\n",
       "      <th>pixel7</th>\n",
       "      <th>pixel8</th>\n",
       "      <th>...</th>\n",
       "      <th>pixel1190</th>\n",
       "      <th>pixel1191</th>\n",
       "      <th>pixel1192</th>\n",
       "      <th>pixel1193</th>\n",
       "      <th>pixel1194</th>\n",
       "      <th>pixel1195</th>\n",
       "      <th>pixel1196</th>\n",
       "      <th>pixel1197</th>\n",
       "      <th>pixel1198</th>\n",
       "      <th>pixel1199</th>\n",
       "    </tr>\n",
       "  </thead>\n",
       "  <tbody>\n",
       "    <tr>\n",
       "      <th>0</th>\n",
       "      <td>1</td>\n",
       "      <td>255</td>\n",
       "      <td>255</td>\n",
       "      <td>255</td>\n",
       "      <td>255</td>\n",
       "      <td>255</td>\n",
       "      <td>255</td>\n",
       "      <td>255</td>\n",
       "      <td>255</td>\n",
       "      <td>255</td>\n",
       "      <td>...</td>\n",
       "      <td>254</td>\n",
       "      <td>254</td>\n",
       "      <td>254</td>\n",
       "      <td>255</td>\n",
       "      <td>255</td>\n",
       "      <td>255</td>\n",
       "      <td>255</td>\n",
       "      <td>255</td>\n",
       "      <td>255</td>\n",
       "      <td>255</td>\n",
       "    </tr>\n",
       "    <tr>\n",
       "      <th>1</th>\n",
       "      <td>0</td>\n",
       "      <td>255</td>\n",
       "      <td>255</td>\n",
       "      <td>255</td>\n",
       "      <td>255</td>\n",
       "      <td>255</td>\n",
       "      <td>255</td>\n",
       "      <td>255</td>\n",
       "      <td>255</td>\n",
       "      <td>253</td>\n",
       "      <td>...</td>\n",
       "      <td>251</td>\n",
       "      <td>252</td>\n",
       "      <td>253</td>\n",
       "      <td>254</td>\n",
       "      <td>255</td>\n",
       "      <td>255</td>\n",
       "      <td>255</td>\n",
       "      <td>255</td>\n",
       "      <td>255</td>\n",
       "      <td>255</td>\n",
       "    </tr>\n",
       "    <tr>\n",
       "      <th>2</th>\n",
       "      <td>3</td>\n",
       "      <td>255</td>\n",
       "      <td>255</td>\n",
       "      <td>255</td>\n",
       "      <td>255</td>\n",
       "      <td>255</td>\n",
       "      <td>255</td>\n",
       "      <td>255</td>\n",
       "      <td>255</td>\n",
       "      <td>255</td>\n",
       "      <td>...</td>\n",
       "      <td>255</td>\n",
       "      <td>255</td>\n",
       "      <td>255</td>\n",
       "      <td>255</td>\n",
       "      <td>255</td>\n",
       "      <td>255</td>\n",
       "      <td>255</td>\n",
       "      <td>255</td>\n",
       "      <td>255</td>\n",
       "      <td>255</td>\n",
       "    </tr>\n",
       "    <tr>\n",
       "      <th>3</th>\n",
       "      <td>0</td>\n",
       "      <td>255</td>\n",
       "      <td>255</td>\n",
       "      <td>255</td>\n",
       "      <td>255</td>\n",
       "      <td>212</td>\n",
       "      <td>154</td>\n",
       "      <td>149</td>\n",
       "      <td>132</td>\n",
       "      <td>202</td>\n",
       "      <td>...</td>\n",
       "      <td>255</td>\n",
       "      <td>255</td>\n",
       "      <td>255</td>\n",
       "      <td>255</td>\n",
       "      <td>255</td>\n",
       "      <td>255</td>\n",
       "      <td>255</td>\n",
       "      <td>255</td>\n",
       "      <td>255</td>\n",
       "      <td>255</td>\n",
       "    </tr>\n",
       "    <tr>\n",
       "      <th>4</th>\n",
       "      <td>3</td>\n",
       "      <td>255</td>\n",
       "      <td>255</td>\n",
       "      <td>255</td>\n",
       "      <td>255</td>\n",
       "      <td>255</td>\n",
       "      <td>255</td>\n",
       "      <td>255</td>\n",
       "      <td>255</td>\n",
       "      <td>255</td>\n",
       "      <td>...</td>\n",
       "      <td>255</td>\n",
       "      <td>255</td>\n",
       "      <td>255</td>\n",
       "      <td>255</td>\n",
       "      <td>255</td>\n",
       "      <td>255</td>\n",
       "      <td>255</td>\n",
       "      <td>255</td>\n",
       "      <td>255</td>\n",
       "      <td>255</td>\n",
       "    </tr>\n",
       "  </tbody>\n",
       "</table>\n",
       "<p>5 rows × 1201 columns</p>\n",
       "</div>"
      ],
      "text/plain": [
       "   label  pixel0  pixel1  pixel2  pixel3  pixel4  pixel5  pixel6  pixel7  \\\n",
       "0      1     255     255     255     255     255     255     255     255   \n",
       "1      0     255     255     255     255     255     255     255     255   \n",
       "2      3     255     255     255     255     255     255     255     255   \n",
       "3      0     255     255     255     255     212     154     149     132   \n",
       "4      3     255     255     255     255     255     255     255     255   \n",
       "\n",
       "   pixel8  ...  pixel1190  pixel1191  pixel1192  pixel1193  pixel1194  \\\n",
       "0     255  ...        254        254        254        255        255   \n",
       "1     253  ...        251        252        253        254        255   \n",
       "2     255  ...        255        255        255        255        255   \n",
       "3     202  ...        255        255        255        255        255   \n",
       "4     255  ...        255        255        255        255        255   \n",
       "\n",
       "   pixel1195  pixel1196  pixel1197  pixel1198  pixel1199  \n",
       "0        255        255        255        255        255  \n",
       "1        255        255        255        255        255  \n",
       "2        255        255        255        255        255  \n",
       "3        255        255        255        255        255  \n",
       "4        255        255        255        255        255  \n",
       "\n",
       "[5 rows x 1201 columns]"
      ]
     },
     "execution_count": 19,
     "metadata": {},
     "output_type": "execute_result"
    }
   ],
   "source": [
    "source_df.head()"
   ]
  },
  {
   "cell_type": "code",
   "execution_count": 20,
   "id": "138298aa",
   "metadata": {},
   "outputs": [],
   "source": [
    "\n",
    "#data = source_df.iloc[:, :source_df.shape[1]].values.astype(np.float32)\n",
    "data = source_df.iloc[:, 1:].values.astype(np.float32)\n"
   ]
  },
  {
   "cell_type": "code",
   "execution_count": 21,
   "id": "7724fa99",
   "metadata": {},
   "outputs": [],
   "source": [
    "#target = source_df['class'].values\n",
    "target = source_df['label'].values"
   ]
  },
  {
   "cell_type": "markdown",
   "id": "f4cffc9f",
   "metadata": {},
   "source": [
    "**Reduced vector size**"
   ]
  },
  {
   "cell_type": "code",
   "execution_count": 22,
   "id": "5b8dbf0e",
   "metadata": {},
   "outputs": [
    {
     "data": {
      "text/plain": [
       "((3377, 1200), (3377,))"
      ]
     },
     "execution_count": 22,
     "metadata": {},
     "output_type": "execute_result"
    }
   ],
   "source": [
    "data.shape, target.shape"
   ]
  },
  {
   "cell_type": "code",
   "execution_count": 23,
   "id": "c5095a98",
   "metadata": {},
   "outputs": [],
   "source": [
    "label_key = {\n",
    "    \"Pants\": 0, \n",
    "    \"Tshirts\":1,\n",
    "    \"Watches\":2, \n",
    "    \"Casual Shoes\":3 \n",
    " \n",
    "}"
   ]
  },
  {
   "cell_type": "code",
   "execution_count": 24,
   "id": "1a71cc44",
   "metadata": {},
   "outputs": [],
   "source": [
    "color_key = {\n",
    "    \"0\": \"#FF0000\",  # Bright Red, Pants\n",
    "    \"1\": \"#00FF00\",  # Bright Green, T-shirts\n",
    "    \"2\": \"#0000FF\",  # Bright Blue, Watches\n",
    "    \"3\": \"#FFFF00\",  # Bright Yellow, Casual Shoes\n",
    "\n",
    "}"
   ]
  },
  {
   "cell_type": "markdown",
   "id": "dd8104df",
   "metadata": {},
   "source": [
    "**The mapping below is very similar to using RGB full sized images, therefore going forward we will use grayscale images. The reduce vector size allows us to run trials faster.**"
   ]
  },
  {
   "cell_type": "code",
   "execution_count": 25,
   "id": "253c67ff",
   "metadata": {},
   "outputs": [
    {
     "data": {
      "image/png": "[encoded data removed]",
      "text/plain": [
       "<Figure size 432x432 with 1 Axes>"
      ]
     },
     "metadata": {},
     "output_type": "display_data"
    }
   ],
   "source": [
    "# Initialize UMAP\n",
    "reducer = umap.UMAP(n_neighbors = 30, random_state=42)\n",
    "#reducer = umap(random_state=42)\n",
    "\n",
    "\n",
    "# Fit and transform the data\n",
    "embedding = reducer.fit_transform(data)\n",
    "\n",
    "# Prepare the data for visualization\n",
    "df = pd.DataFrame(embedding, columns=('x', 'y'))\n",
    "\n",
    "df['class'] = pd.Series([str(x) for x in target], dtype=\"category\")\n",
    "\n",
    "# Visualize the data using datashader\n",
    "\n",
    "cvs = ds.Canvas(plot_width=100, plot_height=100)\n",
    "agg = cvs.points(df, 'x', 'y', ds.count_cat('class'))\n",
    "img = tf.shade(agg, color_key=color_key, how='eq_hist')\n",
    "utils.export_image(img, filename='gray_small_30', background='white')\n",
    "\n",
    "# Display the image\n",
    "image = plt.imread('gray_small_30.png')\n",
    "fig, ax = plt.subplots(figsize=(6, 6))\n",
    "plt.imshow(image)\n",
    "plt.setp(ax, xticks=[], yticks=[])\n",
    "plt.title(\"Reduced gray image embedded into 2 dimensions by UMAP w n=30\", fontsize=12)\n",
    "plt.show()\n",
    "\n",
    "\n"
   ]
  },
  {
   "cell_type": "markdown",
   "id": "64030603",
   "metadata": {},
   "source": [
    "**Best one is n=30**"
   ]
  },
  {
   "cell_type": "markdown",
   "id": "565d2197",
   "metadata": {},
   "source": [
    "**Export Mapped Coordinates to CSV**"
   ]
  },
  {
   "cell_type": "code",
   "execution_count": 26,
   "id": "01ac5fd0",
   "metadata": {},
   "outputs": [],
   "source": [
    "# Ensure target is a 2D array with shape (3377, 1)\n",
    "target = target[:, np.newaxis]\n",
    "\n",
    "# Concatenate along the second axis\n",
    "emb_target = np.concatenate((target, embedding), axis=1)\n",
    "\n",
    "column_names = ['label','embedding x', 'embedding y']\n",
    "embedding_df = pd.DataFrame( emb_target, columns=column_names)\n",
    "embedding_df.head()\n",
    "\n",
    "embedding_df.to_csv('umap_train_gray_small.csv', index=False, header=True)  "
   ]
  },
  {
   "cell_type": "code",
   "execution_count": 27,
   "id": "2b2be032",
   "metadata": {},
   "outputs": [
    {
     "data": {
      "text/html": [
       "<div>\n",
       "<style scoped>\n",
       "    .dataframe tbody tr th:only-of-type {\n",
       "        vertical-align: middle;\n",
       "    }\n",
       "\n",
       "    .dataframe tbody tr th {\n",
       "        vertical-align: top;\n",
       "    }\n",
       "\n",
       "    .dataframe thead th {\n",
       "        text-align: right;\n",
       "    }\n",
       "</style>\n",
       "<table border=\"1\" class=\"dataframe\">\n",
       "  <thead>\n",
       "    <tr style=\"text-align: right;\">\n",
       "      <th></th>\n",
       "      <th>label</th>\n",
       "      <th>embedding x</th>\n",
       "      <th>embedding y</th>\n",
       "    </tr>\n",
       "  </thead>\n",
       "  <tbody>\n",
       "    <tr>\n",
       "      <th>0</th>\n",
       "      <td>1.0</td>\n",
       "      <td>2.110022</td>\n",
       "      <td>-7.999280</td>\n",
       "    </tr>\n",
       "    <tr>\n",
       "      <th>1</th>\n",
       "      <td>0.0</td>\n",
       "      <td>5.100040</td>\n",
       "      <td>8.833552</td>\n",
       "    </tr>\n",
       "    <tr>\n",
       "      <th>2</th>\n",
       "      <td>3.0</td>\n",
       "      <td>-6.490954</td>\n",
       "      <td>2.556388</td>\n",
       "    </tr>\n",
       "    <tr>\n",
       "      <th>3</th>\n",
       "      <td>0.0</td>\n",
       "      <td>5.625717</td>\n",
       "      <td>7.953938</td>\n",
       "    </tr>\n",
       "    <tr>\n",
       "      <th>4</th>\n",
       "      <td>3.0</td>\n",
       "      <td>-8.826978</td>\n",
       "      <td>4.846537</td>\n",
       "    </tr>\n",
       "  </tbody>\n",
       "</table>\n",
       "</div>"
      ],
      "text/plain": [
       "   label  embedding x  embedding y\n",
       "0    1.0     2.110022    -7.999280\n",
       "1    0.0     5.100040     8.833552\n",
       "2    3.0    -6.490954     2.556388\n",
       "3    0.0     5.625717     7.953938\n",
       "4    3.0    -8.826978     4.846537"
      ]
     },
     "execution_count": 27,
     "metadata": {},
     "output_type": "execute_result"
    }
   ],
   "source": [
    "embedding_df = pd.read_csv('umap_train_gray_small.csv')\n",
    "embedding_df.head()"
   ]
  },
  {
   "cell_type": "markdown",
   "id": "83bb4e09",
   "metadata": {},
   "source": [
    "**Save UMAP Embedding**"
   ]
  },
  {
   "cell_type": "markdown",
   "id": "b9289e40",
   "metadata": {},
   "source": [
    " We will need the UMAP embedding to reduce the unlabeled test data to 2 dimensions, therefore we save the UMAP Embedding."
   ]
  },
  {
   "cell_type": "code",
   "execution_count": 28,
   "id": "1a873eba",
   "metadata": {},
   "outputs": [
    {
     "data": {
      "text/plain": [
       "['umap_model_gray_small.pkl']"
      ]
     },
     "execution_count": 28,
     "metadata": {},
     "output_type": "execute_result"
    }
   ],
   "source": [
    "# Save the trained model\n",
    "import joblib\n",
    "joblib.dump(reducer, 'umap_model_gray_small.pkl')\n",
    "\n"
   ]
  }
 ],
 "metadata": {
  "kernelspec": {
   "display_name": "Python 3 (ipykernel)",
   "language": "python",
   "name": "python3"
  },
  "language_info": {
   "codemirror_mode": {
    "name": "ipython",
    "version": 3
   },
   "file_extension": ".py",
   "mimetype": "text/x-python",
   "name": "python",
   "nbconvert_exporter": "python",
   "pygments_lexer": "ipython3",
   "version": "3.9.12"
  }
 },
 "nbformat": 4,
 "nbformat_minor": 5
}
