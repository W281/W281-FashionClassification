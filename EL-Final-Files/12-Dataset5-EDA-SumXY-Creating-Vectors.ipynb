{
 "cells": [
  {
   "cell_type": "markdown",
   "id": "50a1a55e",
   "metadata": {},
   "source": [
    "### Reload Gray small Images from CSV\n",
    "#### load train set\n",
    "#### Extract sum pixels in x direction\n",
    "#### Make a generalization for each class\n",
    "#### Extract sum pixels in y direction\n",
    "#### Make a generalization for each class\n",
    "#### export vectors to CSV\n",
    "**transform train**\n",
    "**transform test**\n",
    "\n"
   ]
  },
  {
   "cell_type": "markdown",
   "id": "c5a52ea0",
   "metadata": {},
   "source": [
    "Prepare label key"
   ]
  },
  {
   "cell_type": "code",
   "execution_count": 1,
   "id": "ab178253",
   "metadata": {},
   "outputs": [],
   "source": [
    "# Load packages\n",
    "import pandas as pd\n",
    "import numpy as np\n",
    "import cv2 as cv\n",
    "from skimage.feature import hog\n",
    "import matplotlib.pyplot as plt"
   ]
  },
  {
   "cell_type": "code",
   "execution_count": 2,
   "id": "83744875",
   "metadata": {},
   "outputs": [],
   "source": [
    "import seaborn as sns"
   ]
  },
  {
   "cell_type": "code",
   "execution_count": 3,
   "id": "ed3cc5f7",
   "metadata": {},
   "outputs": [],
   "source": [
    "def column_names_for_fd(fd_list, basename):\n",
    "    '''returns a list of column names for each column for hog fd, \n",
    "    fd_list is a list of numpy arrays\n",
    "    column 0 = label, column 1 = fd_value 1'''\n",
    "    col_length = fd_list[0].shape[0] \n",
    "    column_name =[]\n",
    "    #first column name in list\n",
    "    column_name.append('label')\n",
    "    for i in range(col_length):\n",
    "        c_name = basename+str(i)\n",
    "        column_name.append(c_name)\n",
    "    return column_name"
   ]
  },
  {
   "cell_type": "code",
   "execution_count": 4,
   "id": "fe17acdb",
   "metadata": {},
   "outputs": [],
   "source": [
    "from PIL import Image\n",
    "import os\n",
    "import warnings\n",
    "import time\n",
    "\n",
    "def sum_to_csv(csv_path, column_names, fd_list, images_df):\n",
    "    '''encodes a list of label + hog fd array into rows and columns in a CSV file.\n",
    "    first column is label and the first fd value is on column 2, etc..'''\n",
    "    warnings.simplefilter(action='ignore', category=FutureWarning)\n",
    "    df = pd.DataFrame(columns=column_names)\n",
    "    start_time = time.time()\n",
    "    for i in range(len(fd_list)):\n",
    "        #row format\n",
    "        new_fd = np.reshape(fd_list[i], (1,len(fd_list[i])))\n",
    "        #get vector label\n",
    "\n",
    "       \n",
    "        # Create a DataFrame with the label and image data\n",
    "        fd_df = pd.DataFrame([np.insert(new_fd, 0, images_df.iloc[i,0])], columns=column_names)\n",
    "        #fd_df = pd.DataFrame(new_fd, columns=column_names)\n",
    "\n",
    "        df = df.append(fd_df, ignore_index=True)\n",
    "        \n",
    "\n",
    "        print('percent complete: %1.4f'%(i/(len(fd_list))), end =\" - %s secs -\\r\" % \\\n",
    "              round((time.time() - start_time),2), flush=True)\n",
    "    # Write DataFrame to CSV\n",
    "    df.to_csv(csv_path, index=False, header=True)  "
   ]
  },
  {
   "cell_type": "code",
   "execution_count": 5,
   "id": "3d026523",
   "metadata": {},
   "outputs": [],
   "source": [
    "def plot_vector(row, images_df, width, height, channels):\n",
    "    '''plots an image in vector form, with label at column 0\n",
    "    and first pixel at column 1. row is selection of row. \n",
    "    images_df is dataframe csv file was loaded to.\n",
    "    channels is 1 for grayscale, 3 for rgb'''\n",
    "    img = images_df.iloc[row,1:].values\n",
    "    img  = np.reshape(img, newshape=(height,width,channels))\n",
    "    plt.figure(figsize = (28,28))\n",
    "    f, axarr = plt.subplots(1,1, figsize=(10, 10))\n",
    "    if(channels == 1):\n",
    "        axarr.imshow(img, cmap='gray')\n",
    "    else: \n",
    "        axarr.imshow(img) \n",
    "    "
   ]
  },
  {
   "cell_type": "code",
   "execution_count": 6,
   "id": "a751ce3a",
   "metadata": {},
   "outputs": [],
   "source": [
    "label_key = {\n",
    "    \"Pants\": 0, \n",
    "    \"Tshirts\":1,\n",
    "    \"Watches\":2, \n",
    "    \"Casual Shoes\":3 \n",
    " \n",
    "}"
   ]
  },
  {
   "cell_type": "code",
   "execution_count": 7,
   "id": "79b30144",
   "metadata": {},
   "outputs": [],
   "source": [
    "decipher_key = {\n",
    "    0:\"Pants\",\n",
    "    1:\"Tshirts\",\n",
    "    2:\"Watches\",\n",
    "    3:\"Casual Shoes\"\n",
    " \n",
    "}"
   ]
  },
  {
   "cell_type": "markdown",
   "id": "dc2d07af",
   "metadata": {},
   "source": [
    "**Load previously created CSV file with gray Images**"
   ]
  },
  {
   "cell_type": "code",
   "execution_count": 8,
   "id": "d3e81237",
   "metadata": {},
   "outputs": [],
   "source": [
    "train_rgb_df = pd.read_csv('gray_small_train_set.csv')"
   ]
  },
  {
   "cell_type": "code",
   "execution_count": 9,
   "id": "913b6530",
   "metadata": {},
   "outputs": [
    {
     "data": {
      "text/html": [
       "<div>\n",
       "<style scoped>\n",
       "    .dataframe tbody tr th:only-of-type {\n",
       "        vertical-align: middle;\n",
       "    }\n",
       "\n",
       "    .dataframe tbody tr th {\n",
       "        vertical-align: top;\n",
       "    }\n",
       "\n",
       "    .dataframe thead th {\n",
       "        text-align: right;\n",
       "    }\n",
       "</style>\n",
       "<table border=\"1\" class=\"dataframe\">\n",
       "  <thead>\n",
       "    <tr style=\"text-align: right;\">\n",
       "      <th></th>\n",
       "      <th>label</th>\n",
       "      <th>pixel0</th>\n",
       "      <th>pixel1</th>\n",
       "      <th>pixel2</th>\n",
       "      <th>pixel3</th>\n",
       "      <th>pixel4</th>\n",
       "      <th>pixel5</th>\n",
       "      <th>pixel6</th>\n",
       "      <th>pixel7</th>\n",
       "      <th>pixel8</th>\n",
       "      <th>...</th>\n",
       "      <th>pixel1190</th>\n",
       "      <th>pixel1191</th>\n",
       "      <th>pixel1192</th>\n",
       "      <th>pixel1193</th>\n",
       "      <th>pixel1194</th>\n",
       "      <th>pixel1195</th>\n",
       "      <th>pixel1196</th>\n",
       "      <th>pixel1197</th>\n",
       "      <th>pixel1198</th>\n",
       "      <th>pixel1199</th>\n",
       "    </tr>\n",
       "  </thead>\n",
       "  <tbody>\n",
       "    <tr>\n",
       "      <th>0</th>\n",
       "      <td>0</td>\n",
       "      <td>255</td>\n",
       "      <td>255</td>\n",
       "      <td>255</td>\n",
       "      <td>255</td>\n",
       "      <td>254</td>\n",
       "      <td>241</td>\n",
       "      <td>236</td>\n",
       "      <td>234</td>\n",
       "      <td>220</td>\n",
       "      <td>...</td>\n",
       "      <td>253</td>\n",
       "      <td>253</td>\n",
       "      <td>254</td>\n",
       "      <td>254</td>\n",
       "      <td>255</td>\n",
       "      <td>255</td>\n",
       "      <td>255</td>\n",
       "      <td>255</td>\n",
       "      <td>255</td>\n",
       "      <td>255</td>\n",
       "    </tr>\n",
       "    <tr>\n",
       "      <th>1</th>\n",
       "      <td>2</td>\n",
       "      <td>255</td>\n",
       "      <td>255</td>\n",
       "      <td>255</td>\n",
       "      <td>255</td>\n",
       "      <td>255</td>\n",
       "      <td>255</td>\n",
       "      <td>255</td>\n",
       "      <td>255</td>\n",
       "      <td>255</td>\n",
       "      <td>...</td>\n",
       "      <td>255</td>\n",
       "      <td>255</td>\n",
       "      <td>255</td>\n",
       "      <td>255</td>\n",
       "      <td>255</td>\n",
       "      <td>255</td>\n",
       "      <td>255</td>\n",
       "      <td>255</td>\n",
       "      <td>255</td>\n",
       "      <td>255</td>\n",
       "    </tr>\n",
       "    <tr>\n",
       "      <th>2</th>\n",
       "      <td>2</td>\n",
       "      <td>255</td>\n",
       "      <td>255</td>\n",
       "      <td>255</td>\n",
       "      <td>255</td>\n",
       "      <td>255</td>\n",
       "      <td>255</td>\n",
       "      <td>255</td>\n",
       "      <td>255</td>\n",
       "      <td>255</td>\n",
       "      <td>...</td>\n",
       "      <td>255</td>\n",
       "      <td>255</td>\n",
       "      <td>255</td>\n",
       "      <td>255</td>\n",
       "      <td>255</td>\n",
       "      <td>255</td>\n",
       "      <td>255</td>\n",
       "      <td>255</td>\n",
       "      <td>255</td>\n",
       "      <td>255</td>\n",
       "    </tr>\n",
       "  </tbody>\n",
       "</table>\n",
       "<p>3 rows × 1201 columns</p>\n",
       "</div>"
      ],
      "text/plain": [
       "   label  pixel0  pixel1  pixel2  pixel3  pixel4  pixel5  pixel6  pixel7  \\\n",
       "0      0     255     255     255     255     254     241     236     234   \n",
       "1      2     255     255     255     255     255     255     255     255   \n",
       "2      2     255     255     255     255     255     255     255     255   \n",
       "\n",
       "   pixel8  ...  pixel1190  pixel1191  pixel1192  pixel1193  pixel1194  \\\n",
       "0     220  ...        253        253        254        254        255   \n",
       "1     255  ...        255        255        255        255        255   \n",
       "2     255  ...        255        255        255        255        255   \n",
       "\n",
       "   pixel1195  pixel1196  pixel1197  pixel1198  pixel1199  \n",
       "0        255        255        255        255        255  \n",
       "1        255        255        255        255        255  \n",
       "2        255        255        255        255        255  \n",
       "\n",
       "[3 rows x 1201 columns]"
      ]
     },
     "execution_count": 9,
     "metadata": {},
     "output_type": "execute_result"
    }
   ],
   "source": [
    "train_rgb_df.head(3)"
   ]
  },
  {
   "cell_type": "markdown",
   "id": "50048c8f",
   "metadata": {},
   "source": [
    "**plot a row of loaded data for sanity check**"
   ]
  },
  {
   "cell_type": "code",
   "execution_count": 10,
   "id": "40e31ed6",
   "metadata": {},
   "outputs": [
    {
     "data": {
      "text/plain": [
       "<Figure size 2016x2016 with 0 Axes>"
      ]
     },
     "metadata": {},
     "output_type": "display_data"
    },
    {
     "data": {
      "image/png": "[encoded data removed]",
      "text/plain": [
       "<Figure size 720x720 with 1 Axes>"
      ]
     },
     "metadata": {
      "needs_background": "light"
     },
     "output_type": "display_data"
    }
   ],
   "source": [
    "plot_vector(0, train_rgb_df, 30, 40, 1)"
   ]
  },
  {
   "cell_type": "code",
   "execution_count": 11,
   "id": "673b2e5d",
   "metadata": {},
   "outputs": [
    {
     "data": {
      "text/plain": [
       "<Figure size 2016x2016 with 0 Axes>"
      ]
     },
     "metadata": {},
     "output_type": "display_data"
    },
    {
     "data": {
      "image/png": "[encoded data removed]",
      "text/plain": [
       "<Figure size 720x720 with 1 Axes>"
      ]
     },
     "metadata": {
      "needs_background": "light"
     },
     "output_type": "display_data"
    }
   ],
   "source": [
    "plot_vector(1, train_rgb_df, 30, 40, 1)"
   ]
  },
  {
   "cell_type": "markdown",
   "id": "ff2ceebe",
   "metadata": {},
   "source": [
    "**Check sum across x along y for each category**"
   ]
  },
  {
   "cell_type": "code",
   "execution_count": 12,
   "id": "e8fb1aa6",
   "metadata": {},
   "outputs": [],
   "source": [
    "img = train_rgb_df.iloc[0, 1:].values.astype(np.uint8)\n",
    "img = np.reshape(img, (40,30))"
   ]
  },
  {
   "cell_type": "code",
   "execution_count": 13,
   "id": "e92b044c",
   "metadata": {},
   "outputs": [
    {
     "data": {
      "text/plain": [
       "<matplotlib.image.AxesImage at 0xbfe334cd30>"
      ]
     },
     "execution_count": 13,
     "metadata": {},
     "output_type": "execute_result"
    },
    {
     "data": {
      "text/plain": [
       "<Figure size 2016x2016 with 0 Axes>"
      ]
     },
     "metadata": {},
     "output_type": "display_data"
    },
    {
     "data": {
      "image/png": "[encoded data removed]",
      "text/plain": [
       "<Figure size 720x720 with 1 Axes>"
      ]
     },
     "metadata": {
      "needs_background": "light"
     },
     "output_type": "display_data"
    }
   ],
   "source": [
    "plt.figure(figsize = (28,28))\n",
    "f, axarr = plt.subplots(1,1, figsize=(10, 10))\n",
    "axarr.imshow(img, cmap='gray')"
   ]
  },
  {
   "cell_type": "code",
   "execution_count": 14,
   "id": "feeea5ff",
   "metadata": {},
   "outputs": [
    {
     "name": "stdout",
     "output_type": "stream",
     "text": [
      "[7213 7230 7248 7250 6870 5494 5292 5198 5061 4772 4661 4660 4665 5160\n",
      " 5281 5376 5565 5707 5810 5927 5989 6001 6059 6082 6090 6059 6028 5988\n",
      " 5954 5950 5951 5996 6125 6106 6166 6417 6440 6392 6978 7626]\n",
      "<built-in function sum>\n"
     ]
    }
   ],
   "source": [
    "# Load the grayscale image\n",
    "#img = cv.imread(img, cv.IMREAD_GRAYSCALE)\n",
    "\n",
    "# Sum the pixel values along the x-axis\n",
    "sum_pixels = np.sum(img, axis=1)\n",
    "\n",
    "print(sum_pixels)\n",
    "print(sum)"
   ]
  },
  {
   "cell_type": "code",
   "execution_count": 15,
   "id": "ebcedb42",
   "metadata": {},
   "outputs": [
    {
     "data": {
      "image/png": "[encoded data removed]",
      "text/plain": [
       "<Figure size 432x288 with 1 Axes>"
      ]
     },
     "metadata": {
      "needs_background": "light"
     },
     "output_type": "display_data"
    }
   ],
   "source": [
    "# Create a figure and a set of subplots\n",
    "fig, ax = plt.subplots()\n",
    "\n",
    "# Create a line plot\n",
    "sns.lineplot(x=np.arange(len(sum_pixels)), y=sum_pixels, ax=ax)\n",
    "\n",
    "# Set the title and labels\n",
    "ax.set_title('Sum of Pixel Intensities')\n",
    "ax.set_xlabel('Y-coordinate')\n",
    "ax.set_ylabel('Sum of pixel intensities')\n",
    "\n",
    "# Display the plot\n",
    "plt.show()"
   ]
  },
  {
   "cell_type": "markdown",
   "id": "39161949",
   "metadata": {},
   "source": [
    "**Do for all pants**"
   ]
  },
  {
   "cell_type": "code",
   "execution_count": 16,
   "id": "1b262403",
   "metadata": {},
   "outputs": [
    {
     "data": {
      "text/plain": [
       "767"
      ]
     },
     "execution_count": 16,
     "metadata": {},
     "output_type": "execute_result"
    }
   ],
   "source": [
    "label = label_key['Pants']\n",
    "r =  train_rgb_df[train_rgb_df['label']==label].shape[0]\n",
    "r"
   ]
  },
  {
   "cell_type": "code",
   "execution_count": 17,
   "id": "17ca4fcc",
   "metadata": {},
   "outputs": [],
   "source": [
    "total_pvectors = []\n",
    "img_df = train_rgb_df[train_rgb_df['label']==label]\n",
    "final_pvector = np.zeros(40,)\n",
    "for i in range(r):\n",
    "    img = img_df.iloc[i, 1:].values.astype(np.uint8)\n",
    "    img = np.reshape(img, (40,30))\n",
    "    sum_pixels = np.sum(img, axis=1)\n",
    "    total_pvectors.append(sum_pixels )\n",
    "    final_pvector = (final_pvector + sum_pixels)/2 #average\n",
    "    "
   ]
  },
  {
   "cell_type": "code",
   "execution_count": 18,
   "id": "1549a55a",
   "metadata": {},
   "outputs": [
    {
     "data": {
      "text/plain": [
       "767"
      ]
     },
     "execution_count": 18,
     "metadata": {},
     "output_type": "execute_result"
    }
   ],
   "source": [
    "len(total_pvectors)"
   ]
  },
  {
   "cell_type": "code",
   "execution_count": 19,
   "id": "bb7c9075",
   "metadata": {},
   "outputs": [
    {
     "data": {
      "text/plain": [
       "numpy.ndarray"
      ]
     },
     "execution_count": 19,
     "metadata": {},
     "output_type": "execute_result"
    }
   ],
   "source": [
    "type(total_pvectors[0])"
   ]
  },
  {
   "cell_type": "code",
   "execution_count": 20,
   "id": "4bd5a5a0",
   "metadata": {},
   "outputs": [
    {
     "data": {
      "text/plain": [
       "array([6899.15211366, 6890.71814904, 6855.21004041, 6728.08334296,\n",
       "       6588.36606438, 5991.88372827, 5786.18598612, 5838.44231117,\n",
       "       5831.24392305, 5837.16075747, 5846.45488275, 5874.49260494,\n",
       "       6022.1750857 , 6130.58198554, 6206.70501873, 6261.36539714,\n",
       "       6315.31687634, 6384.84922366, 6445.3723307 , 6497.36604327,\n",
       "       6483.72611638, 6467.70234768, 6472.03430928, 6489.83780968,\n",
       "       6560.86045952, 6588.25164057, 6598.66323531, 6599.59924143,\n",
       "       6598.59022526, 6623.76277297, 6632.60188101, 6703.95823435,\n",
       "       6692.9144382 , 6672.87717742, 6734.76384146, 6905.93378782,\n",
       "       6898.29322262, 6728.04472807, 7002.83074944, 7541.72839118])"
      ]
     },
     "execution_count": 20,
     "metadata": {},
     "output_type": "execute_result"
    }
   ],
   "source": [
    "final_pvector"
   ]
  },
  {
   "cell_type": "code",
   "execution_count": 21,
   "id": "0791b517",
   "metadata": {},
   "outputs": [
    {
     "data": {
      "image/png": "[encoded data removed]",
      "text/plain": [
       "<Figure size 432x288 with 1 Axes>"
      ]
     },
     "metadata": {
      "needs_background": "light"
     },
     "output_type": "display_data"
    }
   ],
   "source": [
    "# Create a figure and a set of subplots\n",
    "fig, ax = plt.subplots()\n",
    "\n",
    "# Create a line plot\n",
    "sns.lineplot(x=np.arange(len(final_pvector)), y=final_pvector, ax=ax)\n",
    "\n",
    "# Set the title and labels\n",
    "ax.set_title('Sum of Pixel Intensities Across Y for Pants')\n",
    "ax.set_xlabel('Y-coordinate')\n",
    "ax.set_ylabel('Sum of pixel intensities')\n",
    "\n",
    "# Display the plot\n",
    "plt.show()"
   ]
  },
  {
   "cell_type": "markdown",
   "id": "ac2c5b75",
   "metadata": {},
   "source": [
    "**The above plot shows that for Pants, the top row is usually white.**"
   ]
  },
  {
   "cell_type": "code",
   "execution_count": 22,
   "id": "1ce7c33d",
   "metadata": {},
   "outputs": [],
   "source": [
    "total_pvectorsx = []\n",
    "\n",
    "final_pvectorx = np.zeros(30,)\n",
    "for i in range(r):\n",
    "    img = img_df.iloc[i, 1:].values.astype(np.uint8)\n",
    "    img = np.reshape(img, (40,30))\n",
    "    sum_pixels = np.sum(img, axis=0)\n",
    "    total_pvectorsx.append(sum_pixels )\n",
    "    final_pvectorx = (final_pvectorx + sum_pixels)\n",
    "final_pvectorx = final_pvectorx/r"
   ]
  },
  {
   "cell_type": "code",
   "execution_count": 23,
   "id": "4ac199a0",
   "metadata": {},
   "outputs": [
    {
     "data": {
      "image/png": "[encoded data removed]",
      "text/plain": [
       "<Figure size 432x288 with 1 Axes>"
      ]
     },
     "metadata": {
      "needs_background": "light"
     },
     "output_type": "display_data"
    }
   ],
   "source": [
    "# Create a figure and a set of subplots\n",
    "fig, ax = plt.subplots()\n",
    "\n",
    "# Create a line plot\n",
    "sns.lineplot(x=np.arange(len(final_pvectorx)), y=final_pvectorx, ax=ax)\n",
    "\n",
    "# Set the title and labels\n",
    "ax.set_title('Sum of Pixel Intensities Across X for Pants')\n",
    "ax.set_xlabel('X-coordinate')\n",
    "ax.set_ylabel('Sum of pixel intensities')\n",
    "\n",
    "# Display the plot\n",
    "plt.show()"
   ]
  },
  {
   "cell_type": "markdown",
   "id": "9bace4f4",
   "metadata": {},
   "source": [
    "**try black and white**"
   ]
  },
  {
   "cell_type": "code",
   "execution_count": 24,
   "id": "a27f05f7",
   "metadata": {},
   "outputs": [],
   "source": [
    "img = train_rgb_df.iloc[0, 1:].values.astype(np.uint8)\n",
    "img = np.reshape(img, (40,30))\n",
    "ret, img_bw = cv.threshold(img, 250, 255, cv.THRESH_BINARY)"
   ]
  },
  {
   "cell_type": "code",
   "execution_count": 25,
   "id": "f657750a",
   "metadata": {},
   "outputs": [
    {
     "data": {
      "text/plain": [
       "<matplotlib.image.AxesImage at 0xbfe34d0640>"
      ]
     },
     "execution_count": 25,
     "metadata": {},
     "output_type": "execute_result"
    },
    {
     "data": {
      "text/plain": [
       "<Figure size 2016x2016 with 0 Axes>"
      ]
     },
     "metadata": {},
     "output_type": "display_data"
    },
    {
     "data": {
      "image/png": "[encoded data removed]",
      "text/plain": [
       "<Figure size 720x720 with 1 Axes>"
      ]
     },
     "metadata": {
      "needs_background": "light"
     },
     "output_type": "display_data"
    }
   ],
   "source": [
    "plt.figure(figsize = (28,28))\n",
    "f, axarr = plt.subplots(1,1, figsize=(10, 10))\n",
    "axarr.imshow(img_bw, cmap='gray')"
   ]
  },
  {
   "cell_type": "code",
   "execution_count": 26,
   "id": "135cfe3a",
   "metadata": {},
   "outputs": [],
   "source": [
    "total_pvectors = []\n",
    "img_df = train_rgb_df[train_rgb_df['label']==label]\n",
    "final_pvector = np.zeros(40,)\n",
    "for i in range(r):\n",
    "    img = img_df.iloc[i, 1:].values.astype(np.uint8)\n",
    "    img = np.reshape(img, (40,30))\n",
    "    ret, img_bw = cv.threshold(img, 127, 250, cv.THRESH_BINARY)\n",
    "    sum_pixels = np.sum(img_bw, axis=1)\n",
    "    total_pvectors.append(sum_pixels )\n",
    "    final_pvector = (final_pvector + sum_pixels) #average\n",
    "final_pvector = final_pvector/r"
   ]
  },
  {
   "cell_type": "code",
   "execution_count": 27,
   "id": "1b287074",
   "metadata": {},
   "outputs": [
    {
     "data": {
      "image/png": "[encoded data removed]",
      "text/plain": [
       "<Figure size 432x288 with 1 Axes>"
      ]
     },
     "metadata": {
      "needs_background": "light"
     },
     "output_type": "display_data"
    }
   ],
   "source": [
    "# Create a figure and a set of subplots\n",
    "fig, ax = plt.subplots()\n",
    "\n",
    "# Create a line plot\n",
    "sns.lineplot(x=np.arange(len(final_pvector)), y=final_pvector, ax=ax)\n",
    "\n",
    "# Set the title and labels\n",
    "ax.set_title('Sum of Pixel Intensities Across Y for Pants')\n",
    "ax.set_xlabel('Y-coordinate')\n",
    "ax.set_ylabel('Sum of pixel intensities')\n",
    "\n",
    "# Display the plot\n",
    "plt.show()"
   ]
  },
  {
   "cell_type": "code",
   "execution_count": 28,
   "id": "10c3ce43",
   "metadata": {},
   "outputs": [
    {
     "data": {
      "image/png": "[encoded data removed]",
      "text/plain": [
       "<Figure size 432x288 with 1 Axes>"
      ]
     },
     "metadata": {
      "needs_background": "light"
     },
     "output_type": "display_data"
    }
   ],
   "source": [
    "total_pvectors = []\n",
    "img_df = train_rgb_df[train_rgb_df['label']==label]\n",
    "final_pvector = np.zeros(30,)\n",
    "for i in range(r):\n",
    "    img = img_df.iloc[i, 1:].values.astype(np.uint8)\n",
    "    img = np.reshape(img, (40,30))\n",
    "    ret, img_bw = cv.threshold(img, 127, 250, cv.THRESH_BINARY)\n",
    "    sum_pixels = np.sum(img_bw, axis=0)\n",
    "    total_pvectors.append(sum_pixels )\n",
    "    final_pvector = (final_pvector + sum_pixels) #average\n",
    "final_pvector = final_pvector/r\n",
    "\n",
    "# Create a figure and a set of subplots\n",
    "fig, ax = plt.subplots()\n",
    "\n",
    "# Create a line plot\n",
    "sns.lineplot(x=np.arange(len(final_pvector)), y=final_pvector, ax=ax)\n",
    "\n",
    "# Set the title and labels\n",
    "ax.set_title('Sum of Pixel Intensities Across X for Pants')\n",
    "ax.set_xlabel('X-coordinate')\n",
    "ax.set_ylabel('Sum of pixel intensities')\n",
    "\n",
    "# Display the plot\n",
    "plt.show()"
   ]
  },
  {
   "cell_type": "markdown",
   "id": "a8682091",
   "metadata": {},
   "source": [
    "**Do this for Tshirts**"
   ]
  },
  {
   "cell_type": "code",
   "execution_count": 29,
   "id": "2b0216d6",
   "metadata": {},
   "outputs": [],
   "source": [
    "label = label_key['Tshirts']\n",
    "r =  train_rgb_df[train_rgb_df['label']==label].shape[0]"
   ]
  },
  {
   "cell_type": "code",
   "execution_count": 30,
   "id": "e07ef15c",
   "metadata": {},
   "outputs": [
    {
     "data": {
      "image/png": "[encoded data removed]",
      "text/plain": [
       "<Figure size 432x288 with 1 Axes>"
      ]
     },
     "metadata": {
      "needs_background": "light"
     },
     "output_type": "display_data"
    }
   ],
   "source": [
    "total_pvectors = []\n",
    "img_df = train_rgb_df[train_rgb_df['label']==label]\n",
    "final_pvector = np.zeros(40,)\n",
    "for i in range(r):\n",
    "    img = img_df.iloc[i, 1:].values.astype(np.uint8)\n",
    "    img = np.reshape(img, (40,30))\n",
    "    ret, img_bw = cv.threshold(img, 127, 250, cv.THRESH_BINARY)\n",
    "    sum_pixels = np.sum(img_bw, axis=1)\n",
    "    total_pvectors.append(sum_pixels )\n",
    "    final_pvector = (final_pvector + sum_pixels) #average\n",
    "final_pvector = final_pvector/r\n",
    "\n",
    "# Create a figure and a set of subplots\n",
    "fig, ax = plt.subplots()\n",
    "\n",
    "# Create a line plot\n",
    "sns.lineplot(x=np.arange(len(final_pvector)), y=final_pvector, ax=ax)\n",
    "\n",
    "# Set the title and labels\n",
    "ax.set_title('Sum of Pixel Intensities Across Y for Tshirts')\n",
    "ax.set_xlabel('Y-coordinate')\n",
    "ax.set_ylabel('Sum of pixel intensities')\n",
    "\n",
    "# Display the plot\n",
    "plt.show()"
   ]
  },
  {
   "cell_type": "markdown",
   "id": "a3fd38f8",
   "metadata": {},
   "source": [
    "**The above reflects that at Y = 0 the first row is usually clear for Tshirts, and the bottom row is not. The above cleary shows that it can be used to discriminate between Pants and Tshirts**"
   ]
  },
  {
   "cell_type": "markdown",
   "id": "b3972cb6",
   "metadata": {},
   "source": [
    "**Watches**"
   ]
  },
  {
   "cell_type": "code",
   "execution_count": 31,
   "id": "62b9065c",
   "metadata": {},
   "outputs": [
    {
     "data": {
      "image/png": "[encoded data removed]",
      "text/plain": [
       "<Figure size 432x288 with 1 Axes>"
      ]
     },
     "metadata": {
      "needs_background": "light"
     },
     "output_type": "display_data"
    }
   ],
   "source": [
    "label = label_key['Watches']\n",
    "r =  train_rgb_df[train_rgb_df['label']==label].shape[0]\n",
    "total_pvectors = []\n",
    "img_df = train_rgb_df[train_rgb_df['label']==label]\n",
    "final_pvector = np.zeros(40,)\n",
    "for i in range(r):\n",
    "    img = img_df.iloc[i, 1:].values.astype(np.uint8)\n",
    "    img = np.reshape(img, (40,30))\n",
    "    ret, img_bw = cv.threshold(img, 127, 250, cv.THRESH_BINARY)\n",
    "    sum_pixels = np.sum(img_bw, axis=1)\n",
    "    total_pvectors.append(sum_pixels )\n",
    "    final_pvector = (final_pvector + sum_pixels) #average\n",
    "final_pvector = final_pvector/r\n",
    "\n",
    "# Create a figure and a set of subplots\n",
    "fig, ax = plt.subplots()\n",
    "\n",
    "# Create a line plot\n",
    "sns.lineplot(x=np.arange(len(final_pvector)), y=final_pvector, ax=ax)\n",
    "\n",
    "# Set the title and labels\n",
    "ax.set_title('Sum of Pixel Intensities Across Y for Watches')\n",
    "ax.set_xlabel('Y-coordinate')\n",
    "ax.set_ylabel('Sum of pixel intensities')\n",
    "\n",
    "# Display the plot\n",
    "plt.show()"
   ]
  },
  {
   "cell_type": "code",
   "execution_count": 32,
   "id": "2d079f08",
   "metadata": {},
   "outputs": [
    {
     "data": {
      "image/png": "[encoded data removed]",
      "text/plain": [
       "<Figure size 432x288 with 1 Axes>"
      ]
     },
     "metadata": {
      "needs_background": "light"
     },
     "output_type": "display_data"
    }
   ],
   "source": [
    "label = label_key['Casual Shoes']\n",
    "r =  train_rgb_df[train_rgb_df['label']==label].shape[0]\n",
    "total_pvectors = []\n",
    "img_df = train_rgb_df[train_rgb_df['label']==label]\n",
    "final_pvector = np.zeros(40,)\n",
    "for i in range(r):\n",
    "    img = img_df.iloc[i, 1:].values.astype(np.uint8)\n",
    "    img = np.reshape(img, (40,30))\n",
    "    ret, img_bw = cv.threshold(img, 127, 250, cv.THRESH_BINARY)\n",
    "    sum_pixels = np.sum(img_bw, axis=1)\n",
    "    total_pvectors.append(sum_pixels )\n",
    "    final_pvector = (final_pvector + sum_pixels) #average\n",
    "final_pvector = final_pvector/r\n",
    "\n",
    "# Create a figure and a set of subplots\n",
    "fig, ax = plt.subplots()\n",
    "\n",
    "# Create a line plot\n",
    "sns.lineplot(x=np.arange(len(final_pvector)), y=final_pvector, ax=ax)\n",
    "\n",
    "# Set the title and labels\n",
    "ax.set_title('Sum of Pixel Intensities Across Y for Casual Shoes')\n",
    "ax.set_xlabel('Y-coordinate')\n",
    "ax.set_ylabel('Sum of pixel intensities')\n",
    "\n",
    "# Display the plot\n",
    "plt.show()"
   ]
  },
  {
   "cell_type": "markdown",
   "id": "10cc5822",
   "metadata": {},
   "source": [
    "**The above shows that shoes have a high margin of free space at top and bottom row**"
   ]
  },
  {
   "cell_type": "markdown",
   "id": "2b949f23",
   "metadata": {},
   "source": [
    "### generate sum Y vector for all images and save to CSV"
   ]
  },
  {
   "cell_type": "markdown",
   "id": "b389c38d",
   "metadata": {},
   "source": [
    "**load all images**"
   ]
  },
  {
   "cell_type": "code",
   "execution_count": null,
   "id": "904e933e",
   "metadata": {},
   "outputs": [],
   "source": [
    "train_gray_df = pd.read_csv('gray_small_train_set.csv')"
   ]
  },
  {
   "cell_type": "code",
   "execution_count": null,
   "id": "e88caf4b",
   "metadata": {},
   "outputs": [],
   "source": [
    "test_gray_df = pd.read_csv('gray_small_test_set.csv')"
   ]
  },
  {
   "cell_type": "code",
   "execution_count": null,
   "id": "de3e2dd5",
   "metadata": {},
   "outputs": [],
   "source": [
    "val_gray_df = pd.read_csv('gray_small_val_set.csv')"
   ]
  },
  {
   "cell_type": "markdown",
   "id": "f1ea50af",
   "metadata": {},
   "source": [
    "**generate vectors**"
   ]
  },
  {
   "cell_type": "markdown",
   "id": "3ef8afee",
   "metadata": {},
   "source": [
    "**export to CSV**"
   ]
  },
  {
   "cell_type": "code",
   "execution_count": null,
   "id": "70173e53",
   "metadata": {},
   "outputs": [],
   "source": [
    "r =  train_gray_df.shape[0]\n",
    "total_vectors = []\n",
    "img_df = train_gray_df\n",
    "#final_pvector = np.zeros(40,)\n",
    "for i in range(r):\n",
    "    img = img_df.iloc[i, 1:].values.astype(np.uint8)\n",
    "    img = np.reshape(img, (40,30))\n",
    "    ret, img_bw = cv.threshold(img, 127, 250, cv.THRESH_BINARY)\n",
    "    sum_pixels = np.sum(img_bw, axis=1)\n",
    "    total_vectors.append(sum_pixels)\n",
    "    #final_pvector = (final_pvector + sum_pixels) #average\n",
    "#final_pvector = final_pvector/r\n",
    "column_names = column_names_for_fd(total_vectors, 'sum_y_')\n",
    "sum_to_csv('histy_train.csv', column_names,total_vectors, img_df )"
   ]
  },
  {
   "cell_type": "code",
   "execution_count": null,
   "id": "1f12a40d",
   "metadata": {},
   "outputs": [],
   "source": [
    "check = pd.read_csv('histy_train.csv')"
   ]
  },
  {
   "cell_type": "code",
   "execution_count": null,
   "id": "59729a66",
   "metadata": {},
   "outputs": [],
   "source": [
    "check.shape"
   ]
  },
  {
   "cell_type": "code",
   "execution_count": null,
   "id": "12d11b4e",
   "metadata": {},
   "outputs": [],
   "source": [
    "r =  test_gray_df.shape[0]\n",
    "total_vectors = []\n",
    "img_df = test_gray_df\n",
    "#final_pvector = np.zeros(40,)\n",
    "for i in range(r):\n",
    "    img = img_df.iloc[i, 1:].values.astype(np.uint8)\n",
    "    img = np.reshape(img, (40,30))\n",
    "    ret, img_bw = cv.threshold(img, 127, 250, cv.THRESH_BINARY)\n",
    "    sum_pixels = np.sum(img_bw, axis=1)\n",
    "    total_vectors.append(sum_pixels)\n",
    "    #final_pvector = (final_pvector + sum_pixels) #average\n",
    "#final_pvector = final_pvector/r\n",
    "column_names = column_names_for_fd(total_vectors, 'sum_y_')\n",
    "sum_to_csv('histy_test.csv', column_names,total_vectors, img_df )"
   ]
  },
  {
   "cell_type": "code",
   "execution_count": null,
   "id": "bfbd7fd8",
   "metadata": {},
   "outputs": [],
   "source": [
    "check = pd.read_csv('histy_test.csv')\n",
    "check.head(5)"
   ]
  },
  {
   "cell_type": "code",
   "execution_count": null,
   "id": "dc36b482",
   "metadata": {},
   "outputs": [],
   "source": [
    "r =  val_gray_df.shape[0]\n",
    "total_vectors = []\n",
    "img_df = val_gray_df\n",
    "#final_pvector = np.zeros(40,)\n",
    "for i in range(r):\n",
    "    img = img_df.iloc[i, 1:].values.astype(np.uint8)\n",
    "    img = np.reshape(img, (40,30))\n",
    "    ret, img_bw = cv.threshold(img, 127, 250, cv.THRESH_BINARY)\n",
    "    sum_pixels = np.sum(img_bw, axis=1)\n",
    "    total_vectors.append(sum_pixels)\n",
    "    #final_pvector = (final_pvector + sum_pixels) #average\n",
    "#final_pvector = final_pvector/r\n",
    "column_names = column_names_for_fd(total_vectors, 'sum_y_')\n",
    "sum_to_csv('histy_val.csv', column_names, total_vectors, img_df )"
   ]
  },
  {
   "cell_type": "code",
   "execution_count": null,
   "id": "8d63ed94",
   "metadata": {},
   "outputs": [],
   "source": [
    "check = pd.read_csv('histy_val.csv')\n",
    "check.head(5)"
   ]
  },
  {
   "cell_type": "markdown",
   "id": "39f6c4f0",
   "metadata": {},
   "source": [
    "**do the same for x axis**"
   ]
  },
  {
   "cell_type": "code",
   "execution_count": null,
   "id": "94ce3e91",
   "metadata": {},
   "outputs": [],
   "source": [
    "r =  train_gray_df.shape[0]\n",
    "total_vectors = []\n",
    "img_df = train_gray_df\n",
    "#final_pvector = np.zeros(40,)\n",
    "for i in range(r):\n",
    "    img = img_df.iloc[i, 1:].values.astype(np.uint8)\n",
    "    img = np.reshape(img, (40,30))\n",
    "    ret, img_bw = cv.threshold(img, 127, 250, cv.THRESH_BINARY)\n",
    "    sum_pixels = np.sum(img_bw, axis=0)\n",
    "    total_vectors.append(sum_pixels)\n",
    "    #final_pvector = (final_pvector + sum_pixels) #average\n",
    "#final_pvector = final_pvector/r\n",
    "column_names = column_names_for_fd(total_vectors, 'sum_x_')\n",
    "sum_to_csv('histx_train.csv', column_names,total_vectors, img_df )"
   ]
  },
  {
   "cell_type": "code",
   "execution_count": null,
   "id": "3aab797d",
   "metadata": {},
   "outputs": [],
   "source": [
    "r =  test_gray_df.shape[0]\n",
    "total_vectors = []\n",
    "img_df = test_gray_df\n",
    "#final_pvector = np.zeros(40,)\n",
    "for i in range(r):\n",
    "    img = img_df.iloc[i, 1:].values.astype(np.uint8)\n",
    "    img = np.reshape(img, (40,30))\n",
    "    ret, img_bw = cv.threshold(img, 127, 250, cv.THRESH_BINARY)\n",
    "    sum_pixels = np.sum(img_bw, axis=0)\n",
    "    total_vectors.append(sum_pixels)\n",
    "    #final_pvector = (final_pvector + sum_pixels) #average\n",
    "#final_pvector = final_pvector/r\n",
    "column_names = column_names_for_fd(total_vectors, 'sum_x_')\n",
    "sum_to_csv('histx_test.csv', column_names,total_vectors, img_df )"
   ]
  },
  {
   "cell_type": "code",
   "execution_count": null,
   "id": "11f786bb",
   "metadata": {},
   "outputs": [],
   "source": [
    "r =  val_gray_df.shape[0]\n",
    "total_vectors = []\n",
    "img_df = val_gray_df\n",
    "#final_pvector = np.zeros(40,)\n",
    "for i in range(r):\n",
    "    img = img_df.iloc[i, 1:].values.astype(np.uint8)\n",
    "    img = np.reshape(img, (40,30))\n",
    "    ret, img_bw = cv.threshold(img, 127, 250, cv.THRESH_BINARY)\n",
    "    sum_pixels = np.sum(img_bw, axis=0)\n",
    "    total_vectors.append(sum_pixels)\n",
    "    #final_pvector = (final_pvector + sum_pixels) #average\n",
    "#final_pvector = final_pvector/r\n",
    "column_names = column_names_for_fd(total_vectors, 'sum_x_')\n",
    "sum_to_csv('histx_val.csv', column_names,total_vectors, img_df )"
   ]
  },
  {
   "cell_type": "markdown",
   "id": "24cdc003",
   "metadata": {},
   "source": [
    "**at this point, a list train_pvectors has vector value (40 for y axis)"
   ]
  }
 ],
 "metadata": {
  "kernelspec": {
   "display_name": "Python 3 (ipykernel)",
   "language": "python",
   "name": "python3"
  },
  "language_info": {
   "codemirror_mode": {
    "name": "ipython",
    "version": 3
   },
   "file_extension": ".py",
   "mimetype": "text/x-python",
   "name": "python",
   "nbconvert_exporter": "python",
   "pygments_lexer": "ipython3",
   "version": "3.9.12"
  }
 },
 "nbformat": 4,
 "nbformat_minor": 5
}
