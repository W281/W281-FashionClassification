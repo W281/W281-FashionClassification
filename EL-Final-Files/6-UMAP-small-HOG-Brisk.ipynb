{
 "cells": [
  {
   "cell_type": "markdown",
   "id": "b7bd7c45",
   "metadata": {},
   "source": [
    "## Non-Linear Dimensionality Reduction\n",
    "**Using Gray Scale Images WxH = 40 X 30**</p>\n",
    "**Using HOG feature of each image**</p>\n",
    "**Adding BRISK**</p>"
   ]
  },
  {
   "cell_type": "code",
   "execution_count": 1,
   "id": "fbe2d04a",
   "metadata": {
    "scrolled": false
   },
   "outputs": [],
   "source": [
    "#import umap\n",
    "import umap.umap_ as umap\n"
   ]
  },
  {
   "cell_type": "code",
   "execution_count": 2,
   "id": "8c4b4c42",
   "metadata": {},
   "outputs": [],
   "source": [
    "import numpy as np\n",
    "import pandas as pd\n",
    "import datashader as ds\n",
    "import datashader.utils as utils\n",
    "import datashader.transfer_functions as tf\n",
    "import matplotlib.pyplot as plt\n",
    "import seaborn as sns"
   ]
  },
  {
   "cell_type": "code",
   "execution_count": 17,
   "id": "d9576ea8",
   "metadata": {},
   "outputs": [],
   "source": [
    "import time"
   ]
  },
  {
   "cell_type": "code",
   "execution_count": 3,
   "id": "19d963ec",
   "metadata": {},
   "outputs": [],
   "source": [
    "#this is the grayscale\n",
    "source_df = pd.read_csv('gray_small_train_set.csv')"
   ]
  },
  {
   "cell_type": "code",
   "execution_count": 4,
   "id": "7433d39c",
   "metadata": {},
   "outputs": [],
   "source": [
    "hog_df = pd.read_csv('hog_fd_train.csv')"
   ]
  },
  {
   "cell_type": "code",
   "execution_count": 5,
   "id": "d099d449",
   "metadata": {},
   "outputs": [],
   "source": [
    "brisk_df = pd.read_csv('brisk_train.csv')"
   ]
  },
  {
   "cell_type": "code",
   "execution_count": 6,
   "id": "f08ea7d9",
   "metadata": {},
   "outputs": [
    {
     "data": {
      "text/html": [
       "<div>\n",
       "<style scoped>\n",
       "    .dataframe tbody tr th:only-of-type {\n",
       "        vertical-align: middle;\n",
       "    }\n",
       "\n",
       "    .dataframe tbody tr th {\n",
       "        vertical-align: top;\n",
       "    }\n",
       "\n",
       "    .dataframe thead th {\n",
       "        text-align: right;\n",
       "    }\n",
       "</style>\n",
       "<table border=\"1\" class=\"dataframe\">\n",
       "  <thead>\n",
       "    <tr style=\"text-align: right;\">\n",
       "      <th></th>\n",
       "      <th>label</th>\n",
       "      <th>pixel0</th>\n",
       "      <th>pixel1</th>\n",
       "      <th>pixel2</th>\n",
       "      <th>pixel3</th>\n",
       "      <th>pixel4</th>\n",
       "      <th>pixel5</th>\n",
       "      <th>pixel6</th>\n",
       "      <th>pixel7</th>\n",
       "      <th>pixel8</th>\n",
       "      <th>...</th>\n",
       "      <th>pixel1190</th>\n",
       "      <th>pixel1191</th>\n",
       "      <th>pixel1192</th>\n",
       "      <th>pixel1193</th>\n",
       "      <th>pixel1194</th>\n",
       "      <th>pixel1195</th>\n",
       "      <th>pixel1196</th>\n",
       "      <th>pixel1197</th>\n",
       "      <th>pixel1198</th>\n",
       "      <th>pixel1199</th>\n",
       "    </tr>\n",
       "  </thead>\n",
       "  <tbody>\n",
       "    <tr>\n",
       "      <th>0</th>\n",
       "      <td>0</td>\n",
       "      <td>255</td>\n",
       "      <td>255</td>\n",
       "      <td>255</td>\n",
       "      <td>255</td>\n",
       "      <td>254</td>\n",
       "      <td>241</td>\n",
       "      <td>236</td>\n",
       "      <td>234</td>\n",
       "      <td>220</td>\n",
       "      <td>...</td>\n",
       "      <td>253</td>\n",
       "      <td>253</td>\n",
       "      <td>254</td>\n",
       "      <td>254</td>\n",
       "      <td>255</td>\n",
       "      <td>255</td>\n",
       "      <td>255</td>\n",
       "      <td>255</td>\n",
       "      <td>255</td>\n",
       "      <td>255</td>\n",
       "    </tr>\n",
       "    <tr>\n",
       "      <th>1</th>\n",
       "      <td>2</td>\n",
       "      <td>255</td>\n",
       "      <td>255</td>\n",
       "      <td>255</td>\n",
       "      <td>255</td>\n",
       "      <td>255</td>\n",
       "      <td>255</td>\n",
       "      <td>255</td>\n",
       "      <td>255</td>\n",
       "      <td>255</td>\n",
       "      <td>...</td>\n",
       "      <td>255</td>\n",
       "      <td>255</td>\n",
       "      <td>255</td>\n",
       "      <td>255</td>\n",
       "      <td>255</td>\n",
       "      <td>255</td>\n",
       "      <td>255</td>\n",
       "      <td>255</td>\n",
       "      <td>255</td>\n",
       "      <td>255</td>\n",
       "    </tr>\n",
       "    <tr>\n",
       "      <th>2</th>\n",
       "      <td>2</td>\n",
       "      <td>255</td>\n",
       "      <td>255</td>\n",
       "      <td>255</td>\n",
       "      <td>255</td>\n",
       "      <td>255</td>\n",
       "      <td>255</td>\n",
       "      <td>255</td>\n",
       "      <td>255</td>\n",
       "      <td>255</td>\n",
       "      <td>...</td>\n",
       "      <td>255</td>\n",
       "      <td>255</td>\n",
       "      <td>255</td>\n",
       "      <td>255</td>\n",
       "      <td>255</td>\n",
       "      <td>255</td>\n",
       "      <td>255</td>\n",
       "      <td>255</td>\n",
       "      <td>255</td>\n",
       "      <td>255</td>\n",
       "    </tr>\n",
       "    <tr>\n",
       "      <th>3</th>\n",
       "      <td>3</td>\n",
       "      <td>255</td>\n",
       "      <td>255</td>\n",
       "      <td>255</td>\n",
       "      <td>255</td>\n",
       "      <td>255</td>\n",
       "      <td>255</td>\n",
       "      <td>255</td>\n",
       "      <td>255</td>\n",
       "      <td>255</td>\n",
       "      <td>...</td>\n",
       "      <td>255</td>\n",
       "      <td>255</td>\n",
       "      <td>255</td>\n",
       "      <td>255</td>\n",
       "      <td>255</td>\n",
       "      <td>255</td>\n",
       "      <td>255</td>\n",
       "      <td>255</td>\n",
       "      <td>255</td>\n",
       "      <td>255</td>\n",
       "    </tr>\n",
       "    <tr>\n",
       "      <th>4</th>\n",
       "      <td>1</td>\n",
       "      <td>255</td>\n",
       "      <td>255</td>\n",
       "      <td>255</td>\n",
       "      <td>255</td>\n",
       "      <td>255</td>\n",
       "      <td>255</td>\n",
       "      <td>255</td>\n",
       "      <td>255</td>\n",
       "      <td>255</td>\n",
       "      <td>...</td>\n",
       "      <td>255</td>\n",
       "      <td>255</td>\n",
       "      <td>255</td>\n",
       "      <td>255</td>\n",
       "      <td>255</td>\n",
       "      <td>255</td>\n",
       "      <td>255</td>\n",
       "      <td>255</td>\n",
       "      <td>255</td>\n",
       "      <td>255</td>\n",
       "    </tr>\n",
       "  </tbody>\n",
       "</table>\n",
       "<p>5 rows × 1201 columns</p>\n",
       "</div>"
      ],
      "text/plain": [
       "   label  pixel0  pixel1  pixel2  pixel3  pixel4  pixel5  pixel6  pixel7  \\\n",
       "0      0     255     255     255     255     254     241     236     234   \n",
       "1      2     255     255     255     255     255     255     255     255   \n",
       "2      2     255     255     255     255     255     255     255     255   \n",
       "3      3     255     255     255     255     255     255     255     255   \n",
       "4      1     255     255     255     255     255     255     255     255   \n",
       "\n",
       "   pixel8  ...  pixel1190  pixel1191  pixel1192  pixel1193  pixel1194  \\\n",
       "0     220  ...        253        253        254        254        255   \n",
       "1     255  ...        255        255        255        255        255   \n",
       "2     255  ...        255        255        255        255        255   \n",
       "3     255  ...        255        255        255        255        255   \n",
       "4     255  ...        255        255        255        255        255   \n",
       "\n",
       "   pixel1195  pixel1196  pixel1197  pixel1198  pixel1199  \n",
       "0        255        255        255        255        255  \n",
       "1        255        255        255        255        255  \n",
       "2        255        255        255        255        255  \n",
       "3        255        255        255        255        255  \n",
       "4        255        255        255        255        255  \n",
       "\n",
       "[5 rows x 1201 columns]"
      ]
     },
     "execution_count": 6,
     "metadata": {},
     "output_type": "execute_result"
    }
   ],
   "source": [
    "source_df.head()"
   ]
  },
  {
   "cell_type": "code",
   "execution_count": 14,
   "id": "8c26484a",
   "metadata": {},
   "outputs": [
    {
     "data": {
      "text/html": [
       "<div>\n",
       "<style scoped>\n",
       "    .dataframe tbody tr th:only-of-type {\n",
       "        vertical-align: middle;\n",
       "    }\n",
       "\n",
       "    .dataframe tbody tr th {\n",
       "        vertical-align: top;\n",
       "    }\n",
       "\n",
       "    .dataframe thead th {\n",
       "        text-align: right;\n",
       "    }\n",
       "</style>\n",
       "<table border=\"1\" class=\"dataframe\">\n",
       "  <thead>\n",
       "    <tr style=\"text-align: right;\">\n",
       "      <th></th>\n",
       "      <th>label</th>\n",
       "      <th>fd_value0</th>\n",
       "      <th>fd_value1</th>\n",
       "      <th>fd_value2</th>\n",
       "      <th>fd_value3</th>\n",
       "      <th>fd_value4</th>\n",
       "      <th>fd_value5</th>\n",
       "      <th>fd_value6</th>\n",
       "      <th>fd_value7</th>\n",
       "      <th>fd_value8</th>\n",
       "      <th>...</th>\n",
       "      <th>fd_value1718</th>\n",
       "      <th>fd_value1719</th>\n",
       "      <th>fd_value1720</th>\n",
       "      <th>fd_value1721</th>\n",
       "      <th>fd_value1722</th>\n",
       "      <th>fd_value1723</th>\n",
       "      <th>fd_value1724</th>\n",
       "      <th>fd_value1725</th>\n",
       "      <th>fd_value1726</th>\n",
       "      <th>fd_value1727</th>\n",
       "    </tr>\n",
       "  </thead>\n",
       "  <tbody>\n",
       "    <tr>\n",
       "      <th>0</th>\n",
       "      <td>0.0</td>\n",
       "      <td>0.016479</td>\n",
       "      <td>0.0</td>\n",
       "      <td>0.0</td>\n",
       "      <td>0.0</td>\n",
       "      <td>0.0</td>\n",
       "      <td>0.0</td>\n",
       "      <td>0.0</td>\n",
       "      <td>0.0</td>\n",
       "      <td>0.705982</td>\n",
       "      <td>...</td>\n",
       "      <td>0.0</td>\n",
       "      <td>0.37049</td>\n",
       "      <td>0.002554</td>\n",
       "      <td>0.0</td>\n",
       "      <td>0.0</td>\n",
       "      <td>0.0</td>\n",
       "      <td>0.0</td>\n",
       "      <td>0.0</td>\n",
       "      <td>0.0</td>\n",
       "      <td>0.0</td>\n",
       "    </tr>\n",
       "  </tbody>\n",
       "</table>\n",
       "<p>1 rows × 1729 columns</p>\n",
       "</div>"
      ],
      "text/plain": [
       "   label  fd_value0  fd_value1  fd_value2  fd_value3  fd_value4  fd_value5  \\\n",
       "0    0.0   0.016479        0.0        0.0        0.0        0.0        0.0   \n",
       "\n",
       "   fd_value6  fd_value7  fd_value8  ...  fd_value1718  fd_value1719  \\\n",
       "0        0.0        0.0   0.705982  ...           0.0       0.37049   \n",
       "\n",
       "   fd_value1720  fd_value1721  fd_value1722  fd_value1723  fd_value1724  \\\n",
       "0      0.002554           0.0           0.0           0.0           0.0   \n",
       "\n",
       "   fd_value1725  fd_value1726  fd_value1727  \n",
       "0           0.0           0.0           0.0  \n",
       "\n",
       "[1 rows x 1729 columns]"
      ]
     },
     "execution_count": 14,
     "metadata": {},
     "output_type": "execute_result"
    }
   ],
   "source": [
    "hog_df.head(1)"
   ]
  },
  {
   "cell_type": "code",
   "execution_count": 7,
   "id": "75007e5d",
   "metadata": {},
   "outputs": [
    {
     "data": {
      "text/html": [
       "<div>\n",
       "<style scoped>\n",
       "    .dataframe tbody tr th:only-of-type {\n",
       "        vertical-align: middle;\n",
       "    }\n",
       "\n",
       "    .dataframe tbody tr th {\n",
       "        vertical-align: top;\n",
       "    }\n",
       "\n",
       "    .dataframe thead th {\n",
       "        text-align: right;\n",
       "    }\n",
       "</style>\n",
       "<table border=\"1\" class=\"dataframe\">\n",
       "  <thead>\n",
       "    <tr style=\"text-align: right;\">\n",
       "      <th></th>\n",
       "      <th>label</th>\n",
       "      <th>brisk0</th>\n",
       "      <th>brisk1</th>\n",
       "      <th>brisk2</th>\n",
       "      <th>brisk3</th>\n",
       "      <th>brisk4</th>\n",
       "      <th>brisk5</th>\n",
       "      <th>brisk6</th>\n",
       "      <th>brisk7</th>\n",
       "      <th>brisk8</th>\n",
       "      <th>...</th>\n",
       "      <th>brisk1190</th>\n",
       "      <th>brisk1191</th>\n",
       "      <th>brisk1192</th>\n",
       "      <th>brisk1193</th>\n",
       "      <th>brisk1194</th>\n",
       "      <th>brisk1195</th>\n",
       "      <th>brisk1196</th>\n",
       "      <th>brisk1197</th>\n",
       "      <th>brisk1198</th>\n",
       "      <th>brisk1199</th>\n",
       "    </tr>\n",
       "  </thead>\n",
       "  <tbody>\n",
       "    <tr>\n",
       "      <th>0</th>\n",
       "      <td>0</td>\n",
       "      <td>0</td>\n",
       "      <td>0</td>\n",
       "      <td>0</td>\n",
       "      <td>0</td>\n",
       "      <td>0</td>\n",
       "      <td>0</td>\n",
       "      <td>0</td>\n",
       "      <td>0</td>\n",
       "      <td>0</td>\n",
       "      <td>...</td>\n",
       "      <td>0</td>\n",
       "      <td>0</td>\n",
       "      <td>0</td>\n",
       "      <td>0</td>\n",
       "      <td>0</td>\n",
       "      <td>0</td>\n",
       "      <td>0</td>\n",
       "      <td>0</td>\n",
       "      <td>0</td>\n",
       "      <td>0</td>\n",
       "    </tr>\n",
       "  </tbody>\n",
       "</table>\n",
       "<p>1 rows × 1201 columns</p>\n",
       "</div>"
      ],
      "text/plain": [
       "   label  brisk0  brisk1  brisk2  brisk3  brisk4  brisk5  brisk6  brisk7  \\\n",
       "0      0       0       0       0       0       0       0       0       0   \n",
       "\n",
       "   brisk8  ...  brisk1190  brisk1191  brisk1192  brisk1193  brisk1194  \\\n",
       "0       0  ...          0          0          0          0          0   \n",
       "\n",
       "   brisk1195  brisk1196  brisk1197  brisk1198  brisk1199  \n",
       "0          0          0          0          0          0  \n",
       "\n",
       "[1 rows x 1201 columns]"
      ]
     },
     "execution_count": 7,
     "metadata": {},
     "output_type": "execute_result"
    }
   ],
   "source": [
    "brisk_df.head(1)"
   ]
  },
  {
   "cell_type": "code",
   "execution_count": 8,
   "id": "e2bef89f",
   "metadata": {},
   "outputs": [
    {
     "data": {
      "text/plain": [
       "((3377, 1201), (3377, 1729), (3377, 1201))"
      ]
     },
     "execution_count": 8,
     "metadata": {},
     "output_type": "execute_result"
    }
   ],
   "source": [
    "source_df.shape, hog_df.shape, brisk_df.shape"
   ]
  },
  {
   "cell_type": "markdown",
   "id": "5e451e19",
   "metadata": {},
   "source": [
    "**Run All Together: Grayscale wit HOG and BRISK vectors concantenated**"
   ]
  },
  {
   "cell_type": "code",
   "execution_count": 9,
   "id": "cb62be2e",
   "metadata": {},
   "outputs": [],
   "source": [
    "final_df = pd.concat([source_df, hog_df.iloc[:,1:], brisk_df.iloc[:,1:]], axis=1)"
   ]
  },
  {
   "cell_type": "code",
   "execution_count": 10,
   "id": "c139a1b1",
   "metadata": {},
   "outputs": [
    {
     "data": {
      "text/plain": [
       "(3377, 4129)"
      ]
     },
     "execution_count": 10,
     "metadata": {},
     "output_type": "execute_result"
    }
   ],
   "source": [
    "final_df.shape"
   ]
  },
  {
   "cell_type": "code",
   "execution_count": 11,
   "id": "138298aa",
   "metadata": {},
   "outputs": [],
   "source": [
    "\n",
    "#data = source_df.iloc[:, :source_df.shape[1]].values.astype(np.float32)\n",
    "data = final_df.iloc[:, 1:].values.astype(np.float32)\n"
   ]
  },
  {
   "cell_type": "code",
   "execution_count": 12,
   "id": "7724fa99",
   "metadata": {},
   "outputs": [],
   "source": [
    "#target = source_df['class'].values\n",
    "target = final_df['label'].values"
   ]
  },
  {
   "cell_type": "code",
   "execution_count": 13,
   "id": "5b8dbf0e",
   "metadata": {},
   "outputs": [
    {
     "data": {
      "text/plain": [
       "((3377, 4128), (3377,))"
      ]
     },
     "execution_count": 13,
     "metadata": {},
     "output_type": "execute_result"
    }
   ],
   "source": [
    "data.shape, target.shape"
   ]
  },
  {
   "cell_type": "code",
   "execution_count": 14,
   "id": "c5095a98",
   "metadata": {},
   "outputs": [],
   "source": [
    "label_key = {\n",
    "    \"Pants\": 0, \n",
    "    \"Tshirts\":1,\n",
    "    \"Watches\":2, \n",
    "    \"Casual Shoes\":3 \n",
    " \n",
    "}"
   ]
  },
  {
   "cell_type": "code",
   "execution_count": 15,
   "id": "1a71cc44",
   "metadata": {},
   "outputs": [],
   "source": [
    "color_key = {\n",
    "    \"0\": \"#FF0000\",  # Bright Red, Pants\n",
    "    \"1\": \"#00FF00\",  # Bright Green, T-shirts\n",
    "    \"2\": \"#0000FF\",  # Bright Blue, Watches\n",
    "    \"3\": \"#FFFF00\",  # Bright Yellow, Casual Shoes\n",
    "\n",
    "}"
   ]
  },
  {
   "cell_type": "code",
   "execution_count": 18,
   "id": "253c67ff",
   "metadata": {},
   "outputs": [
    {
     "name": "stdout",
     "output_type": "stream",
     "text": [
      "percent complete:  100 - 17.10249662399292 seconds -\n"
     ]
    }
   ],
   "source": [
    "# Initialize UMAP\n",
    "percent=100\n",
    "start_time = time.time()\n",
    "reducer = umap.UMAP(n_neighbors = 30, random_state=42)\n",
    "#reducer = umap(random_state=42)\n",
    "\n",
    "\n",
    "# Fit and transform the data\n",
    "embedding = reducer.fit_transform(data)\n",
    "\n",
    "# Prepare the data for visualization\n",
    "df = pd.DataFrame(embedding, columns=('x', 'y'))\n",
    "\n",
    "print('percent complete: ',percent, end =\" - %s seconds -\\n\" % \\\n",
    "              (time.time() - start_time), flush=False)\n"
   ]
  },
  {
   "cell_type": "code",
   "execution_count": 19,
   "id": "f5ffb738",
   "metadata": {},
   "outputs": [
    {
     "data": {
      "image/png": "[encoded data removed]",
      "text/plain": [
       "<Figure size 432x432 with 1 Axes>"
      ]
     },
     "metadata": {},
     "output_type": "display_data"
    }
   ],
   "source": [
    "df['class'] = pd.Series([str(x) for x in target], dtype=\"category\")\n",
    "\n",
    "# Visualize the data using datashader\n",
    "\n",
    "cvs = ds.Canvas(plot_width=100, plot_height=100)\n",
    "agg = cvs.points(df, 'x', 'y', ds.count_cat('class'))\n",
    "img = tf.shade(agg, color_key=color_key, how='eq_hist')\n",
    "utils.export_image(img, filename='gray_small_hog_brisc_30', background='white')\n",
    "\n",
    "# Display the image\n",
    "image = plt.imread('gray_small_hog_brisc_30.png')\n",
    "fig, ax = plt.subplots(figsize=(6, 6))\n",
    "plt.imshow(image)\n",
    "plt.setp(ax, xticks=[], yticks=[])\n",
    "plt.title(\"Reduced Gray Image Mapped Into 2 dimensions by UMAP w n=30, using HOG and BRISC\", fontsize=12)\n",
    "plt.show()\n",
    "\n",
    "\n"
   ]
  },
  {
   "cell_type": "markdown",
   "id": "aed0f212",
   "metadata": {},
   "source": [
    "**There is no noticeable improvement in the seperation of clusters**"
   ]
  },
  {
   "cell_type": "markdown",
   "id": "565d2197",
   "metadata": {},
   "source": [
    "**Export Mapped Coordinates to CSV**"
   ]
  },
  {
   "cell_type": "code",
   "execution_count": 36,
   "id": "01ac5fd0",
   "metadata": {},
   "outputs": [],
   "source": [
    "# Ensure target is a 2D array with shape (3377, 1)\n",
    "target = target[:, np.newaxis]\n",
    "\n",
    "# Concatenate along the second axis\n",
    "emb_target = np.concatenate((target, embedding), axis=1)\n",
    "\n",
    "column_names = ['label','embedding x', 'embedding y']\n",
    "embedding_df = pd.DataFrame( emb_target, columns=column_names)\n",
    "embedding_df.head()\n",
    "\n",
    "embedding_df.to_csv('umap_train_gray_small_hog_brisk.csv', index=False, header=True)  "
   ]
  },
  {
   "cell_type": "code",
   "execution_count": 37,
   "id": "2b2be032",
   "metadata": {},
   "outputs": [
    {
     "data": {
      "text/html": [
       "<div>\n",
       "<style scoped>\n",
       "    .dataframe tbody tr th:only-of-type {\n",
       "        vertical-align: middle;\n",
       "    }\n",
       "\n",
       "    .dataframe tbody tr th {\n",
       "        vertical-align: top;\n",
       "    }\n",
       "\n",
       "    .dataframe thead th {\n",
       "        text-align: right;\n",
       "    }\n",
       "</style>\n",
       "<table border=\"1\" class=\"dataframe\">\n",
       "  <thead>\n",
       "    <tr style=\"text-align: right;\">\n",
       "      <th></th>\n",
       "      <th>label</th>\n",
       "      <th>embedding x</th>\n",
       "      <th>embedding y</th>\n",
       "    </tr>\n",
       "  </thead>\n",
       "  <tbody>\n",
       "    <tr>\n",
       "      <th>0</th>\n",
       "      <td>0.0</td>\n",
       "      <td>9.754247</td>\n",
       "      <td>-6.922257</td>\n",
       "    </tr>\n",
       "    <tr>\n",
       "      <th>1</th>\n",
       "      <td>2.0</td>\n",
       "      <td>-1.047488</td>\n",
       "      <td>-1.155771</td>\n",
       "    </tr>\n",
       "    <tr>\n",
       "      <th>2</th>\n",
       "      <td>2.0</td>\n",
       "      <td>0.437209</td>\n",
       "      <td>0.162888</td>\n",
       "    </tr>\n",
       "    <tr>\n",
       "      <th>3</th>\n",
       "      <td>3.0</td>\n",
       "      <td>0.370313</td>\n",
       "      <td>-9.712300</td>\n",
       "    </tr>\n",
       "    <tr>\n",
       "      <th>4</th>\n",
       "      <td>1.0</td>\n",
       "      <td>6.782082</td>\n",
       "      <td>1.315297</td>\n",
       "    </tr>\n",
       "  </tbody>\n",
       "</table>\n",
       "</div>"
      ],
      "text/plain": [
       "   label  embedding x  embedding y\n",
       "0    0.0     9.754247    -6.922257\n",
       "1    2.0    -1.047488    -1.155771\n",
       "2    2.0     0.437209     0.162888\n",
       "3    3.0     0.370313    -9.712300\n",
       "4    1.0     6.782082     1.315297"
      ]
     },
     "execution_count": 37,
     "metadata": {},
     "output_type": "execute_result"
    }
   ],
   "source": [
    "embedding_df = pd.read_csv('umap_train_gray_small_hog_brisk.csv')\n",
    "embedding_df.head()"
   ]
  },
  {
   "cell_type": "markdown",
   "id": "83bb4e09",
   "metadata": {},
   "source": [
    "**Save UMAP Embedding**"
   ]
  },
  {
   "cell_type": "code",
   "execution_count": 38,
   "id": "1a873eba",
   "metadata": {},
   "outputs": [
    {
     "data": {
      "text/plain": [
       "['umap_model_gray_small_hog_brisk.pkl']"
      ]
     },
     "execution_count": 38,
     "metadata": {},
     "output_type": "execute_result"
    }
   ],
   "source": [
    "# Save the trained model\n",
    "import joblib\n",
    "joblib.dump(reducer, 'umap_model_gray_small_hog_brisk.pkl')\n",
    "\n"
   ]
  },
  {
   "cell_type": "markdown",
   "id": "7de2986a",
   "metadata": {},
   "source": [
    "### With Grayscale and HOG vector"
   ]
  },
  {
   "cell_type": "code",
   "execution_count": 16,
   "id": "85746d48",
   "metadata": {},
   "outputs": [],
   "source": [
    "final2_df = pd.concat([source_df, hog_df.iloc[:,1:]], axis=1)"
   ]
  },
  {
   "cell_type": "code",
   "execution_count": 17,
   "id": "cec096f8",
   "metadata": {},
   "outputs": [],
   "source": [
    "#data = source_df.iloc[:, :source_df.shape[1]].values.astype(np.float32)\n",
    "data2 = final2_df.iloc[:, 1:].values.astype(np.float32)\n",
    "target2 = final2_df['label'].values\n"
   ]
  },
  {
   "cell_type": "code",
   "execution_count": 20,
   "id": "809a7a4b",
   "metadata": {},
   "outputs": [
    {
     "data": {
      "image/png": "[encoded data removed]",
      "text/plain": [
       "<Figure size 432x432 with 1 Axes>"
      ]
     },
     "metadata": {},
     "output_type": "display_data"
    }
   ],
   "source": [
    "# Initialize UMAP\n",
    "reducer2 = umap.UMAP(n_neighbors = 30, random_state=42)\n",
    "#reducer = umap(random_state=42)\n",
    "\n",
    "\n",
    "# Fit and transform the data\n",
    "embedding2 = reducer2.fit_transform(data2)\n",
    "\n",
    "# Prepare the data for visualization\n",
    "df = pd.DataFrame(embedding2, columns=('x', 'y'))\n",
    "\n",
    "df['class'] = pd.Series([str(x) for x in target2], dtype=\"category\")\n",
    "\n",
    "# Visualize the data using datashader\n",
    "\n",
    "cvs = ds.Canvas(plot_width=100, plot_height=100)\n",
    "agg = cvs.points(df, 'x', 'y', ds.count_cat('class'))\n",
    "img = tf.shade(agg, color_key=color_key, how='eq_hist')\n",
    "utils.export_image(img, filename='gray_small_hog_30', background='white')\n",
    "\n",
    "# Display the image\n",
    "image = plt.imread('gray_small_hog_30.png')\n",
    "fig, ax = plt.subplots(figsize=(6, 6))\n",
    "plt.imshow(image)\n",
    "plt.setp(ax, xticks=[], yticks=[])\n",
    "plt.title(\"Reduced Gray Image Mapped Into 2 dimensions by UMAP w n=30, using HOG \", fontsize=12)\n",
    "plt.show()\n",
    "\n",
    "\n"
   ]
  },
  {
   "cell_type": "markdown",
   "id": "f7889350",
   "metadata": {},
   "source": [
    "**The above results are almost identical then without includeing HOG feature.**"
   ]
  },
  {
   "cell_type": "markdown",
   "id": "a773d45a",
   "metadata": {},
   "source": [
    "### Mapping HOG Features Only"
   ]
  },
  {
   "cell_type": "code",
   "execution_count": 26,
   "id": "93a31f70",
   "metadata": {},
   "outputs": [],
   "source": [
    "color_key2 = {\n",
    "    \"0.0\": \"#FF0000\",  # Bright Red, Pants\n",
    "    \"1.0\": \"#00FF00\",  # Bright Green, T-shirts\n",
    "    \"2.0\": \"#0000FF\",  # Bright Blue, Watches\n",
    "    \"3.0\": \"#FFFF00\",  # Bright Yellow, Casual Shoes\n",
    "\n",
    "}"
   ]
  },
  {
   "cell_type": "code",
   "execution_count": 21,
   "id": "589540cf",
   "metadata": {},
   "outputs": [],
   "source": [
    "#final_df = pd.concat([source_df, hog_df.iloc[:,1:]], axis=1)\n",
    "#data = source_df.iloc[:, :source_df.shape[1]].values.astype(np.float32)\n",
    "data2 = hog_df.iloc[:, 1:].values.astype(np.float32)\n",
    "target2 = hog_df['label'].values"
   ]
  },
  {
   "cell_type": "code",
   "execution_count": 27,
   "id": "af9b9613",
   "metadata": {},
   "outputs": [
    {
     "data": {
      "image/png": "[encoded data removed]",
      "text/plain": [
       "<Figure size 432x432 with 1 Axes>"
      ]
     },
     "metadata": {},
     "output_type": "display_data"
    }
   ],
   "source": [
    "# Initialize UMAP\n",
    "reducer2 = umap.UMAP(n_neighbors = 30, random_state=42)\n",
    "#reducer = umap(random_state=42)\n",
    "\n",
    "\n",
    "# Fit and transform the data\n",
    "embedding2 = reducer2.fit_transform(data2)\n",
    "\n",
    "# Prepare the data for visualization\n",
    "df = pd.DataFrame(embedding2, columns=('x', 'y'))\n",
    "\n",
    "df['class'] = pd.Series([str(x) for x in target2], dtype=\"category\")\n",
    "\n",
    "# Visualize the data using datashader\n",
    "\n",
    "cvs = ds.Canvas(plot_width=100, plot_height=100)\n",
    "agg = cvs.points(df, 'x', 'y', ds.count_cat('class'))\n",
    "img = tf.shade(agg, color_key=color_key2, how='eq_hist')\n",
    "utils.export_image(img, filename='umap_hog_30', background='white')\n",
    "\n",
    "# Display the image\n",
    "image = plt.imread('umap_hog_30.png')\n",
    "fig, ax = plt.subplots(figsize=(6, 6))\n",
    "plt.imshow(image)\n",
    "plt.setp(ax, xticks=[], yticks=[])\n",
    "plt.title(\"HOG Features mapped into 2 dimensions by UMAP w n=30 \", fontsize=12)\n",
    "plt.show()\n",
    "\n",
    "\n"
   ]
  },
  {
   "cell_type": "markdown",
   "id": "1fa0fcbb",
   "metadata": {},
   "source": [
    "**The HOG features by themeselves provide clear and better seperation of clusters**"
   ]
  },
  {
   "cell_type": "markdown",
   "id": "8a38af70",
   "metadata": {},
   "source": [
    "## BRISK UMAP Mapping by itself"
   ]
  },
  {
   "cell_type": "code",
   "execution_count": 28,
   "id": "a4e7d81b",
   "metadata": {},
   "outputs": [],
   "source": [
    "#final_df = pd.concat([source_df, hog_df.iloc[:,1:]], axis=1)\n",
    "#data = source_df.iloc[:, :source_df.shape[1]].values.astype(np.float32)\n",
    "data2 = brisk_df.iloc[:, 1:].values.astype(np.float32)\n",
    "target2 = brisk_df['label'].values"
   ]
  },
  {
   "cell_type": "code",
   "execution_count": 30,
   "id": "564e6693",
   "metadata": {},
   "outputs": [
    {
     "data": {
      "image/png": "[encoded data removed]",
      "text/plain": [
       "<Figure size 432x432 with 1 Axes>"
      ]
     },
     "metadata": {},
     "output_type": "display_data"
    }
   ],
   "source": [
    "# Initialize UMAP\n",
    "reducer2 = umap.UMAP(n_neighbors = 30, random_state=42)\n",
    "#reducer = umap(random_state=42)\n",
    "\n",
    "\n",
    "# Fit and transform the data\n",
    "embedding2 = reducer2.fit_transform(data2)\n",
    "\n",
    "# Prepare the data for visualization\n",
    "df = pd.DataFrame(embedding2, columns=('x', 'y'))\n",
    "\n",
    "df['class'] = pd.Series([str(x) for x in target2], dtype=\"category\")\n",
    "\n",
    "# Visualize the data using datashader\n",
    "\n",
    "cvs = ds.Canvas(plot_width=100, plot_height=100)\n",
    "agg = cvs.points(df, 'x', 'y', ds.count_cat('class'))\n",
    "img = tf.shade(agg, color_key=color_key, how='eq_hist')\n",
    "utils.export_image(img, filename='umap_brisk_30', background='white')\n",
    "\n",
    "# Display the image\n",
    "image = plt.imread('umap_brisk_30.png')\n",
    "fig, ax = plt.subplots(figsize=(6, 6))\n",
    "plt.imshow(image)\n",
    "plt.setp(ax, xticks=[], yticks=[])\n",
    "plt.title(\"BRISK Features mapped into 2 dimensions by UMAP w n=30 \", fontsize=12)\n",
    "plt.show()\n",
    "\n",
    "\n"
   ]
  },
  {
   "cell_type": "markdown",
   "id": "45b7a026",
   "metadata": {},
   "source": [
    "**BRISC does not provide any useful clustering**"
   ]
  }
 ],
 "metadata": {
  "kernelspec": {
   "display_name": "Python 3 (ipykernel)",
   "language": "python",
   "name": "python3"
  },
  "language_info": {
   "codemirror_mode": {
    "name": "ipython",
    "version": 3
   },
   "file_extension": ".py",
   "mimetype": "text/x-python",
   "name": "python",
   "nbconvert_exporter": "python",
   "pygments_lexer": "ipython3",
   "version": "3.9.12"
  }
 },
 "nbformat": 4,
 "nbformat_minor": 5
}
